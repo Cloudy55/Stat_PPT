{
 "cells": [
  {
   "cell_type": "code",
   "execution_count": 1,
   "metadata": {},
   "outputs": [],
   "source": [
    "import numpy as np"
   ]
  },
  {
   "cell_type": "code",
   "execution_count": 11,
   "metadata": {},
   "outputs": [],
   "source": [
    "#数据\n",
    "x1 = np.array([100,80,120,75,60,43,140,132,63,55,74,44,88,20,5,6,15,35,22])\n",
    "x2 = np.array([-20, -17, -24, -16, -15, -9, -28, -29, -11, -12,-15, -8, -19,35,40,5,5,20,-3])\n",
    "x = zip(x1,x2)\n",
    "y = np.array([120, 92, 144, 86, 60, 50, 168, 148, 82, 62, 88, 56, 100,180,170,32,50,150,32])"
   ]
  },
  {
   "cell_type": "code",
   "execution_count": 3,
   "metadata": {},
   "outputs": [],
   "source": [
    "def target_fn(x,y,theta):\n",
    "    return (np.dot(theta,x)-y)**2"
   ]
  },
  {
   "cell_type": "code",
   "execution_count": 4,
   "metadata": {},
   "outputs": [],
   "source": [
    "def gradient_fn(x,y,theta):\n",
    "    return (np.dot(theta,x)-y)*np.array(x)"
   ]
  },
  {
   "cell_type": "code",
   "execution_count": 5,
   "metadata": {},
   "outputs": [],
   "source": [
    "def BGD(target_fn, gradient_fn, x, y,theta_0, alpha_0=0.00001):\n",
    "    data = list(zip(x, y))\n",
    "    n = len(y)\n",
    "    theta = theta_0 # 初始值猜测\n",
    "    alpha = alpha_0 # 初始步长\n",
    "    min_theta, min_value = None, float(\"inf\") # min_value初始值为正无穷\n",
    "    count = 0\n",
    "    # 如果循环超过100次仍无改进，停止\n",
    "    while count < 200:\n",
    "        value = sum( target_fn(xi, yi, theta) for xi, yi in data )\n",
    "        if value < min_value:\n",
    "            # 如果找到新的最小值，记住它\n",
    "            min_theta, min_value = theta, value\n",
    "            count = 0\n",
    "            alpha = alpha_0\n",
    "        else:\n",
    "            # 尝试缩小步长改进\n",
    "            count += 1\n",
    "            alpha *= 0.5\n",
    "        # 在每个数据点上向梯度方向前进一步\n",
    "        gradient = sum(gradient_fn(xi, yi, theta) for xi,yi in data)\n",
    "        theta -= alpha*gradient\n",
    "    return min_theta"
   ]
  },
  {
   "cell_type": "code",
   "execution_count": 6,
   "metadata": {},
   "outputs": [
    {
     "data": {
      "text/plain": [
       "array([2., 4.])"
      ]
     },
     "execution_count": 6,
     "metadata": {},
     "output_type": "execute_result"
    }
   ],
   "source": [
    "BGD(target_fn, gradient_fn, x, y,theta_0 = [1,1])"
   ]
  },
  {
   "cell_type": "code",
   "execution_count": 7,
   "metadata": {},
   "outputs": [],
   "source": [
    "def SGD(target_fn, gradient_fn, x, y,theta_0, alpha_0=0.0001):\n",
    "    data = list(zip(x, y))\n",
    "    n = len(y)\n",
    "    theta = theta_0 # 初始值猜测\n",
    "    alpha = alpha_0 # 初始步长\n",
    "    min_theta, min_value = None, float(\"inf\") # min_value初始值为正无穷\n",
    "    count = 0\n",
    "    # 如果循环超过200次仍无改进，停止\n",
    "    while count < 200:\n",
    "        value = sum( target_fn(xi, yi, theta) for xi, yi in data )\n",
    "        if value < min_value:\n",
    "            # 如果找到新的最小值，则替换\n",
    "            min_theta, min_value = theta, value\n",
    "            count = 0\n",
    "            alpha = alpha_0\n",
    "        else:\n",
    "            # 尝试缩小步长改进\n",
    "            count += 1\n",
    "            alpha *= 0.8\n",
    "        # 向负梯度方向前进\n",
    "        i = np.random.randint(0,n)\n",
    "        xi,yi = data[i]\n",
    "        gradient_i = gradient_fn(xi, yi, theta)\n",
    "        theta -= alpha*gradient_i\n",
    "    return min_theta"
   ]
  },
  {
   "cell_type": "code",
   "execution_count": 12,
   "metadata": {},
   "outputs": [
    {
     "data": {
      "text/plain": [
       "array([1.99993821, 3.9998383 ])"
      ]
     },
     "execution_count": 12,
     "metadata": {},
     "output_type": "execute_result"
    }
   ],
   "source": [
    "SGD(target_fn, gradient_fn, x, y,theta_0 = [1,1],alpha_0=0.0005)"
   ]
  }
 ],
 "metadata": {
  "kernelspec": {
   "display_name": "Python 3",
   "language": "python",
   "name": "python3"
  },
  "language_info": {
   "codemirror_mode": {
    "name": "ipython",
    "version": 3
   },
   "file_extension": ".py",
   "mimetype": "text/x-python",
   "name": "python",
   "nbconvert_exporter": "python",
   "pygments_lexer": "ipython3",
   "version": "3.7.3"
  }
 },
 "nbformat": 4,
 "nbformat_minor": 2
}
