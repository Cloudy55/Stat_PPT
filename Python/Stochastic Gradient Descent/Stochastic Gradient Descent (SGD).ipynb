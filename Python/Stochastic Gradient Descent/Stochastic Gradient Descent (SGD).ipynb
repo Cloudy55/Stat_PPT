{
 "cells": [
  {
   "cell_type": "code",
   "execution_count": 1,
   "metadata": {},
   "outputs": [],
   "source": [
    "#数据\n",
    "x1 = [100,80,120,75,60,43,140,132,63,55,74,44,88]\n",
    "x2 = [-20, -17, -24, -16, -15, -9, -28, -29, -11, -12,-15, -8, -19]\n",
    "y = [120, 92, 144, 86, 60, 50, 168, 148, 82, 62, 88, 56, 100]\n",
    "import numpy as np\n",
    "x = np.array([x1,x2])"
   ]
  },
  {
   "cell_type": "code",
   "execution_count": 2,
   "metadata": {},
   "outputs": [],
   "source": [
    "def SGD(x,y,alpha = 0.0001,max_iter_count=100000):\n",
    "    \n",
    "    import numpy as np\n",
    "    \n",
    "    #计算样本个数\n",
    "    m = len(x[1,:])\n",
    "    #计算自变量个数\n",
    "    n = len(x[:,1])\n",
    "    #退出迭代的epsilon值\n",
    "    epsilon = 0.001\n",
    "    #初始化参数的值，拟合函数为 y=theta1*x1+...+thetan*xn\n",
    "    theta = np.ones(n)    \n",
    "    #初始化误差值\n",
    "    error = 100\n",
    "    #初始化计数值\n",
    "    iter_count = 0\n",
    "    while error > epsilon and iter_count < max_iter_count:\n",
    "        i = np.random.randint(m)\n",
    "        theta -= alpha*(np.dot(theta,x[:,i]) - y[i]) * x[:,i]\n",
    "        error = sum((np.dot(theta,x) - y)**2)\n",
    "        iter_count += 1\n",
    "    result = \"theta=%s  error=%s  iter_count=%s\"%(theta,error,iter_count)\n",
    "    return result"
   ]
  },
  {
   "cell_type": "code",
   "execution_count": 3,
   "metadata": {},
   "outputs": [
    {
     "data": {
      "text/plain": [
       "'theta=[1.99847317 3.99267777]  error=0.0009990773807476891  iter_count=44296'"
      ]
     },
     "execution_count": 3,
     "metadata": {},
     "output_type": "execute_result"
    }
   ],
   "source": [
    "SGD(x,y)"
   ]
  }
 ],
 "metadata": {
  "kernelspec": {
   "display_name": "Python 3",
   "language": "python",
   "name": "python3"
  },
  "language_info": {
   "codemirror_mode": {
    "name": "ipython",
    "version": 3
   },
   "file_extension": ".py",
   "mimetype": "text/x-python",
   "name": "python",
   "nbconvert_exporter": "python",
   "pygments_lexer": "ipython3",
   "version": "3.7.3"
  }
 },
 "nbformat": 4,
 "nbformat_minor": 2
}
