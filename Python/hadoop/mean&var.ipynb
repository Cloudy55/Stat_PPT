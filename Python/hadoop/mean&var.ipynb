{
 "cells": [
  {
   "cell_type": "code",
   "execution_count": 2,
   "metadata": {},
   "outputs": [],
   "source": [
    "import numpy as np\n",
    "import time"
   ]
  },
  {
   "cell_type": "markdown",
   "metadata": {},
   "source": [
    "## 均值 "
   ]
  },
  {
   "cell_type": "code",
   "execution_count": 42,
   "metadata": {},
   "outputs": [],
   "source": [
    "x = np.random.randint(1,100,10000000)  #一千万个数据 \n",
    "y = x.reshape(100,-1)  #划分为100行"
   ]
  },
  {
   "cell_type": "code",
   "execution_count": 43,
   "metadata": {},
   "outputs": [
    {
     "name": "stdout",
     "output_type": "stream",
     "text": [
      "Time used: 0.00016738632995384251\n"
     ]
    }
   ],
   "source": [
    "start = time.perf_counter()  #返回性能计数器的值,参考点未定义，因此需要调用两次求差值【time.time()方法返回自纪元以来的秒数作为浮点数】\n",
    "\n",
    "y_mean = np.mean(y,axis=1) #axis=1按行求均值，axis=0按列求均值\n",
    "\n",
    "med = time.perf_counter()\n",
    "\n",
    "mu = np.mean(y_mean) \n",
    "\n",
    "elapsed = (time.perf_counter() - med + (med - start)/100 )\n",
    "\n",
    "print(\"Time used:\",elapsed)"
   ]
  },
  {
   "cell_type": "code",
   "execution_count": 44,
   "metadata": {},
   "outputs": [
    {
     "name": "stdout",
     "output_type": "stream",
     "text": [
      "Time used: 0.009179489999951329\n"
     ]
    }
   ],
   "source": [
    "start = time.perf_counter()\n",
    "\n",
    "mu0 = np.mean(x)\n",
    "\n",
    "elapsed = (time.perf_counter() - start)\n",
    "\n",
    "print(\"Time used:\",elapsed)"
   ]
  },
  {
   "cell_type": "code",
   "execution_count": 45,
   "metadata": {},
   "outputs": [
    {
     "data": {
      "text/plain": [
       "(50.00248550000001, 50.0024855)"
      ]
     },
     "execution_count": 45,
     "metadata": {},
     "output_type": "execute_result"
    }
   ],
   "source": [
    "mu,mu0"
   ]
  },
  {
   "cell_type": "markdown",
   "metadata": {},
   "source": [
    "为排除偶然性，进行多次测试，取平均值"
   ]
  },
  {
   "cell_type": "code",
   "execution_count": 46,
   "metadata": {},
   "outputs": [],
   "source": [
    "time1 = np.array([])\n",
    "time2 = np.array([])\n",
    "\n",
    "for i in range(50):\n",
    "    x = np.random.randint(1,100,10000000)  \n",
    "    y = x.reshape(100,-1)\n",
    "    \n",
    "    start = time.perf_counter()\n",
    "    y_mean = np.mean(y,axis=1)\n",
    "    med = time.perf_counter()\n",
    "    mu = np.mean(y_mean) \n",
    "    elapsed = (time.perf_counter() - med + (med - start)/100 )\n",
    "    time1 = np.append(time1,elapsed)\n",
    "    \n",
    "    start = time.perf_counter()\n",
    "    mu0 = np.mean(x)\n",
    "    elapsed = (time.perf_counter() - start)\n",
    "    time2 = np.append(time2,elapsed)"
   ]
  },
  {
   "cell_type": "code",
   "execution_count": 47,
   "metadata": {},
   "outputs": [
    {
     "data": {
      "text/plain": [
       "(0.00010042221561843688, 0.007356227659975048)"
      ]
     },
     "execution_count": 47,
     "metadata": {},
     "output_type": "execute_result"
    }
   ],
   "source": [
    "time1.mean(),time2.mean()"
   ]
  },
  {
   "cell_type": "markdown",
   "metadata": {},
   "source": [
    "## 方差 "
   ]
  },
  {
   "cell_type": "markdown",
   "metadata": {},
   "source": [
    "总离差平方和(SST)=组内平方和（SSE)+组间平方和（SSA)"
   ]
  },
  {
   "cell_type": "markdown",
   "metadata": {},
   "source": [
    "\\begin{align}\n",
    "SST &= \\sum_{i=1}^m\\sum_{j=1}^n(x_{ij}-\\bar x)^2 \\\\\n",
    "&= \\sum_{i=1}^m\\sum_{j=1}^n(x_{ij}-\\bar x_i+\\bar x_i-\\bar x)^2 \\\\ \n",
    "&= \\sum_{i=1}^m\\sum_{j=1}^n(x_{ij}-\\bar x_i)^2 +\\sum_{i=1}^m\\sum_{j=1}^n(\\bar x_i-\\bar x)^2 + \\sum_{i=1}^m\\sum_{j=1}^n2(x_{ij}-\\bar x_i)(\\bar x_i-\\bar x)\\\\\n",
    "&= \\sum_{i=1}^m\\sum_{j=1}^n(x_{ij}-\\bar x_i)^2 +\\sum_{i=1}^m\\sum_{j=1}^n(\\bar x_i-\\bar x)^2+ 2\\sum_{i=1}^m(\\bar x_i-\\bar x)\\sum_{j=1}^n(x_{ij}-\\bar x_i) \\\\\n",
    "&= \\sum_{i=1}^m\\sum_{j=1}^n(x_{ij}-\\bar x_i)^2 +\\sum_{i=1}^m\\sum_{j=1}^n(\\bar x_i-\\bar x)^2 \\\\\n",
    "&= SSE+SSA \\\\\n",
    "&= \\sum_{i=1}^m{n*y_{var}} +\\sum_{i=1}^m{n(\\bar y_i-\\bar y)^2} \\\\\n",
    "&= n*sum(y_{var})+mn*var(y_{mean}) \\\\\n",
    "∴ Var(y) &= sum(y_{var})/m+var(y_{mean})\n",
    "\\end{align}"
   ]
  },
  {
   "cell_type": "code",
   "execution_count": 29,
   "metadata": {},
   "outputs": [],
   "source": [
    "x = np.random.randint(1,100,10000000)  #一千万个数据 \n",
    "y = x.reshape(100,-1)  #划分为100行"
   ]
  },
  {
   "cell_type": "code",
   "execution_count": 39,
   "metadata": {},
   "outputs": [
    {
     "name": "stdout",
     "output_type": "stream",
     "text": [
      "Time used: 0.0010685361199057296\n"
     ]
    }
   ],
   "source": [
    "start = time.perf_counter() \n",
    "\n",
    "y_mean = np.mean(y, axis = 1)\n",
    "y_var = np.var(y, axis = 1)#求方差(默认有偏，加入参数ddof=1为无偏)【np.std(x)求标准差】\n",
    "\n",
    "med = time.perf_counter()\n",
    "\n",
    "var = sum(y_var)/100 + np.var(y_mean)\n",
    "\n",
    "elapsed = (time.perf_counter() - med + (med - start)/100 )\n",
    "\n",
    "print(\"Time used:\",elapsed)"
   ]
  },
  {
   "cell_type": "code",
   "execution_count": 40,
   "metadata": {},
   "outputs": [
    {
     "name": "stdout",
     "output_type": "stream",
     "text": [
      "Time used: 0.07718852700008938\n"
     ]
    }
   ],
   "source": [
    "start = time.perf_counter()\n",
    "\n",
    "var0 = np.var(x)\n",
    "\n",
    "elapsed = (time.perf_counter() - start)\n",
    "\n",
    "print(\"Time used:\",elapsed)"
   ]
  },
  {
   "cell_type": "code",
   "execution_count": 41,
   "metadata": {},
   "outputs": [
    {
     "data": {
      "text/plain": [
       "(816.5360860262758, 816.5360860262756)"
      ]
     },
     "execution_count": 41,
     "metadata": {},
     "output_type": "execute_result"
    }
   ],
   "source": [
    "var,var0"
   ]
  },
  {
   "cell_type": "markdown",
   "metadata": {},
   "source": [
    "为排除偶然性，进行多次测试，取平均值"
   ]
  },
  {
   "cell_type": "code",
   "execution_count": 35,
   "metadata": {},
   "outputs": [],
   "source": [
    "time1 = np.array([])\n",
    "time2 = np.array([])\n",
    "\n",
    "for i in range(50):\n",
    "    x = np.random.randint(1,100,10000000)  \n",
    "    y = x.reshape(100,-1)\n",
    "    \n",
    "    start = time.perf_counter()\n",
    "    y_mean = np.mean(y, axis = 1)\n",
    "    y_var = np.var(y, axis = 1)\n",
    "    med = time.perf_counter()\n",
    "    var = sum(y_var)/100 + np.var(y_mean)\n",
    "    elapsed = (time.perf_counter() - med + (med - start)/100 )\n",
    "    time1 = np.append(time1,elapsed)\n",
    "    \n",
    "    start = time.perf_counter()\n",
    "    mu0 = np.var(x)\n",
    "    elapsed = (time.perf_counter() - start)\n",
    "    time2 = np.append(time2,elapsed)"
   ]
  },
  {
   "cell_type": "code",
   "execution_count": 36,
   "metadata": {},
   "outputs": [
    {
     "data": {
      "text/plain": [
       "(0.0009644215281914513, 0.07822713540001132)"
      ]
     },
     "execution_count": 36,
     "metadata": {},
     "output_type": "execute_result"
    }
   ],
   "source": [
    "time1.mean(),time2.mean()"
   ]
  },
  {
   "cell_type": "code",
   "execution_count": null,
   "metadata": {},
   "outputs": [],
   "source": []
  }
 ],
 "metadata": {
  "kernelspec": {
   "display_name": "Python 3",
   "language": "python",
   "name": "python3"
  },
  "language_info": {
   "codemirror_mode": {
    "name": "ipython",
    "version": 3
   },
   "file_extension": ".py",
   "mimetype": "text/x-python",
   "name": "python",
   "nbconvert_exporter": "python",
   "pygments_lexer": "ipython3",
   "version": "3.7.3"
  }
 },
 "nbformat": 4,
 "nbformat_minor": 2
}
