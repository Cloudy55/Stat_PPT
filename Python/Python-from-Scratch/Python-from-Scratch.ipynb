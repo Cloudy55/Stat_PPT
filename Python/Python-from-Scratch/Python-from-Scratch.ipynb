{
 "cells": [
  {
   "cell_type": "markdown",
   "metadata": {
    "slideshow": {
     "slide_type": "slide"
    }
   },
   "source": [
    "# Python-from-Scratch"
   ]
  },
  {
   "cell_type": "markdown",
   "metadata": {
    "slideshow": {
     "slide_type": "slide"
    }
   },
   "source": [
    "## 关于Python\n",
    "\n",
    "### Python简介\n",
    "\n",
    "Python是一种被广泛使用的高级编程语言，它的设计理念强调代码可读性，同时其语言也具有简洁性，允许程序员用更少的代码来表达概念。Python支持多种编程范式，包括面向对象的、命令式、函数式编程或面向过程的编程。它具有庞大而全面的标准库，可以轻易完成各种高级任务。"
   ]
  },
  {
   "cell_type": "markdown",
   "metadata": {
    "slideshow": {
     "slide_type": "subslide"
    }
   },
   "source": [
    "### 下载与安装 \n",
    "\n",
    "目前Python有两个版本，一个是2.x版，一个是3.x版，且两个版本不兼容。由于3.x版越来越普及，所以本教程将以最新版本Python3.7为基础。\n",
    "\n",
    "在Linux上，通常默认安装Python；\n",
    "\n",
    "在Mac系统上，如果系统自带不是3.7版本，可从Python官网下载安装；（https://www.python.org/）\n",
    "\n",
    "在Windows系统上，建议安装Anaconda，它是一个开源的Python发行版本。（https://www.anaconda.com/）"
   ]
  },
  {
   "cell_type": "markdown",
   "metadata": {
    "slideshow": {
     "slide_type": "subslide"
    }
   },
   "source": [
    "### 运行Python\n",
    "\n",
    "Python安装成功后，打开命令提示符窗口，输入python后，看到提示符变为“>>>”就表示我们已经在Python交互式环境中了，可以输入任何Python代码，回车后会立刻得到执行结果。\n",
    "\n",
    "输入exit()并回车，可以退出Python交互式环境（直接关掉命令行窗口也可以）。"
   ]
  },
  {
   "cell_type": "markdown",
   "metadata": {
    "slideshow": {
     "slide_type": "slide"
    }
   },
   "source": [
    "## 基本运算"
   ]
  },
  {
   "cell_type": "code",
   "execution_count": 3,
   "metadata": {
    "slideshow": {
     "slide_type": "fragment"
    }
   },
   "outputs": [
    {
     "data": {
      "text/plain": [
       "7"
      ]
     },
     "execution_count": 3,
     "metadata": {},
     "output_type": "execute_result"
    }
   ],
   "source": [
    "5 + 2"
   ]
  },
  {
   "cell_type": "code",
   "execution_count": 4,
   "metadata": {
    "slideshow": {
     "slide_type": "fragment"
    }
   },
   "outputs": [
    {
     "data": {
      "text/plain": [
       "3"
      ]
     },
     "execution_count": 4,
     "metadata": {},
     "output_type": "execute_result"
    }
   ],
   "source": [
    "5 - 2"
   ]
  },
  {
   "cell_type": "code",
   "execution_count": 11,
   "metadata": {
    "slideshow": {
     "slide_type": "fragment"
    }
   },
   "outputs": [
    {
     "data": {
      "text/plain": [
       "10"
      ]
     },
     "execution_count": 11,
     "metadata": {},
     "output_type": "execute_result"
    }
   ],
   "source": [
    "5 * 2"
   ]
  },
  {
   "cell_type": "code",
   "execution_count": 12,
   "metadata": {
    "slideshow": {
     "slide_type": "fragment"
    }
   },
   "outputs": [
    {
     "data": {
      "text/plain": [
       "25"
      ]
     },
     "execution_count": 12,
     "metadata": {},
     "output_type": "execute_result"
    }
   ],
   "source": [
    "5 ** 2  #幂"
   ]
  },
  {
   "cell_type": "markdown",
   "metadata": {
    "slideshow": {
     "slide_type": "subslide"
    }
   },
   "source": [
    "注意：在Python中符号(^)的用法不再是求幂，而是“异或”,用于逻辑运算。"
   ]
  },
  {
   "cell_type": "code",
   "execution_count": 13,
   "metadata": {
    "slideshow": {
     "slide_type": "fragment"
    }
   },
   "outputs": [
    {
     "data": {
      "text/plain": [
       "7"
      ]
     },
     "execution_count": 13,
     "metadata": {},
     "output_type": "execute_result"
    }
   ],
   "source": [
    "5 ^ 2"
   ]
  },
  {
   "cell_type": "code",
   "execution_count": 14,
   "metadata": {
    "slideshow": {
     "slide_type": "subslide"
    }
   },
   "outputs": [
    {
     "data": {
      "text/plain": [
       "2.5"
      ]
     },
     "execution_count": 14,
     "metadata": {},
     "output_type": "execute_result"
    }
   ],
   "source": [
    "5 / 2  #注意：两个整型数相除的结果是实型"
   ]
  },
  {
   "cell_type": "code",
   "execution_count": 19,
   "metadata": {
    "slideshow": {
     "slide_type": "fragment"
    }
   },
   "outputs": [
    {
     "data": {
      "text/plain": [
       "2"
      ]
     },
     "execution_count": 19,
     "metadata": {},
     "output_type": "execute_result"
    }
   ],
   "source": [
    "5 // 2  #地板除，即只取结果的整数部分"
   ]
  },
  {
   "cell_type": "code",
   "execution_count": 6,
   "metadata": {
    "slideshow": {
     "slide_type": "fragment"
    }
   },
   "outputs": [
    {
     "data": {
      "text/plain": [
       "1"
      ]
     },
     "execution_count": 6,
     "metadata": {},
     "output_type": "execute_result"
    }
   ],
   "source": [
    "5 % 2  #取余"
   ]
  },
  {
   "cell_type": "code",
   "execution_count": 7,
   "metadata": {
    "slideshow": {
     "slide_type": "fragment"
    }
   },
   "outputs": [
    {
     "data": {
      "text/plain": [
       "4"
      ]
     },
     "execution_count": 7,
     "metadata": {},
     "output_type": "execute_result"
    }
   ],
   "source": [
    "_ + 3  #在Python中，\"_\"可用于调用上次的结果"
   ]
  },
  {
   "cell_type": "markdown",
   "metadata": {
    "slideshow": {
     "slide_type": "slide"
    }
   },
   "source": [
    "## 数据类型"
   ]
  },
  {
   "cell_type": "markdown",
   "metadata": {
    "slideshow": {
     "slide_type": "fragment"
    }
   },
   "source": [
    "### 字符串"
   ]
  },
  {
   "cell_type": "code",
   "execution_count": 8,
   "metadata": {
    "slideshow": {
     "slide_type": "fragment"
    }
   },
   "outputs": [
    {
     "data": {
      "text/plain": [
       "'Li Feng'"
      ]
     },
     "execution_count": 8,
     "metadata": {},
     "output_type": "execute_result"
    }
   ],
   "source": [
    "a = \"Li Feng\"\n",
    "a"
   ]
  },
  {
   "cell_type": "code",
   "execution_count": 27,
   "metadata": {
    "slideshow": {
     "slide_type": "fragment"
    }
   },
   "outputs": [
    {
     "data": {
      "text/plain": [
       "str"
      ]
     },
     "execution_count": 27,
     "metadata": {},
     "output_type": "execute_result"
    }
   ],
   "source": [
    "type(a)  #type()用于求数据类型"
   ]
  },
  {
   "cell_type": "code",
   "execution_count": 34,
   "metadata": {
    "slideshow": {
     "slide_type": "fragment"
    }
   },
   "outputs": [
    {
     "data": {
      "text/plain": [
       "7"
      ]
     },
     "execution_count": 34,
     "metadata": {},
     "output_type": "execute_result"
    }
   ],
   "source": [
    "len(a)   #len()用于求字符串包含多少个字符"
   ]
  },
  {
   "cell_type": "code",
   "execution_count": 9,
   "metadata": {
    "slideshow": {
     "slide_type": "subslide"
    }
   },
   "outputs": [
    {
     "data": {
      "text/plain": [
       "'L'"
      ]
     },
     "execution_count": 9,
     "metadata": {},
     "output_type": "execute_result"
    }
   ],
   "source": [
    "a = \"Li Feng\"\n",
    "a[0]  #索引从0开始"
   ]
  },
  {
   "cell_type": "code",
   "execution_count": 35,
   "metadata": {
    "slideshow": {
     "slide_type": "fragment"
    }
   },
   "outputs": [
    {
     "data": {
      "text/plain": [
       "'n'"
      ]
     },
     "execution_count": 35,
     "metadata": {},
     "output_type": "execute_result"
    }
   ],
   "source": [
    "a[-2]  #负号表示倒数，即从右往左数"
   ]
  },
  {
   "cell_type": "code",
   "execution_count": 37,
   "metadata": {
    "slideshow": {
     "slide_type": "fragment"
    }
   },
   "outputs": [
    {
     "data": {
      "text/plain": [
       "'Fe'"
      ]
     },
     "execution_count": 37,
     "metadata": {},
     "output_type": "execute_result"
    }
   ],
   "source": [
    "a[3:5]  #[3:5]处理为[3,5)"
   ]
  },
  {
   "cell_type": "code",
   "execution_count": 36,
   "metadata": {
    "slideshow": {
     "slide_type": "fragment"
    }
   },
   "outputs": [
    {
     "data": {
      "text/plain": [
       "'Feng'"
      ]
     },
     "execution_count": 36,
     "metadata": {},
     "output_type": "execute_result"
    }
   ],
   "source": [
    "a[3:100]  #超出索引的部分忽略"
   ]
  },
  {
   "cell_type": "code",
   "execution_count": 33,
   "metadata": {
    "slideshow": {
     "slide_type": "fragment"
    }
   },
   "outputs": [
    {
     "data": {
      "text/plain": [
       "'Feng'"
      ]
     },
     "execution_count": 33,
     "metadata": {},
     "output_type": "execute_result"
    }
   ],
   "source": [
    "a[3:]"
   ]
  },
  {
   "cell_type": "markdown",
   "metadata": {
    "slideshow": {
     "slide_type": "subslide"
    }
   },
   "source": [
    "字符串可以用加号连接，也可以与数字相乘，得到若干个一样的字符串"
   ]
  },
  {
   "cell_type": "code",
   "execution_count": 21,
   "metadata": {
    "slideshow": {
     "slide_type": "fragment"
    }
   },
   "outputs": [
    {
     "data": {
      "text/plain": [
       "'Li   Feng'"
      ]
     },
     "execution_count": 21,
     "metadata": {},
     "output_type": "execute_result"
    }
   ],
   "source": [
    "b = \"Li\"+\" \"*3+\"Feng\"\n",
    "b"
   ]
  },
  {
   "cell_type": "code",
   "execution_count": 20,
   "metadata": {
    "slideshow": {
     "slide_type": "fragment"
    }
   },
   "outputs": [
    {
     "data": {
      "text/plain": [
       "'666'"
      ]
     },
     "execution_count": 20,
     "metadata": {},
     "output_type": "execute_result"
    }
   ],
   "source": [
    "'6' * 3"
   ]
  },
  {
   "cell_type": "code",
   "execution_count": 21,
   "metadata": {
    "slideshow": {
     "slide_type": "subslide"
    }
   },
   "outputs": [
    {
     "name": "stdout",
     "output_type": "stream",
     "text": [
      "Li Feng\n"
     ]
    }
   ],
   "source": [
    "print(\"Li Feng\")"
   ]
  },
  {
   "cell_type": "code",
   "execution_count": 1,
   "metadata": {
    "slideshow": {
     "slide_type": "fragment"
    }
   },
   "outputs": [
    {
     "name": "stdout",
     "output_type": "stream",
     "text": [
      "Hello \n",
      " World!\n"
     ]
    }
   ],
   "source": [
    "print(\"Hello \\n World!\")  #'\\n'为特殊字符，表示换行"
   ]
  },
  {
   "cell_type": "code",
   "execution_count": 38,
   "metadata": {
    "scrolled": true,
    "slideshow": {
     "slide_type": "fragment"
    }
   },
   "outputs": [
    {
     "name": "stdout",
     "output_type": "stream",
     "text": [
      "Hello \\n World!\n"
     ]
    }
   ],
   "source": [
    "print(r\"Hello \\n World!\")  #加入r，不处理为特殊字符"
   ]
  },
  {
   "cell_type": "markdown",
   "metadata": {
    "slideshow": {
     "slide_type": "slide"
    }
   },
   "source": [
    "### 列表"
   ]
  },
  {
   "cell_type": "code",
   "execution_count": 61,
   "metadata": {
    "slideshow": {
     "slide_type": "fragment"
    }
   },
   "outputs": [],
   "source": [
    "a = [1,2,3]"
   ]
  },
  {
   "cell_type": "code",
   "execution_count": 62,
   "metadata": {
    "slideshow": {
     "slide_type": "fragment"
    }
   },
   "outputs": [
    {
     "data": {
      "text/plain": [
       "list"
      ]
     },
     "execution_count": 62,
     "metadata": {},
     "output_type": "execute_result"
    }
   ],
   "source": [
    "type(a)"
   ]
  },
  {
   "cell_type": "code",
   "execution_count": 63,
   "metadata": {
    "slideshow": {
     "slide_type": "fragment"
    }
   },
   "outputs": [
    {
     "data": {
      "text/plain": [
       "1"
      ]
     },
     "execution_count": 63,
     "metadata": {},
     "output_type": "execute_result"
    }
   ],
   "source": [
    "a[0]  #索引从0开始"
   ]
  },
  {
   "cell_type": "code",
   "execution_count": 64,
   "metadata": {
    "slideshow": {
     "slide_type": "subslide"
    }
   },
   "outputs": [
    {
     "data": {
      "text/plain": [
       "[1, 2, 3, 4]"
      ]
     },
     "execution_count": 64,
     "metadata": {},
     "output_type": "execute_result"
    }
   ],
   "source": [
    "a.append(4)  #往list中追加元素到末尾\n",
    "a"
   ]
  },
  {
   "cell_type": "code",
   "execution_count": 65,
   "metadata": {
    "slideshow": {
     "slide_type": "fragment"
    }
   },
   "outputs": [
    {
     "data": {
      "text/plain": [
       "[1, 2, 'a', 3, 4]"
      ]
     },
     "execution_count": 65,
     "metadata": {},
     "output_type": "execute_result"
    }
   ],
   "source": [
    "a.insert(2,'a')  #把元素插入到指定的位置\n",
    "a"
   ]
  },
  {
   "cell_type": "code",
   "execution_count": 66,
   "metadata": {
    "slideshow": {
     "slide_type": "fragment"
    }
   },
   "outputs": [
    {
     "data": {
      "text/plain": [
       "[1, 2, 3, 4]"
      ]
     },
     "execution_count": 66,
     "metadata": {},
     "output_type": "execute_result"
    }
   ],
   "source": [
    "a.remove('a')  #移除列表中第一个指定元素\n",
    "a"
   ]
  },
  {
   "cell_type": "code",
   "execution_count": 67,
   "metadata": {
    "slideshow": {
     "slide_type": "fragment"
    }
   },
   "outputs": [
    {
     "data": {
      "text/plain": [
       "[1, 2, 3, 4, 4, 5, 6]"
      ]
     },
     "execution_count": 67,
     "metadata": {},
     "output_type": "execute_result"
    }
   ],
   "source": [
    "b = [4,5,6]\n",
    "a.extend(b)  #将两个列表合并\n",
    "a"
   ]
  },
  {
   "cell_type": "code",
   "execution_count": 68,
   "metadata": {
    "slideshow": {
     "slide_type": "fragment"
    }
   },
   "outputs": [
    {
     "data": {
      "text/plain": [
       "[1, 2, 3, 4, 5, 6]"
      ]
     },
     "execution_count": 68,
     "metadata": {},
     "output_type": "execute_result"
    }
   ],
   "source": [
    "a.remove(4)  \n",
    "a"
   ]
  },
  {
   "cell_type": "code",
   "execution_count": 69,
   "metadata": {
    "slideshow": {
     "slide_type": "subslide"
    }
   },
   "outputs": [
    {
     "data": {
      "text/plain": [
       "[1, 2, 3, 4, 5]"
      ]
     },
     "execution_count": 69,
     "metadata": {},
     "output_type": "execute_result"
    }
   ],
   "source": [
    "del a[5]  #移除指定位置上的元素\n",
    "a"
   ]
  },
  {
   "cell_type": "code",
   "execution_count": 70,
   "metadata": {
    "slideshow": {
     "slide_type": "fragment"
    }
   },
   "outputs": [
    {
     "data": {
      "text/plain": [
       "5"
      ]
     },
     "execution_count": 70,
     "metadata": {},
     "output_type": "execute_result"
    }
   ],
   "source": [
    "a.pop()  #移除list中的最后一个元素，并且返回该元素的值。"
   ]
  },
  {
   "cell_type": "code",
   "execution_count": 71,
   "metadata": {
    "slideshow": {
     "slide_type": "fragment"
    }
   },
   "outputs": [
    {
     "data": {
      "text/plain": [
       "[1, 2, 3, 4]"
      ]
     },
     "execution_count": 71,
     "metadata": {},
     "output_type": "execute_result"
    }
   ],
   "source": [
    "a"
   ]
  },
  {
   "cell_type": "code",
   "execution_count": 72,
   "metadata": {
    "slideshow": {
     "slide_type": "fragment"
    }
   },
   "outputs": [
    {
     "data": {
      "text/plain": [
       "3"
      ]
     },
     "execution_count": 72,
     "metadata": {},
     "output_type": "execute_result"
    }
   ],
   "source": [
    "a.pop(2)  #移除指定位置元素，并返回该元素的值"
   ]
  },
  {
   "cell_type": "code",
   "execution_count": 11,
   "metadata": {
    "slideshow": {
     "slide_type": "subslide"
    }
   },
   "outputs": [
    {
     "data": {
      "text/plain": [
       "[1, 3, 2, 3]"
      ]
     },
     "execution_count": 11,
     "metadata": {},
     "output_type": "execute_result"
    }
   ],
   "source": [
    "a = [1,3,2,3]\n",
    "a"
   ]
  },
  {
   "cell_type": "code",
   "execution_count": 12,
   "metadata": {
    "slideshow": {
     "slide_type": "fragment"
    }
   },
   "outputs": [
    {
     "data": {
      "text/plain": [
       "[1, 2, 3, 3]"
      ]
     },
     "execution_count": 12,
     "metadata": {},
     "output_type": "execute_result"
    }
   ],
   "source": [
    "a.sort()  #按从小到大顺序排列\n",
    "a"
   ]
  },
  {
   "cell_type": "code",
   "execution_count": 13,
   "metadata": {
    "slideshow": {
     "slide_type": "fragment"
    }
   },
   "outputs": [
    {
     "data": {
      "text/plain": [
       "[3, 3, 2, 1]"
      ]
     },
     "execution_count": 13,
     "metadata": {},
     "output_type": "execute_result"
    }
   ],
   "source": [
    "a.reverse()  #将列表顺序颠倒\n",
    "a"
   ]
  },
  {
   "cell_type": "code",
   "execution_count": 14,
   "metadata": {
    "slideshow": {
     "slide_type": "fragment"
    }
   },
   "outputs": [
    {
     "data": {
      "text/plain": [
       "2"
      ]
     },
     "execution_count": 14,
     "metadata": {},
     "output_type": "execute_result"
    }
   ],
   "source": [
    "a.count(3)  #计算列表中指定元素的个数"
   ]
  },
  {
   "cell_type": "code",
   "execution_count": 15,
   "metadata": {
    "slideshow": {
     "slide_type": "fragment"
    }
   },
   "outputs": [
    {
     "data": {
      "text/plain": [
       "0"
      ]
     },
     "execution_count": 15,
     "metadata": {},
     "output_type": "execute_result"
    }
   ],
   "source": [
    "a.index(3)  #求列表中第一个指定元素的索引"
   ]
  },
  {
   "cell_type": "markdown",
   "metadata": {
    "slideshow": {
     "slide_type": "subslide"
    }
   },
   "source": [
    "列表的值传递与址传递："
   ]
  },
  {
   "cell_type": "code",
   "execution_count": 16,
   "metadata": {
    "slideshow": {
     "slide_type": "fragment"
    }
   },
   "outputs": [
    {
     "data": {
      "text/plain": [
       "([3, 3, 2, 1], [3, 3, 2, 1], [3, 3, 2, 1])"
      ]
     },
     "execution_count": 16,
     "metadata": {},
     "output_type": "execute_result"
    }
   ],
   "source": [
    "c1 = a\n",
    "c2 = a[:]\n",
    "c3 = a.copy()\n",
    "c1,c2,c3"
   ]
  },
  {
   "cell_type": "code",
   "execution_count": 17,
   "metadata": {
    "slideshow": {
     "slide_type": "fragment"
    }
   },
   "outputs": [
    {
     "data": {
      "text/plain": [
       "[3, 3, 2, 1, 4]"
      ]
     },
     "execution_count": 17,
     "metadata": {},
     "output_type": "execute_result"
    }
   ],
   "source": [
    "a.append(4)\n",
    "a"
   ]
  },
  {
   "cell_type": "code",
   "execution_count": 18,
   "metadata": {
    "slideshow": {
     "slide_type": "fragment"
    }
   },
   "outputs": [
    {
     "data": {
      "text/plain": [
       "[[3, 3, 2, 1, 4], [3, 3, 2, 1], [3, 3, 2, 1]]"
      ]
     },
     "execution_count": 18,
     "metadata": {},
     "output_type": "execute_result"
    }
   ],
   "source": [
    "[c1,c2,c3]  #c1与a同步变化，说明c1=a为地址传递，而c2，c3为值传递"
   ]
  },
  {
   "cell_type": "markdown",
   "metadata": {
    "slideshow": {
     "slide_type": "subslide"
    }
   },
   "source": [
    "列表的嵌套使用："
   ]
  },
  {
   "cell_type": "code",
   "execution_count": 45,
   "metadata": {
    "slideshow": {
     "slide_type": "fragment"
    }
   },
   "outputs": [
    {
     "data": {
      "text/plain": [
       "list"
      ]
     },
     "execution_count": 45,
     "metadata": {},
     "output_type": "execute_result"
    }
   ],
   "source": [
    "matrix = [[1, 2, 3, 4],[5, 6, 7, 8, 9],[ 10, 11, 12]]\n",
    "type(matrix)"
   ]
  },
  {
   "cell_type": "code",
   "execution_count": 46,
   "metadata": {
    "scrolled": true,
    "slideshow": {
     "slide_type": "fragment"
    }
   },
   "outputs": [
    {
     "data": {
      "text/plain": [
       "7"
      ]
     },
     "execution_count": 46,
     "metadata": {},
     "output_type": "execute_result"
    }
   ],
   "source": [
    "matrix[1][2]"
   ]
  },
  {
   "cell_type": "markdown",
   "metadata": {
    "slideshow": {
     "slide_type": "subslide"
    }
   },
   "source": [
    "range经常无法使用某些方法，可以转成list进行操作："
   ]
  },
  {
   "cell_type": "code",
   "execution_count": 21,
   "metadata": {
    "scrolled": true,
    "slideshow": {
     "slide_type": "fragment"
    }
   },
   "outputs": [
    {
     "data": {
      "text/plain": [
       "[1, 3, 5]"
      ]
     },
     "execution_count": 21,
     "metadata": {},
     "output_type": "execute_result"
    }
   ],
   "source": [
    "list(range(1,6,2))"
   ]
  },
  {
   "cell_type": "markdown",
   "metadata": {
    "slideshow": {
     "slide_type": "subslide"
    }
   },
   "source": [
    "列表生成式:把要生成的元素放到前面，后面跟for"
   ]
  },
  {
   "cell_type": "code",
   "execution_count": 76,
   "metadata": {
    "slideshow": {
     "slide_type": "fragment"
    }
   },
   "outputs": [
    {
     "data": {
      "text/plain": [
       "[1, 4, 9, 16, 25, 36, 49, 64, 81, 100]"
      ]
     },
     "execution_count": 76,
     "metadata": {},
     "output_type": "execute_result"
    }
   ],
   "source": [
    "[x * x for x in range(1, 11)]"
   ]
  },
  {
   "cell_type": "code",
   "execution_count": 77,
   "metadata": {
    "slideshow": {
     "slide_type": "fragment"
    }
   },
   "outputs": [
    {
     "data": {
      "text/plain": [
       "['AX', 'AY', 'AZ', 'BX', 'BY', 'BZ', 'CX', 'CY', 'CZ']"
      ]
     },
     "execution_count": 77,
     "metadata": {},
     "output_type": "execute_result"
    }
   ],
   "source": [
    "[m + n for m in 'ABC' for n in 'XYZ']"
   ]
  },
  {
   "cell_type": "markdown",
   "metadata": {
    "slideshow": {
     "slide_type": "slide"
    }
   },
   "source": [
    "### 集合"
   ]
  },
  {
   "cell_type": "code",
   "execution_count": 17,
   "metadata": {
    "slideshow": {
     "slide_type": "fragment"
    }
   },
   "outputs": [
    {
     "data": {
      "text/plain": [
       "{1, 2, 'a', 'bc'}"
      ]
     },
     "execution_count": 17,
     "metadata": {},
     "output_type": "execute_result"
    }
   ],
   "source": [
    "a = {1,2,2,'a','a','bc'}  #集合中元素不重复\n",
    "a"
   ]
  },
  {
   "cell_type": "code",
   "execution_count": 3,
   "metadata": {
    "slideshow": {
     "slide_type": "fragment"
    }
   },
   "outputs": [
    {
     "data": {
      "text/plain": [
       "set"
      ]
     },
     "execution_count": 3,
     "metadata": {},
     "output_type": "execute_result"
    }
   ],
   "source": [
    "type(a)"
   ]
  },
  {
   "cell_type": "code",
   "execution_count": 73,
   "metadata": {
    "slideshow": {
     "slide_type": "fragment"
    }
   },
   "outputs": [
    {
     "data": {
      "text/plain": [
       "True"
      ]
     },
     "execution_count": 73,
     "metadata": {},
     "output_type": "execute_result"
    }
   ],
   "source": [
    "'a' in a  #用in判断是否在a中，返回true 或 false"
   ]
  },
  {
   "cell_type": "code",
   "execution_count": 5,
   "metadata": {
    "slideshow": {
     "slide_type": "fragment"
    }
   },
   "outputs": [
    {
     "data": {
      "text/plain": [
       "False"
      ]
     },
     "execution_count": 5,
     "metadata": {},
     "output_type": "execute_result"
    }
   ],
   "source": [
    "'b' in a"
   ]
  },
  {
   "cell_type": "code",
   "execution_count": 6,
   "metadata": {
    "slideshow": {
     "slide_type": "subslide"
    }
   },
   "outputs": [
    {
     "data": {
      "text/plain": [
       "{1, 3, 'b', 'c'}"
      ]
     },
     "execution_count": 6,
     "metadata": {},
     "output_type": "execute_result"
    }
   ],
   "source": [
    "b = {1,3,'b','c'}\n",
    "b"
   ]
  },
  {
   "cell_type": "code",
   "execution_count": 12,
   "metadata": {
    "slideshow": {
     "slide_type": "fragment"
    }
   },
   "outputs": [
    {
     "data": {
      "text/plain": [
       "{1, 2, 3, 'a', 'b', 'bc', 'c'}"
      ]
     },
     "execution_count": 12,
     "metadata": {},
     "output_type": "execute_result"
    }
   ],
   "source": [
    "a | b #求集合的并"
   ]
  },
  {
   "cell_type": "code",
   "execution_count": 13,
   "metadata": {
    "slideshow": {
     "slide_type": "fragment"
    }
   },
   "outputs": [
    {
     "data": {
      "text/plain": [
       "{1}"
      ]
     },
     "execution_count": 13,
     "metadata": {},
     "output_type": "execute_result"
    }
   ],
   "source": [
    "a & b  #求集合的交"
   ]
  },
  {
   "cell_type": "code",
   "execution_count": 14,
   "metadata": {
    "slideshow": {
     "slide_type": "fragment"
    }
   },
   "outputs": [
    {
     "data": {
      "text/plain": [
       "{2, 'a', 'bc'}"
      ]
     },
     "execution_count": 14,
     "metadata": {},
     "output_type": "execute_result"
    }
   ],
   "source": [
    "a - b  #求集合的差，a-b表示在a中，不在b中的元素的集合"
   ]
  },
  {
   "cell_type": "code",
   "execution_count": 15,
   "metadata": {
    "slideshow": {
     "slide_type": "fragment"
    }
   },
   "outputs": [
    {
     "data": {
      "text/plain": [
       "{2, 3, 'a', 'b', 'bc', 'c'}"
      ]
     },
     "execution_count": 15,
     "metadata": {},
     "output_type": "execute_result"
    }
   ],
   "source": [
    "a ^ b   #求两集合的异或，a^b=(a | b)-(a & b)"
   ]
  },
  {
   "cell_type": "code",
   "execution_count": 16,
   "metadata": {
    "slideshow": {
     "slide_type": "subslide"
    }
   },
   "outputs": [
    {
     "data": {
      "text/plain": [
       "{'1', '2', 'a', 'b'}"
      ]
     },
     "execution_count": 16,
     "metadata": {},
     "output_type": "execute_result"
    }
   ],
   "source": [
    "a = set('122abb')\n",
    "a"
   ]
  },
  {
   "cell_type": "markdown",
   "metadata": {
    "slideshow": {
     "slide_type": "slide"
    }
   },
   "source": [
    "### 元组"
   ]
  },
  {
   "cell_type": "code",
   "execution_count": 18,
   "metadata": {
    "slideshow": {
     "slide_type": "fragment"
    }
   },
   "outputs": [
    {
     "data": {
      "text/plain": [
       "(1, 'a', 'b')"
      ]
     },
     "execution_count": 18,
     "metadata": {},
     "output_type": "execute_result"
    }
   ],
   "source": [
    "a = 1,'a','b'   #元组由逗号分隔的多个值组成\n",
    "a"
   ]
  },
  {
   "cell_type": "code",
   "execution_count": 61,
   "metadata": {
    "slideshow": {
     "slide_type": "fragment"
    }
   },
   "outputs": [
    {
     "data": {
      "text/plain": [
       "tuple"
      ]
     },
     "execution_count": 61,
     "metadata": {},
     "output_type": "execute_result"
    }
   ],
   "source": [
    "type(a)"
   ]
  },
  {
   "cell_type": "code",
   "execution_count": 23,
   "metadata": {
    "slideshow": {
     "slide_type": "subslide"
    }
   },
   "outputs": [
    {
     "data": {
      "text/plain": [
       "((1, 'a', 'b'), [1, 'c'])"
      ]
     },
     "execution_count": 23,
     "metadata": {},
     "output_type": "execute_result"
    }
   ],
   "source": [
    "b = [1,'c']\n",
    "c = a,b  #元组中可以嵌套不同类型的数据\n",
    "c"
   ]
  },
  {
   "cell_type": "code",
   "execution_count": 21,
   "metadata": {
    "slideshow": {
     "slide_type": "fragment"
    }
   },
   "outputs": [
    {
     "data": {
      "text/plain": [
       "(1, 'a', 'b')"
      ]
     },
     "execution_count": 21,
     "metadata": {},
     "output_type": "execute_result"
    }
   ],
   "source": [
    "c[0]"
   ]
  },
  {
   "cell_type": "code",
   "execution_count": 22,
   "metadata": {
    "slideshow": {
     "slide_type": "fragment"
    }
   },
   "outputs": [
    {
     "data": {
      "text/plain": [
       "'c'"
      ]
     },
     "execution_count": 22,
     "metadata": {},
     "output_type": "execute_result"
    }
   ],
   "source": [
    "c[1][1]"
   ]
  },
  {
   "cell_type": "markdown",
   "metadata": {
    "slideshow": {
     "slide_type": "subslide"
    }
   },
   "source": [
    "元组是不可变的，但是它们可以包含可变对象。"
   ]
  },
  {
   "cell_type": "code",
   "execution_count": 27,
   "metadata": {
    "slideshow": {
     "slide_type": "fragment"
    }
   },
   "outputs": [
    {
     "ename": "TypeError",
     "evalue": "'tuple' object does not support item assignment",
     "output_type": "error",
     "traceback": [
      "\u001b[1;31m---------------------------------------------------------------------------\u001b[0m",
      "\u001b[1;31mTypeError\u001b[0m                                 Traceback (most recent call last)",
      "\u001b[1;32m<ipython-input-27-dd7deb8516d5>\u001b[0m in \u001b[0;36m<module>\u001b[1;34m()\u001b[0m\n\u001b[1;32m----> 1\u001b[1;33m \u001b[0mc\u001b[0m\u001b[1;33m[\u001b[0m\u001b[1;36m0\u001b[0m\u001b[1;33m]\u001b[0m \u001b[1;33m=\u001b[0m \u001b[1;36m1\u001b[0m\u001b[1;33m\u001b[0m\u001b[0m\n\u001b[0m",
      "\u001b[1;31mTypeError\u001b[0m: 'tuple' object does not support item assignment"
     ]
    }
   ],
   "source": [
    "c[0] = 1"
   ]
  },
  {
   "cell_type": "code",
   "execution_count": 28,
   "metadata": {
    "slideshow": {
     "slide_type": "fragment"
    }
   },
   "outputs": [
    {
     "data": {
      "text/plain": [
       "((1, 'a', 'b'), [1, 2])"
      ]
     },
     "execution_count": 28,
     "metadata": {},
     "output_type": "execute_result"
    }
   ],
   "source": [
    "c[1][1]=2\n",
    "c"
   ]
  },
  {
   "cell_type": "markdown",
   "metadata": {
    "slideshow": {
     "slide_type": "slide"
    }
   },
   "source": [
    "### 字典"
   ]
  },
  {
   "cell_type": "code",
   "execution_count": 35,
   "metadata": {
    "slideshow": {
     "slide_type": "fragment"
    }
   },
   "outputs": [
    {
     "name": "stdout",
     "output_type": "stream",
     "text": [
      "{'Mike': 3759, 'Mary': 1462, 'Ning': 6839}\n"
     ]
    },
    {
     "data": {
      "text/plain": [
       "dict"
      ]
     },
     "execution_count": 35,
     "metadata": {},
     "output_type": "execute_result"
    }
   ],
   "source": [
    "tel = {'Mike':3759, 'Mary':1462, 'Ning':6839}\n",
    "print(tel)\n",
    "type(tel)"
   ]
  },
  {
   "cell_type": "code",
   "execution_count": 41,
   "metadata": {
    "slideshow": {
     "slide_type": "fragment"
    }
   },
   "outputs": [
    {
     "data": {
      "text/plain": [
       "{'Mike': 3759, 'Mary': 1462, 'Ning': 6839}"
      ]
     },
     "execution_count": 41,
     "metadata": {},
     "output_type": "execute_result"
    }
   ],
   "source": [
    "tel = dict(Mike = 3759, Mary = 1462, Ning = 6839)\n",
    "tel"
   ]
  },
  {
   "cell_type": "code",
   "execution_count": 60,
   "metadata": {
    "slideshow": {
     "slide_type": "fragment"
    }
   },
   "outputs": [
    {
     "data": {
      "text/plain": [
       "{'Mike': 3759, 'Mary': 1462, 'Ning': 6839}"
      ]
     },
     "execution_count": 60,
     "metadata": {},
     "output_type": "execute_result"
    }
   ],
   "source": [
    "tel = dict([('Mike',3759),('Mary',1462),('Ning',6839)]) #将一个由关键字与值构成的元组对序列变成字典\n",
    "tel"
   ]
  },
  {
   "cell_type": "code",
   "execution_count": 67,
   "metadata": {
    "slideshow": {
     "slide_type": "subslide"
    }
   },
   "outputs": [
    {
     "name": "stdout",
     "output_type": "stream",
     "text": [
      "dict_keys(['Mike', 'Mary', 'Ning'])\n",
      "dict_values([3759, 1462, 6839])\n"
     ]
    }
   ],
   "source": [
    "print(tel.keys())\n",
    "print(tel.values())  #分别访问关键字与值"
   ]
  },
  {
   "cell_type": "code",
   "execution_count": 70,
   "metadata": {
    "slideshow": {
     "slide_type": "fragment"
    }
   },
   "outputs": [
    {
     "data": {
      "text/plain": [
       "['Mike', 'Mary', 'Ning']"
      ]
     },
     "execution_count": 70,
     "metadata": {},
     "output_type": "execute_result"
    }
   ],
   "source": [
    "list(tel.keys())"
   ]
  },
  {
   "cell_type": "code",
   "execution_count": 68,
   "metadata": {
    "slideshow": {
     "slide_type": "fragment"
    }
   },
   "outputs": [
    {
     "data": {
      "text/plain": [
       "['Mary', 'Mike', 'Ning']"
      ]
     },
     "execution_count": 68,
     "metadata": {},
     "output_type": "execute_result"
    }
   ],
   "source": [
    "sorted(tel.keys())  #排序"
   ]
  },
  {
   "cell_type": "code",
   "execution_count": 47,
   "metadata": {
    "slideshow": {
     "slide_type": "fragment"
    }
   },
   "outputs": [
    {
     "data": {
      "text/plain": [
       "3759"
      ]
     },
     "execution_count": 47,
     "metadata": {},
     "output_type": "execute_result"
    }
   ],
   "source": [
    "tel['Mike']"
   ]
  },
  {
   "cell_type": "code",
   "execution_count": 48,
   "metadata": {
    "slideshow": {
     "slide_type": "fragment"
    }
   },
   "outputs": [
    {
     "data": {
      "text/plain": [
       "True"
      ]
     },
     "execution_count": 48,
     "metadata": {},
     "output_type": "execute_result"
    }
   ],
   "source": [
    "'Mike' in tel"
   ]
  },
  {
   "cell_type": "code",
   "execution_count": 50,
   "metadata": {
    "slideshow": {
     "slide_type": "subslide"
    }
   },
   "outputs": [
    {
     "data": {
      "text/plain": [
       "{'Mike': 3759, 'Mary': 1462, 'Ning': 6839, 'Ada': 8080}"
      ]
     },
     "execution_count": 50,
     "metadata": {},
     "output_type": "execute_result"
    }
   ],
   "source": [
    "tel['Ada'] = 8080  #添加元素\n",
    "tel"
   ]
  },
  {
   "cell_type": "code",
   "execution_count": 56,
   "metadata": {
    "slideshow": {
     "slide_type": "fragment"
    }
   },
   "outputs": [
    {
     "data": {
      "text/plain": [
       "{'Mike': 3759, 'Mary': 1462, 'Ning': 6839, 'Ada': 8090}"
      ]
     },
     "execution_count": 56,
     "metadata": {},
     "output_type": "execute_result"
    }
   ],
   "source": [
    "tel['Ada'] = 8090  #修改值\n",
    "tel"
   ]
  },
  {
   "cell_type": "code",
   "execution_count": 57,
   "metadata": {
    "slideshow": {
     "slide_type": "fragment"
    }
   },
   "outputs": [
    {
     "data": {
      "text/plain": [
       "{'Mike': 3759, 'Ning': 6839, 'Ada': 8090}"
      ]
     },
     "execution_count": 57,
     "metadata": {},
     "output_type": "execute_result"
    }
   ],
   "source": [
    "del tel['Mary']  #删除指定元素\n",
    "tel"
   ]
  },
  {
   "cell_type": "markdown",
   "metadata": {
    "slideshow": {
     "slide_type": "slide"
    }
   },
   "source": [
    "##  基本语句"
   ]
  },
  {
   "cell_type": "markdown",
   "metadata": {
    "slideshow": {
     "slide_type": "subslide"
    }
   },
   "source": [
    "### 条件语句"
   ]
  },
  {
   "cell_type": "code",
   "execution_count": 71,
   "metadata": {
    "slideshow": {
     "slide_type": "fragment"
    }
   },
   "outputs": [
    {
     "name": "stdout",
     "output_type": "stream",
     "text": [
      "True\n"
     ]
    }
   ],
   "source": [
    "if True:\n",
    "    print('True')  #基本语法"
   ]
  },
  {
   "cell_type": "code",
   "execution_count": 72,
   "metadata": {
    "scrolled": true,
    "slideshow": {
     "slide_type": "fragment"
    }
   },
   "outputs": [
    {
     "name": "stdout",
     "output_type": "stream",
     "text": [
      "3是奇数\n"
     ]
    }
   ],
   "source": [
    "n = 3  #判断奇偶性\n",
    "if n % 2 == 0:\n",
    "    print(n,'是偶数',sep = '')\n",
    "elif n % 2 == 1:\n",
    "    print(n,'是奇数',sep = '')\n",
    "else:\n",
    "    print(n,'既不是奇数也不是偶数',sep = '')"
   ]
  },
  {
   "cell_type": "code",
   "execution_count": 74,
   "metadata": {
    "slideshow": {
     "slide_type": "subslide"
    }
   },
   "outputs": [
    {
     "name": "stdout",
     "output_type": "stream",
     "text": [
      "23  is not a perfect square\n"
     ]
    }
   ],
   "source": [
    "#判断一个100以内的数是否为完全平方数\n",
    "a=[x**2 for x in range(1,10)]\n",
    "n=23\n",
    "if n in a :\n",
    "    print(repr(n)+' is a perfect square') #n是一个int，不可以直接用加号连上字符串，可通过repr()函数将其变为字符串\n",
    "else:\n",
    "    print(n,' is not a perfect square')"
   ]
  },
  {
   "cell_type": "markdown",
   "metadata": {
    "slideshow": {
     "slide_type": "subslide"
    }
   },
   "source": [
    "### for循环"
   ]
  },
  {
   "cell_type": "code",
   "execution_count": 73,
   "metadata": {
    "slideshow": {
     "slide_type": "fragment"
    }
   },
   "outputs": [
    {
     "name": "stdout",
     "output_type": "stream",
     "text": [
      "0\n",
      "1\n",
      "2\n"
     ]
    }
   ],
   "source": [
    "for i in range(3):\n",
    "    print(i)"
   ]
  },
  {
   "cell_type": "markdown",
   "metadata": {
    "slideshow": {
     "slide_type": "subslide"
    }
   },
   "source": [
    "continue的用法："
   ]
  },
  {
   "cell_type": "code",
   "execution_count": 74,
   "metadata": {
    "slideshow": {
     "slide_type": "fragment"
    }
   },
   "outputs": [
    {
     "name": "stdout",
     "output_type": "stream",
     "text": [
      "3\n",
      "5\n",
      "7\n",
      "9\n"
     ]
    }
   ],
   "source": [
    "a = {3,2,5,7,9,10,8}\n",
    "for x in a:\n",
    "    if x % 2 == 0:\n",
    "        continue\n",
    "    print(x)"
   ]
  },
  {
   "cell_type": "markdown",
   "metadata": {
    "slideshow": {
     "slide_type": "fragment"
    }
   },
   "source": [
    "break的用法："
   ]
  },
  {
   "cell_type": "code",
   "execution_count": 75,
   "metadata": {
    "scrolled": true,
    "slideshow": {
     "slide_type": "fragment"
    }
   },
   "outputs": [
    {
     "name": "stdout",
     "output_type": "stream",
     "text": [
      "0 1\n",
      "1 2\n",
      "2 4\n",
      "3 8\n"
     ]
    }
   ],
   "source": [
    "for i in range(5):                  \n",
    "    if 2 ** i < 10:\n",
    "        print(i,2 ** i)\n",
    "    else:\n",
    "        break"
   ]
  },
  {
   "cell_type": "markdown",
   "metadata": {
    "slideshow": {
     "slide_type": "subslide"
    }
   },
   "source": [
    "求和：1+2+...+100"
   ]
  },
  {
   "cell_type": "code",
   "execution_count": 76,
   "metadata": {
    "scrolled": false,
    "slideshow": {
     "slide_type": "fragment"
    }
   },
   "outputs": [
    {
     "name": "stdout",
     "output_type": "stream",
     "text": [
      "5050\n"
     ]
    }
   ],
   "source": [
    "a=range(1,101)  \n",
    "sum=0\n",
    "for s in a:\n",
    "    sum=sum+s\n",
    "print(sum)"
   ]
  },
  {
   "cell_type": "markdown",
   "metadata": {
    "slideshow": {
     "slide_type": "subslide"
    }
   },
   "source": [
    "求: 5！"
   ]
  },
  {
   "cell_type": "code",
   "execution_count": 77,
   "metadata": {
    "slideshow": {
     "slide_type": "fragment"
    }
   },
   "outputs": [
    {
     "name": "stdout",
     "output_type": "stream",
     "text": [
      "120\n"
     ]
    }
   ],
   "source": [
    "a=range(1,6)\n",
    "factorial=1\n",
    "for s in a :\n",
    "    factorial=factorial*s\n",
    "print(factorial)"
   ]
  },
  {
   "cell_type": "markdown",
   "metadata": {
    "slideshow": {
     "slide_type": "subslide"
    }
   },
   "source": [
    "求某数所有的因子："
   ]
  },
  {
   "cell_type": "code",
   "execution_count": 78,
   "metadata": {
    "scrolled": true,
    "slideshow": {
     "slide_type": "fragment"
    }
   },
   "outputs": [
    {
     "name": "stdout",
     "output_type": "stream",
     "text": [
      "Select a number :15\n",
      "[1, 3, 5, 15]\n"
     ]
    }
   ],
   "source": [
    "a=input('Select a number :')\n",
    "divisors=[]\n",
    "m=[value for value in range (1,int(a)+1)]\n",
    "for s in m:\n",
    "    if int(a)%s==0:\n",
    "        divisors.append(s)\n",
    "print(divisors)#find the set of divisors of a specific a given by users"
   ]
  },
  {
   "cell_type": "code",
   "execution_count": 78,
   "metadata": {
    "slideshow": {
     "slide_type": "subslide"
    }
   },
   "outputs": [
    {
     "name": "stdout",
     "output_type": "stream",
     "text": [
      "Select a number :15\n",
      "15  is not a prime\n"
     ]
    }
   ],
   "source": [
    "##进一步的我们可以判断一个数是否为素数\n",
    "a=input('Select a number :')\n",
    "divisors=[]\n",
    "m=[value for value in range (1,int(int(a)**(1/2))+1)]\n",
    "for s in m:\n",
    "    if int(a)%s==0:\n",
    "        divisors.append(s)\n",
    "divisors.remove(1)\n",
    "flag='true'\n",
    "for divisor in divisors:\n",
    "    if int(a)%divisor==0:\n",
    "        flag='false'\n",
    "        break\n",
    "if flag=='true':\n",
    "    print(a,' is a prime')\n",
    "else:\n",
    "    print(a,' is not a prime')\n",
    "    \n",
    "    "
   ]
  },
  {
   "cell_type": "markdown",
   "metadata": {
    "slideshow": {
     "slide_type": "subslide"
    }
   },
   "source": [
    "### while循环"
   ]
  },
  {
   "cell_type": "code",
   "execution_count": 79,
   "metadata": {
    "slideshow": {
     "slide_type": "fragment"
    }
   },
   "outputs": [
    {
     "name": "stdout",
     "output_type": "stream",
     "text": [
      "0 1\n",
      "1 2\n",
      "2 4\n",
      "3 8\n"
     ]
    }
   ],
   "source": [
    "a = 0\n",
    "while 2 ** a < 10:\n",
    "    print(a,2 ** a)\n",
    "    a = a + 1"
   ]
  },
  {
   "cell_type": "markdown",
   "metadata": {
    "slideshow": {
     "slide_type": "subslide"
    }
   },
   "source": [
    "求斐波那契数列的前n项："
   ]
  },
  {
   "cell_type": "code",
   "execution_count": 1,
   "metadata": {
    "scrolled": true,
    "slideshow": {
     "slide_type": "fragment"
    }
   },
   "outputs": [
    {
     "name": "stdout",
     "output_type": "stream",
     "text": [
      "请输入项数(≥3)：15\n",
      "[1, 1, 2, 3, 5, 8, 13, 21, 34, 55, 89, 144, 233, 377, 610]\n"
     ]
    }
   ],
   "source": [
    "a=[1,1]\n",
    "k=3\n",
    "x=input('请输入项数(≥3)：')\n",
    "while k<=int(x):\n",
    "    b=a[-1]+a[-2]\n",
    "    a.append(b)\n",
    "    k=k+1\n",
    "print(a)"
   ]
  },
  {
   "cell_type": "markdown",
   "metadata": {
    "slideshow": {
     "slide_type": "subslide"
    }
   },
   "source": [
    "求一个完全平方数的平方根:"
   ]
  },
  {
   "cell_type": "code",
   "execution_count": 14,
   "metadata": {
    "slideshow": {
     "slide_type": "fragment"
    }
   },
   "outputs": [
    {
     "name": "stdout",
     "output_type": "stream",
     "text": [
      "Select an integer:24\n",
      "Its not a perfect square \n"
     ]
    }
   ],
   "source": [
    "xx=input('Select an integer:')\n",
    "x=int(xx)                    #注意xx是一个str，要进行运算必须转成int\n",
    "ans=0\n",
    "if  x>0:\n",
    "    while ans*ans<x:\n",
    "        ans=ans+1\n",
    "    if ans**2==x:\n",
    "        print('Its square root is '+ repr(ans))\n",
    "    else:\n",
    "        print('Its not a perfect square ')#来自用户的输入可能并不是完全平方数，要考虑并返回一个相应的提示\n",
    "else:\n",
    "    print('It is not a positive integer')"
   ]
  },
  {
   "cell_type": "markdown",
   "metadata": {
    "slideshow": {
     "slide_type": "subslide"
    }
   },
   "source": [
    "用while 配合 k的计数器，进行数的分组操作"
   ]
  },
  {
   "cell_type": "code",
   "execution_count": 79,
   "metadata": {
    "slideshow": {
     "slide_type": "fragment"
    }
   },
   "outputs": [
    {
     "name": "stdout",
     "output_type": "stream",
     "text": [
      "[48, 45, 42, 39, 36, 33, 30, 27, 24, 21, 18, 15, 12, 9, 6, 3, '3k']\n",
      "[49, 46, 43, 40, 37, 34, 31, 28, 25, 22, 19, 16, 13, 10, 7, 4, 1, '3k+1']\n",
      "[47, 44, 41, 38, 35, 32, 29, 26, 23, 20, 17, 14, 11, 8, 5, 2, '3k+2']\n"
     ]
    }
   ],
   "source": [
    "x=[value for value in range(1,50)]\n",
    "a=['3k']\n",
    "b=['3k+1']\n",
    "c=['3k+2']\n",
    "t=len(x)\n",
    "k=1\n",
    "while k<=t: #此处需要变量，t不能换为len(x)\n",
    "    if x[0]%3==0:\n",
    "         a.insert(0,x[0])\n",
    "         x.remove(x[0])\n",
    "    elif  x[0]%3==1:\n",
    "         b.insert(0,x[0])\n",
    "         x.remove(x[0])\n",
    "    else:\n",
    "         c.insert(0,x[0])\n",
    "         x.remove(x[0])\n",
    "    k=k+1\n",
    "\n",
    "else:\n",
    "    print(a)\n",
    "    print(b)\n",
    "    print(c)"
   ]
  },
  {
   "cell_type": "markdown",
   "metadata": {
    "slideshow": {
     "slide_type": "slide"
    }
   },
   "source": [
    "## 导入模块及函数 "
   ]
  },
  {
   "cell_type": "markdown",
   "metadata": {
    "slideshow": {
     "slide_type": "subslide"
    }
   },
   "source": [
    "math模块提供了许多对浮点数的数学运算函数，dir(math) 命令可以查看 math 查看包中的内容"
   ]
  },
  {
   "cell_type": "code",
   "execution_count": 82,
   "metadata": {
    "slideshow": {
     "slide_type": "fragment"
    }
   },
   "outputs": [
    {
     "data": {
      "text/plain": [
       "1.0"
      ]
     },
     "execution_count": 82,
     "metadata": {},
     "output_type": "execute_result"
    }
   ],
   "source": [
    "import math\n",
    "math.exp(0)"
   ]
  },
  {
   "cell_type": "code",
   "execution_count": 83,
   "metadata": {
    "slideshow": {
     "slide_type": "fragment"
    }
   },
   "outputs": [
    {
     "data": {
      "text/plain": [
       "1.0"
      ]
     },
     "execution_count": 83,
     "metadata": {},
     "output_type": "execute_result"
    }
   ],
   "source": [
    "import math as mt\n",
    "mt.exp(0)"
   ]
  },
  {
   "cell_type": "code",
   "execution_count": 84,
   "metadata": {
    "slideshow": {
     "slide_type": "fragment"
    }
   },
   "outputs": [
    {
     "data": {
      "text/plain": [
       "1.0"
      ]
     },
     "execution_count": 84,
     "metadata": {},
     "output_type": "execute_result"
    }
   ],
   "source": [
    "from math import exp \n",
    "exp(0) "
   ]
  },
  {
   "cell_type": "code",
   "execution_count": 85,
   "metadata": {
    "slideshow": {
     "slide_type": "fragment"
    }
   },
   "outputs": [
    {
     "data": {
      "text/plain": [
       "1.0"
      ]
     },
     "execution_count": 85,
     "metadata": {},
     "output_type": "execute_result"
    }
   ],
   "source": [
    "from math import exp as myexp \n",
    "myexp(0)"
   ]
  },
  {
   "cell_type": "markdown",
   "metadata": {
    "slideshow": {
     "slide_type": "subslide"
    }
   },
   "source": [
    "numpy（Numerical Python）提供了python对多维数组对象的支持"
   ]
  },
  {
   "cell_type": "code",
   "execution_count": 86,
   "metadata": {
    "slideshow": {
     "slide_type": "fragment"
    }
   },
   "outputs": [
    {
     "data": {
      "text/plain": [
       "array([[1, 2],\n",
       "       [3, 4]])"
      ]
     },
     "execution_count": 86,
     "metadata": {},
     "output_type": "execute_result"
    }
   ],
   "source": [
    "import numpy as np\n",
    "A = np.array([[1,2],[3,4]])\n",
    "A"
   ]
  },
  {
   "cell_type": "code",
   "execution_count": 87,
   "metadata": {
    "slideshow": {
     "slide_type": "fragment"
    }
   },
   "outputs": [
    {
     "data": {
      "text/plain": [
       "array([[1, 3],\n",
       "       [2, 4]])"
      ]
     },
     "execution_count": 87,
     "metadata": {},
     "output_type": "execute_result"
    }
   ],
   "source": [
    "A.T  #求矩阵转置"
   ]
  },
  {
   "cell_type": "markdown",
   "metadata": {
    "slideshow": {
     "slide_type": "subslide"
    }
   },
   "source": [
    "Scipy（Scientific Python）:可以利用numpy做更高级的数学，信号处理，优化，统计等"
   ]
  },
  {
   "cell_type": "code",
   "execution_count": 88,
   "metadata": {
    "slideshow": {
     "slide_type": "fragment"
    }
   },
   "outputs": [
    {
     "data": {
      "text/plain": [
       "array([[-2. ,  1. ],\n",
       "       [ 1.5, -0.5]])"
      ]
     },
     "execution_count": 88,
     "metadata": {},
     "output_type": "execute_result"
    }
   ],
   "source": [
    "from scipy import linalg\n",
    "B = linalg.inv(A) # 求矩阵的逆\n",
    "B"
   ]
  },
  {
   "cell_type": "code",
   "execution_count": 89,
   "metadata": {
    "slideshow": {
     "slide_type": "fragment"
    }
   },
   "outputs": [
    {
     "data": {
      "text/plain": [
       "array([[1.0000000e+00, 0.0000000e+00],\n",
       "       [8.8817842e-16, 1.0000000e+00]])"
      ]
     },
     "execution_count": 89,
     "metadata": {},
     "output_type": "execute_result"
    }
   ],
   "source": [
    "A.dot(B)   #矩阵乘法"
   ]
  },
  {
   "cell_type": "markdown",
   "metadata": {
    "slideshow": {
     "slide_type": "subslide"
    }
   },
   "source": [
    "matplotlib：一个 Python 的 2D绘图库"
   ]
  },
  {
   "cell_type": "code",
   "execution_count": 126,
   "metadata": {
    "slideshow": {
     "slide_type": "fragment"
    }
   },
   "outputs": [
    {
     "data": {
      "text/plain": [
       "[<matplotlib.lines.Line2D at 0xbb31240>]"
      ]
     },
     "execution_count": 126,
     "metadata": {},
     "output_type": "execute_result"
    },
    {
     "data": {
      "image/png": "[encoded data removed]",
      "text/plain": [
       "<Figure size 432x288 with 1 Axes>"
      ]
     },
     "metadata": {
      "needs_background": "light"
     },
     "output_type": "display_data"
    }
   ],
   "source": [
    "import matplotlib.pyplot as plt\n",
    "\n",
    "x = [1,2,3,4,5,6]\n",
    "y = [3,4,6,2,4,8]\n",
    "\n",
    "plt.plot(x, y)"
   ]
  },
  {
   "cell_type": "markdown",
   "metadata": {
    "slideshow": {
     "slide_type": "slide"
    }
   },
   "source": [
    "## 函数 "
   ]
  },
  {
   "cell_type": "markdown",
   "metadata": {
    "slideshow": {
     "slide_type": "subslide"
    }
   },
   "source": [
    "### 自定义函数 "
   ]
  },
  {
   "cell_type": "code",
   "execution_count": 91,
   "metadata": {
    "slideshow": {
     "slide_type": "fragment"
    }
   },
   "outputs": [],
   "source": [
    "def parity(n):\n",
    "    \"\"\"To judge whether an integer is odd or even.\"\"\"      # the function help\n",
    "    if n % 2 == 0:\n",
    "        print(n,'是偶数',sep = '')\n",
    "    elif n % 2 == 1:\n",
    "        print(n,'是奇数',sep = '')\n",
    "    else:\n",
    "        print(n,'既不是奇数也不是偶数',sep = '')"
   ]
  },
  {
   "cell_type": "code",
   "execution_count": 92,
   "metadata": {
    "slideshow": {
     "slide_type": "fragment"
    }
   },
   "outputs": [
    {
     "name": "stdout",
     "output_type": "stream",
     "text": [
      "Help on function parity in module __main__:\n",
      "\n",
      "parity(n)\n",
      "    To judge whether an integer is odd or even.\n",
      "\n"
     ]
    }
   ],
   "source": [
    "help(parity)"
   ]
  },
  {
   "cell_type": "code",
   "execution_count": 93,
   "metadata": {
    "slideshow": {
     "slide_type": "fragment"
    }
   },
   "outputs": [
    {
     "name": "stdout",
     "output_type": "stream",
     "text": [
      "3是奇数\n"
     ]
    }
   ],
   "source": [
    "parity(3)"
   ]
  },
  {
   "cell_type": "code",
   "execution_count": 94,
   "metadata": {
    "slideshow": {
     "slide_type": "fragment"
    }
   },
   "outputs": [
    {
     "name": "stdout",
     "output_type": "stream",
     "text": [
      "3.1既不是奇数也不是偶数\n"
     ]
    }
   ],
   "source": [
    "parity(3.1)"
   ]
  },
  {
   "cell_type": "markdown",
   "metadata": {
    "slideshow": {
     "slide_type": "subslide"
    }
   },
   "source": [
    "匿名函数：关键字lambda表示匿名函数，冒号前面的x表示函数参数，后面只能有一个表达式，不用写return，返回值就是该表达式的结果。"
   ]
  },
  {
   "cell_type": "code",
   "execution_count": 95,
   "metadata": {
    "slideshow": {
     "slide_type": "fragment"
    }
   },
   "outputs": [
    {
     "data": {
      "text/plain": [
       "4"
      ]
     },
     "execution_count": 95,
     "metadata": {},
     "output_type": "execute_result"
    }
   ],
   "source": [
    "f = lambda x: x ** 2\n",
    "f(2)"
   ]
  },
  {
   "cell_type": "code",
   "execution_count": 84,
   "metadata": {
    "slideshow": {
     "slide_type": "fragment"
    }
   },
   "outputs": [],
   "source": [
    "def make_incrementor(n):\n",
    "    return lambda x: x + n  #返回一个函数"
   ]
  },
  {
   "cell_type": "code",
   "execution_count": 85,
   "metadata": {
    "slideshow": {
     "slide_type": "fragment"
    }
   },
   "outputs": [],
   "source": [
    "f = make_incrementor(42)"
   ]
  },
  {
   "cell_type": "code",
   "execution_count": 86,
   "metadata": {
    "slideshow": {
     "slide_type": "fragment"
    }
   },
   "outputs": [
    {
     "data": {
      "text/plain": [
       "(42, 43)"
      ]
     },
     "execution_count": 86,
     "metadata": {},
     "output_type": "execute_result"
    }
   ],
   "source": [
    "f(0),f(1)"
   ]
  },
  {
   "cell_type": "markdown",
   "metadata": {
    "slideshow": {
     "slide_type": "subslide"
    }
   },
   "source": [
    "汉诺塔问题：定义一个函数，接收参数n，表示3个柱子A、B、C中第1个柱子A的盘子数量，然后打印出把所有盘子从A借助B移动到C的方法"
   ]
  },
  {
   "cell_type": "code",
   "execution_count": 3,
   "metadata": {
    "slideshow": {
     "slide_type": "fragment"
    }
   },
   "outputs": [],
   "source": [
    "def move(n, a, b, c):\n",
    "    if n == 1:\n",
    "            print(a, '-->', c)\n",
    "    else:\n",
    "        move(n-1, a, c, b)\n",
    "        move(1, a, b, c)\n",
    "        move(n-1, b, a, c)"
   ]
  },
  {
   "cell_type": "code",
   "execution_count": 4,
   "metadata": {
    "slideshow": {
     "slide_type": "fragment"
    }
   },
   "outputs": [
    {
     "name": "stdout",
     "output_type": "stream",
     "text": [
      "A --> C\n",
      "A --> B\n",
      "C --> B\n",
      "A --> C\n",
      "B --> A\n",
      "B --> C\n",
      "A --> C\n"
     ]
    }
   ],
   "source": [
    "move(3, 'A', 'B', 'C')"
   ]
  },
  {
   "cell_type": "markdown",
   "metadata": {
    "slideshow": {
     "slide_type": "subslide"
    }
   },
   "source": [
    "某些函数定义时设置了多个参数，使用默认参数可以简化该函数的调用："
   ]
  },
  {
   "cell_type": "code",
   "execution_count": 92,
   "metadata": {
    "slideshow": {
     "slide_type": "fragment"
    }
   },
   "outputs": [],
   "source": [
    "def power(x, n=2):  #幂函数\n",
    "    s = 1\n",
    "    while n > 0:\n",
    "        s = s * x\n",
    "        n = n - 1\n",
    "    return s"
   ]
  },
  {
   "cell_type": "code",
   "execution_count": 90,
   "metadata": {
    "slideshow": {
     "slide_type": "fragment"
    }
   },
   "outputs": [
    {
     "data": {
      "text/plain": [
       "25"
      ]
     },
     "execution_count": 90,
     "metadata": {},
     "output_type": "execute_result"
    }
   ],
   "source": [
    "power(5) #只输入一个数，默认求其平方"
   ]
  },
  {
   "cell_type": "code",
   "execution_count": 91,
   "metadata": {
    "slideshow": {
     "slide_type": "fragment"
    }
   },
   "outputs": [
    {
     "data": {
      "text/plain": [
       "125"
      ]
     },
     "execution_count": 91,
     "metadata": {},
     "output_type": "execute_result"
    }
   ],
   "source": [
    "power(5,3)"
   ]
  },
  {
   "cell_type": "markdown",
   "metadata": {
    "slideshow": {
     "slide_type": "subslide"
    }
   },
   "source": [
    "functools.partial可以创建一个新的函数，这个新函数可以固定住原函数的部分参数，从而在调用时更简单"
   ]
  },
  {
   "cell_type": "code",
   "execution_count": 93,
   "metadata": {
    "slideshow": {
     "slide_type": "fragment"
    }
   },
   "outputs": [
    {
     "data": {
      "text/plain": [
       "64"
      ]
     },
     "execution_count": 93,
     "metadata": {},
     "output_type": "execute_result"
    }
   ],
   "source": [
    "import functools\n",
    "int2 = functools.partial(int, base=2)\n",
    "int2('1000000')     #相当于int('1000000',base = 2)，即默认二进制转换为十进制"
   ]
  },
  {
   "cell_type": "markdown",
   "metadata": {
    "slideshow": {
     "slide_type": "subslide"
    }
   },
   "source": [
    "### 生成器(generator)"
   ]
  },
  {
   "cell_type": "markdown",
   "metadata": {
    "slideshow": {
     "slide_type": "fragment"
    }
   },
   "source": [
    "如果一个函数定义中包含yield关键字，那么这个函数就不再是一个普通函数，而是一个generator,可通过for循环来迭代它"
   ]
  },
  {
   "cell_type": "code",
   "execution_count": 7,
   "metadata": {
    "slideshow": {
     "slide_type": "fragment"
    }
   },
   "outputs": [],
   "source": [
    "def triangles(n):    #杨辉三角\n",
    "    L = [1]\n",
    "    for x in range(n):\n",
    "        yield L\n",
    "        L = [1] + [L[i] + L[i+1] for i in range(len(L)-1)] + [1]"
   ]
  },
  {
   "cell_type": "code",
   "execution_count": 8,
   "metadata": {
    "slideshow": {
     "slide_type": "fragment"
    }
   },
   "outputs": [
    {
     "name": "stdout",
     "output_type": "stream",
     "text": [
      "[1]\n",
      "[1, 1]\n",
      "[1, 2, 1]\n",
      "[1, 3, 3, 1]\n",
      "[1, 4, 6, 4, 1]\n",
      "[1, 5, 10, 10, 5, 1]\n",
      "[1, 6, 15, 20, 15, 6, 1]\n",
      "[1, 7, 21, 35, 35, 21, 7, 1]\n",
      "[1, 8, 28, 56, 70, 56, 28, 8, 1]\n",
      "[1, 9, 36, 84, 126, 126, 84, 36, 9, 1]\n"
     ]
    }
   ],
   "source": [
    "for x in triangles(10):     \n",
    "    print(x)"
   ]
  },
  {
   "cell_type": "markdown",
   "metadata": {
    "slideshow": {
     "slide_type": "subslide"
    }
   },
   "source": [
    "### 高阶函数"
   ]
  },
  {
   "cell_type": "markdown",
   "metadata": {
    "slideshow": {
     "slide_type": "fragment"
    }
   },
   "source": [
    "变量可以指向函数,函数名也是变量,一个函数就可以接收另一个函数作为参数，这种函数就称之为高阶函数。"
   ]
  },
  {
   "cell_type": "code",
   "execution_count": 8,
   "metadata": {
    "slideshow": {
     "slide_type": "fragment"
    }
   },
   "outputs": [],
   "source": [
    "def add(x, y, f):\n",
    "    return f(x) + f(y)"
   ]
  },
  {
   "cell_type": "code",
   "execution_count": 9,
   "metadata": {
    "slideshow": {
     "slide_type": "fragment"
    }
   },
   "outputs": [
    {
     "data": {
      "text/plain": [
       "11"
      ]
     },
     "execution_count": 9,
     "metadata": {},
     "output_type": "execute_result"
    }
   ],
   "source": [
    "add(-5, 6, abs)"
   ]
  },
  {
   "cell_type": "markdown",
   "metadata": {
    "slideshow": {
     "slide_type": "subslide"
    }
   },
   "source": [
    "map(函数,可迭代序列)作为高阶函数，将传入的函数依次作用到序列的每个元素，并把结果作为新的迭代器返回。"
   ]
  },
  {
   "cell_type": "code",
   "execution_count": 10,
   "metadata": {
    "slideshow": {
     "slide_type": "fragment"
    }
   },
   "outputs": [
    {
     "data": {
      "text/plain": [
       "['1', '2', '3', '4', '5', '6', '7', '8', '9']"
      ]
     },
     "execution_count": 10,
     "metadata": {},
     "output_type": "execute_result"
    }
   ],
   "source": [
    "list(map(str, [1, 2, 3, 4, 5, 6, 7, 8, 9]))"
   ]
  },
  {
   "cell_type": "code",
   "execution_count": 13,
   "metadata": {
    "slideshow": {
     "slide_type": "fragment"
    }
   },
   "outputs": [],
   "source": [
    "def normalize(name):  #将名字中的字母大小写规范化\n",
    "    name = name.lower()\n",
    "    name = name.capitalize()\n",
    "    return name"
   ]
  },
  {
   "cell_type": "code",
   "execution_count": 12,
   "metadata": {
    "slideshow": {
     "slide_type": "fragment"
    }
   },
   "outputs": [
    {
     "data": {
      "text/plain": [
       "['Adam', 'Lisa', 'Bart']"
      ]
     },
     "execution_count": 12,
     "metadata": {},
     "output_type": "execute_result"
    }
   ],
   "source": [
    "L = ['adam', 'LISA', 'barT']\n",
    "list(map(normalize, L))"
   ]
  },
  {
   "cell_type": "markdown",
   "metadata": {
    "slideshow": {
     "slide_type": "subslide"
    }
   },
   "source": [
    "reduce作为高阶函数，其效果是：reduce(f, [x1, x2, x3, x4]) = f(f(f(x1, x2), x3), x4)  (f必须接收两个参数)"
   ]
  },
  {
   "cell_type": "code",
   "execution_count": 16,
   "metadata": {
    "slideshow": {
     "slide_type": "fragment"
    }
   },
   "outputs": [],
   "source": [
    "from functools import reduce\n",
    "def prod(L):  #求list中所有数的乘积\n",
    "    return reduce(lambda x, y: x * y, L )"
   ]
  },
  {
   "cell_type": "code",
   "execution_count": 17,
   "metadata": {
    "slideshow": {
     "slide_type": "fragment"
    }
   },
   "outputs": [
    {
     "data": {
      "text/plain": [
       "945"
      ]
     },
     "execution_count": 17,
     "metadata": {},
     "output_type": "execute_result"
    }
   ],
   "source": [
    "prod([3, 5, 7, 9])"
   ]
  },
  {
   "cell_type": "markdown",
   "metadata": {
    "slideshow": {
     "slide_type": "subslide"
    }
   },
   "source": [
    "filter(函数，序列)：把传入的函数依次作用于每个元素，然后根据返回值是True还是False决定保留还是丢弃该元素。"
   ]
  },
  {
   "cell_type": "code",
   "execution_count": 6,
   "metadata": {
    "slideshow": {
     "slide_type": "fragment"
    }
   },
   "outputs": [
    {
     "data": {
      "text/plain": [
       "[1, 5, 9, 15]"
      ]
     },
     "execution_count": 6,
     "metadata": {},
     "output_type": "execute_result"
    }
   ],
   "source": [
    "list(filter(lambda x: x % 2 == 1, [1, 2, 4, 5, 6, 9, 10, 15]))  #返回list中的奇数"
   ]
  },
  {
   "cell_type": "markdown",
   "metadata": {
    "slideshow": {
     "slide_type": "subslide"
    }
   },
   "source": [
    "sorted(序列，keys)：按照keys中函数作用后的结果进行排序，并按照对应关系返回list相应的元素"
   ]
  },
  {
   "cell_type": "code",
   "execution_count": 3,
   "metadata": {
    "slideshow": {
     "slide_type": "fragment"
    }
   },
   "outputs": [
    {
     "data": {
      "text/plain": [
       "[5, 9, -12, -21, 36]"
      ]
     },
     "execution_count": 3,
     "metadata": {},
     "output_type": "execute_result"
    }
   ],
   "source": [
    "sorted([36, 5, -12, 9, -21], key=abs)"
   ]
  },
  {
   "cell_type": "code",
   "execution_count": 5,
   "metadata": {
    "slideshow": {
     "slide_type": "fragment"
    }
   },
   "outputs": [
    {
     "name": "stdout",
     "output_type": "stream",
     "text": [
      "[('Adam', 92), ('Bart', 66), ('Bob', 75), ('Lisa', 88)]\n",
      "[('Bart', 66), ('Bob', 75), ('Lisa', 88), ('Adam', 92)]\n",
      "[('Adam', 92), ('Lisa', 88), ('Bob', 75), ('Bart', 66)]\n"
     ]
    }
   ],
   "source": [
    "students = [('Bob', 75), ('Adam', 92), ('Bart', 66), ('Lisa', 88)]\n",
    "\n",
    "print(sorted(students, key=lambda x: x[0]))  #按名字\n",
    "print(sorted(students, key=lambda x: x[1]))  #按成绩从低到高\n",
    "print(sorted(students, key=lambda x: x[1], reverse=True))  #按成绩从高到低"
   ]
  },
  {
   "cell_type": "markdown",
   "metadata": {
    "slideshow": {
     "slide_type": "slide"
    }
   },
   "source": [
    "## Python 的类"
   ]
  },
  {
   "cell_type": "markdown",
   "metadata": {
    "slideshow": {
     "slide_type": "fragment"
    }
   },
   "source": [
    "面向对象的程序设计思想，是把对象作为程序的基本单元：类是抽象的模板，实例是根据类创建出来的一个个具体的“对象”，每个对象都拥有相同的方法，但各自的数据可能不同。"
   ]
  },
  {
   "cell_type": "code",
   "execution_count": 104,
   "metadata": {
    "slideshow": {
     "slide_type": "subslide"
    }
   },
   "outputs": [],
   "source": [
    "class MyClass:\n",
    "    \"\"\"A simple example class\"\"\"\n",
    "    i = 12345\n",
    "    def f(self):\n",
    "        return 'hello world'"
   ]
  },
  {
   "cell_type": "code",
   "execution_count": 95,
   "metadata": {
    "slideshow": {
     "slide_type": "fragment"
    }
   },
   "outputs": [
    {
     "data": {
      "text/plain": [
       "<__main__.MyClass at 0x4dedcf8>"
      ]
     },
     "execution_count": 95,
     "metadata": {},
     "output_type": "execute_result"
    }
   ],
   "source": [
    "MyClass()"
   ]
  },
  {
   "cell_type": "code",
   "execution_count": 96,
   "metadata": {
    "slideshow": {
     "slide_type": "fragment"
    }
   },
   "outputs": [
    {
     "data": {
      "text/plain": [
       "12345"
      ]
     },
     "execution_count": 96,
     "metadata": {},
     "output_type": "execute_result"
    }
   ],
   "source": [
    "MyClass.i  #引用属性"
   ]
  },
  {
   "cell_type": "code",
   "execution_count": 97,
   "metadata": {
    "slideshow": {
     "slide_type": "fragment"
    }
   },
   "outputs": [
    {
     "data": {
      "text/plain": [
       "<function __main__.MyClass.f(self)>"
      ]
     },
     "execution_count": 97,
     "metadata": {},
     "output_type": "execute_result"
    }
   ],
   "source": [
    "MyClass.f"
   ]
  },
  {
   "cell_type": "code",
   "execution_count": 98,
   "metadata": {
    "slideshow": {
     "slide_type": "fragment"
    }
   },
   "outputs": [
    {
     "data": {
      "text/plain": [
       "3"
      ]
     },
     "execution_count": 98,
     "metadata": {},
     "output_type": "execute_result"
    }
   ],
   "source": [
    "MyClass.i = 3  #更改属性值\n",
    "MyClass.i"
   ]
  },
  {
   "cell_type": "code",
   "execution_count": 103,
   "metadata": {
    "slideshow": {
     "slide_type": "fragment"
    }
   },
   "outputs": [
    {
     "data": {
      "text/plain": [
       "1"
      ]
     },
     "execution_count": 103,
     "metadata": {},
     "output_type": "execute_result"
    }
   ],
   "source": [
    "MyClass.x = 1  #根据需要添加定义中没有的属性\n",
    "MyClass.x"
   ]
  },
  {
   "cell_type": "markdown",
   "metadata": {
    "slideshow": {
     "slide_type": "subslide"
    }
   },
   "source": [
    "在创建实例的时候，定义一个特殊的__init__方法，把一些我们认为必须绑定的属性强制填写进去，可以起到模板的作用。"
   ]
  },
  {
   "cell_type": "code",
   "execution_count": 20,
   "metadata": {
    "slideshow": {
     "slide_type": "fragment"
    }
   },
   "outputs": [],
   "source": [
    "class Complex:\n",
    "    def __init__(self, realpart, imagpart):  #注意：特殊方法“__init__”前后分别有两个下划线\n",
    "        self.r = realpart\n",
    "        self.i = imagpart"
   ]
  },
  {
   "cell_type": "code",
   "execution_count": 21,
   "metadata": {
    "slideshow": {
     "slide_type": "fragment"
    }
   },
   "outputs": [
    {
     "data": {
      "text/plain": [
       "(3.0, -4.5)"
      ]
     },
     "execution_count": 21,
     "metadata": {},
     "output_type": "execute_result"
    }
   ],
   "source": [
    "x = Complex(3.0, -4.5)\n",
    "x.r, x.i"
   ]
  },
  {
   "cell_type": "markdown",
   "metadata": {
    "slideshow": {
     "slide_type": "slide"
    }
   },
   "source": [
    "##  读取文件 "
   ]
  },
  {
   "cell_type": "markdown",
   "metadata": {
    "slideshow": {
     "slide_type": "subslide"
    }
   },
   "source": [
    "### 读取txt"
   ]
  },
  {
   "cell_type": "code",
   "execution_count": 100,
   "metadata": {
    "slideshow": {
     "slide_type": "fragment"
    }
   },
   "outputs": [
    {
     "data": {
      "text/plain": [
       "'C:\\\\Users\\\\Administrator\\\\Desktop'"
      ]
     },
     "execution_count": 100,
     "metadata": {},
     "output_type": "execute_result"
    }
   ],
   "source": [
    "pwd"
   ]
  },
  {
   "cell_type": "markdown",
   "metadata": {
    "slideshow": {
     "slide_type": "fragment"
    }
   },
   "source": [
    "在上述目录下创建一个test.txt,写入“Hello world！”"
   ]
  },
  {
   "cell_type": "code",
   "execution_count": 24,
   "metadata": {
    "slideshow": {
     "slide_type": "fragment"
    }
   },
   "outputs": [],
   "source": [
    "file_for_reading = open('test.txt', 'r')  #‘r’表示read"
   ]
  },
  {
   "cell_type": "code",
   "execution_count": 2,
   "metadata": {
    "slideshow": {
     "slide_type": "fragment"
    }
   },
   "outputs": [
    {
     "data": {
      "text/plain": [
       "'Hello world! \\n'"
      ]
     },
     "execution_count": 2,
     "metadata": {},
     "output_type": "execute_result"
    }
   ],
   "source": [
    "file_for_reading.read()"
   ]
  },
  {
   "cell_type": "code",
   "execution_count": 3,
   "metadata": {
    "slideshow": {
     "slide_type": "fragment"
    }
   },
   "outputs": [],
   "source": [
    "file_for_reading.close()"
   ]
  },
  {
   "cell_type": "code",
   "execution_count": 25,
   "metadata": {
    "slideshow": {
     "slide_type": "subslide"
    }
   },
   "outputs": [],
   "source": [
    "file_for_writing = open('test.txt', 'w')  #‘w’表示write"
   ]
  },
  {
   "cell_type": "code",
   "execution_count": 5,
   "metadata": {
    "slideshow": {
     "slide_type": "fragment"
    }
   },
   "outputs": [
    {
     "data": {
      "text/plain": [
       "18"
      ]
     },
     "execution_count": 5,
     "metadata": {},
     "output_type": "execute_result"
    }
   ],
   "source": [
    "file_for_writing.write('I love studying! \\n')"
   ]
  },
  {
   "cell_type": "code",
   "execution_count": 6,
   "metadata": {
    "slideshow": {
     "slide_type": "fragment"
    }
   },
   "outputs": [],
   "source": [
    "file_for_writing.close()"
   ]
  },
  {
   "cell_type": "markdown",
   "metadata": {
    "slideshow": {
     "slide_type": "fragment"
    }
   },
   "source": [
    "查看test.txt，发现内容变成了‘I love studying!’，说明原内容被覆盖"
   ]
  },
  {
   "cell_type": "code",
   "execution_count": 26,
   "metadata": {
    "slideshow": {
     "slide_type": "subslide"
    }
   },
   "outputs": [],
   "source": [
    "file_for_appending = open('test.txt','a') #‘a’表示append"
   ]
  },
  {
   "cell_type": "code",
   "execution_count": 8,
   "metadata": {
    "slideshow": {
     "slide_type": "fragment"
    }
   },
   "outputs": [
    {
     "data": {
      "text/plain": [
       "14"
      ]
     },
     "execution_count": 8,
     "metadata": {},
     "output_type": "execute_result"
    }
   ],
   "source": [
    "file_for_appending.write('Hello world! \\n')"
   ]
  },
  {
   "cell_type": "code",
   "execution_count": 27,
   "metadata": {
    "slideshow": {
     "slide_type": "fragment"
    }
   },
   "outputs": [],
   "source": [
    "file_for_appending.close()"
   ]
  },
  {
   "cell_type": "markdown",
   "metadata": {
    "slideshow": {
     "slide_type": "fragment"
    }
   },
   "source": [
    "再次查看，发现原内容后加入了一行Hello world! "
   ]
  },
  {
   "cell_type": "markdown",
   "metadata": {
    "slideshow": {
     "slide_type": "subslide"
    }
   },
   "source": [
    "由于close()很容易忘记，故推荐采用with语句，在语句执行完毕后自动关闭："
   ]
  },
  {
   "cell_type": "code",
   "execution_count": 10,
   "metadata": {
    "slideshow": {
     "slide_type": "fragment"
    }
   },
   "outputs": [],
   "source": [
    "with open('test.txt','a') as file:\n",
    "    file.write('Nice to meet you! \\n')"
   ]
  },
  {
   "cell_type": "markdown",
   "metadata": {
    "slideshow": {
     "slide_type": "subslide"
    }
   },
   "source": [
    "### 读取csv"
   ]
  },
  {
   "cell_type": "markdown",
   "metadata": {
    "slideshow": {
     "slide_type": "fragment"
    }
   },
   "source": [
    "在工作目录下创建一个stocks.csv,由symbol,date,closing_price三列构成，并填充数据"
   ]
  },
  {
   "cell_type": "code",
   "execution_count": 12,
   "metadata": {
    "slideshow": {
     "slide_type": "fragment"
    }
   },
   "outputs": [],
   "source": [
    "import csv\n",
    "\n",
    "data = {'symbol':[], 'date':[], 'closing_price' : []}\n",
    "with open('stocks.csv', 'r') as f:\n",
    "    reader = csv.DictReader(f)\n",
    "    for row in reader:\n",
    "        data['symbol'].append(row[\"symbol\"])\n",
    "        data['date'].append(row[\"date\"])\n",
    "        data['closing_price'].append(float(row[\"closing_price\"]))"
   ]
  },
  {
   "cell_type": "code",
   "execution_count": 112,
   "metadata": {
    "slideshow": {
     "slide_type": "fragment"
    }
   },
   "outputs": [
    {
     "data": {
      "text/plain": [
       "dict_keys(['symbol', 'date', 'closing_price'])"
      ]
     },
     "execution_count": 112,
     "metadata": {},
     "output_type": "execute_result"
    }
   ],
   "source": [
    "data.keys()"
   ]
  },
  {
   "cell_type": "code",
   "execution_count": 113,
   "metadata": {
    "slideshow": {
     "slide_type": "fragment"
    }
   },
   "outputs": [
    {
     "data": {
      "text/plain": [
       "[112.98, 112.4, 109.55, 108.72, 105.99]"
      ]
     },
     "execution_count": 113,
     "metadata": {},
     "output_type": "execute_result"
    }
   ],
   "source": [
    "data['closing_price']"
   ]
  },
  {
   "cell_type": "markdown",
   "metadata": {
    "slideshow": {
     "slide_type": "subslide"
    }
   },
   "source": [
    "也可使用pandas包中的read_csv()函数读取csv文件："
   ]
  },
  {
   "cell_type": "code",
   "execution_count": 13,
   "metadata": {
    "slideshow": {
     "slide_type": "fragment"
    }
   },
   "outputs": [
    {
     "name": "stdout",
     "output_type": "stream",
     "text": [
      "5\n",
      "<class 'pandas.core.frame.DataFrame'>\n"
     ]
    }
   ],
   "source": [
    "import pandas  \n",
    "data2 = pandas.read_csv('stocks.csv') \n",
    "print(len(data2)) \n",
    "print(type(data2))"
   ]
  },
  {
   "cell_type": "code",
   "execution_count": 14,
   "metadata": {
    "slideshow": {
     "slide_type": "fragment"
    }
   },
   "outputs": [
    {
     "data": {
      "text/html": [
       "<div>\n",
       "<style scoped>\n",
       "    .dataframe tbody tr th:only-of-type {\n",
       "        vertical-align: middle;\n",
       "    }\n",
       "\n",
       "    .dataframe tbody tr th {\n",
       "        vertical-align: top;\n",
       "    }\n",
       "\n",
       "    .dataframe thead th {\n",
       "        text-align: right;\n",
       "    }\n",
       "</style>\n",
       "<table border=\"1\" class=\"dataframe\">\n",
       "  <thead>\n",
       "    <tr style=\"text-align: right;\">\n",
       "      <th></th>\n",
       "      <th>symbol</th>\n",
       "      <th>date</th>\n",
       "      <th>closing_price</th>\n",
       "    </tr>\n",
       "  </thead>\n",
       "  <tbody>\n",
       "    <tr>\n",
       "      <th>0</th>\n",
       "      <td>AAPL</td>\n",
       "      <td>2015/1/23</td>\n",
       "      <td>112.98</td>\n",
       "    </tr>\n",
       "    <tr>\n",
       "      <th>1</th>\n",
       "      <td>AAPL</td>\n",
       "      <td>2015/1/22</td>\n",
       "      <td>112.40</td>\n",
       "    </tr>\n",
       "    <tr>\n",
       "      <th>2</th>\n",
       "      <td>AAPL</td>\n",
       "      <td>2015/1/21</td>\n",
       "      <td>109.55</td>\n",
       "    </tr>\n",
       "    <tr>\n",
       "      <th>3</th>\n",
       "      <td>AAPL</td>\n",
       "      <td>2015/1/20</td>\n",
       "      <td>108.72</td>\n",
       "    </tr>\n",
       "    <tr>\n",
       "      <th>4</th>\n",
       "      <td>AAPL</td>\n",
       "      <td>2015/1/16</td>\n",
       "      <td>105.99</td>\n",
       "    </tr>\n",
       "  </tbody>\n",
       "</table>\n",
       "</div>"
      ],
      "text/plain": [
       "  symbol       date  closing_price\n",
       "0   AAPL  2015/1/23         112.98\n",
       "1   AAPL  2015/1/22         112.40\n",
       "2   AAPL  2015/1/21         109.55\n",
       "3   AAPL  2015/1/20         108.72\n",
       "4   AAPL  2015/1/16         105.99"
      ]
     },
     "execution_count": 14,
     "metadata": {},
     "output_type": "execute_result"
    }
   ],
   "source": [
    "data2"
   ]
  },
  {
   "cell_type": "code",
   "execution_count": 16,
   "metadata": {
    "slideshow": {
     "slide_type": "fragment"
    }
   },
   "outputs": [
    {
     "data": {
      "text/plain": [
       "symbol                AAPL\n",
       "date             2015/1/22\n",
       "closing_price        112.4\n",
       "Name: 1, dtype: object"
      ]
     },
     "execution_count": 16,
     "metadata": {},
     "output_type": "execute_result"
    }
   ],
   "source": [
    "data2.iloc[1]"
   ]
  },
  {
   "cell_type": "code",
   "execution_count": 17,
   "metadata": {
    "slideshow": {
     "slide_type": "fragment"
    }
   },
   "outputs": [
    {
     "data": {
      "text/plain": [
       "'2015/1/22'"
      ]
     },
     "execution_count": 17,
     "metadata": {},
     "output_type": "execute_result"
    }
   ],
   "source": [
    "data2.iloc[1]['date']"
   ]
  },
  {
   "cell_type": "markdown",
   "metadata": {
    "slideshow": {
     "slide_type": "slide"
    }
   },
   "source": [
    "## 文本处理 "
   ]
  },
  {
   "cell_type": "code",
   "execution_count": 116,
   "metadata": {
    "slideshow": {
     "slide_type": "fragment"
    }
   },
   "outputs": [],
   "source": [
    "import nltk"
   ]
  },
  {
   "cell_type": "code",
   "execution_count": 117,
   "metadata": {
    "slideshow": {
     "slide_type": "fragment"
    }
   },
   "outputs": [
    {
     "name": "stdout",
     "output_type": "stream",
     "text": [
      "[nltk_data] Downloading package punkt to\n",
      "[nltk_data]     C:\\Users\\Administrator\\AppData\\Roaming\\nltk_data...\n",
      "[nltk_data]   Package punkt is already up-to-date!\n"
     ]
    },
    {
     "data": {
      "text/plain": [
       "True"
      ]
     },
     "execution_count": 117,
     "metadata": {},
     "output_type": "execute_result"
    }
   ],
   "source": [
    "nltk.download('punkt')"
   ]
  },
  {
   "cell_type": "markdown",
   "metadata": {
    "slideshow": {
     "slide_type": "subslide"
    }
   },
   "source": [
    "分段为句："
   ]
  },
  {
   "cell_type": "code",
   "execution_count": 118,
   "metadata": {
    "slideshow": {
     "slide_type": "fragment"
    }
   },
   "outputs": [],
   "source": [
    "para = \"Python is a widely used general-purpose, high-level programming language. Its design philosophy emphasizes code readability, and its syntax allows programmers to express concepts in fewer lines of code than would be possible in languages such as C++ or Java.\""
   ]
  },
  {
   "cell_type": "code",
   "execution_count": 119,
   "metadata": {
    "slideshow": {
     "slide_type": "fragment"
    }
   },
   "outputs": [
    {
     "data": {
      "text/plain": [
       "['Python is a widely used general-purpose, high-level programming language.',\n",
       " 'Its design philosophy emphasizes code readability, and its syntax allows programmers to express concepts in fewer lines of code than would be possible in languages such as C++ or Java.']"
      ]
     },
     "execution_count": 119,
     "metadata": {},
     "output_type": "execute_result"
    }
   ],
   "source": [
    "from nltk.tokenize import sent_tokenize \n",
    "sent_tokenize(para)"
   ]
  },
  {
   "cell_type": "markdown",
   "metadata": {
    "slideshow": {
     "slide_type": "subslide"
    }
   },
   "source": [
    "分段为词："
   ]
  },
  {
   "cell_type": "code",
   "execution_count": 120,
   "metadata": {
    "slideshow": {
     "slide_type": "fragment"
    }
   },
   "outputs": [
    {
     "data": {
      "text/plain": [
       "['Python',\n",
       " 'is',\n",
       " 'a',\n",
       " 'widely',\n",
       " 'used',\n",
       " 'general-purpose',\n",
       " ',',\n",
       " 'high-level',\n",
       " 'programming',\n",
       " 'language',\n",
       " '.',\n",
       " 'Its',\n",
       " 'design',\n",
       " 'philosophy',\n",
       " 'emphasizes',\n",
       " 'code',\n",
       " 'readability',\n",
       " ',',\n",
       " 'and',\n",
       " 'its',\n",
       " 'syntax',\n",
       " 'allows',\n",
       " 'programmers',\n",
       " 'to',\n",
       " 'express',\n",
       " 'concepts',\n",
       " 'in',\n",
       " 'fewer',\n",
       " 'lines',\n",
       " 'of',\n",
       " 'code',\n",
       " 'than',\n",
       " 'would',\n",
       " 'be',\n",
       " 'possible',\n",
       " 'in',\n",
       " 'languages',\n",
       " 'such',\n",
       " 'as',\n",
       " 'C++',\n",
       " 'or',\n",
       " 'Java',\n",
       " '.']"
      ]
     },
     "execution_count": 120,
     "metadata": {},
     "output_type": "execute_result"
    }
   ],
   "source": [
    "from nltk.tokenize import word_tokenize\n",
    "word_tokenize(para)"
   ]
  },
  {
   "cell_type": "markdown",
   "metadata": {
    "slideshow": {
     "slide_type": "subslide"
    }
   },
   "source": [
    "过滤掉语句中的“stopwords”："
   ]
  },
  {
   "cell_type": "code",
   "execution_count": 122,
   "metadata": {
    "slideshow": {
     "slide_type": "fragment"
    }
   },
   "outputs": [
    {
     "name": "stdout",
     "output_type": "stream",
     "text": [
      "[nltk_data] Downloading package stopwords to\n",
      "[nltk_data]     C:\\Users\\Administrator\\AppData\\Roaming\\nltk_data...\n",
      "[nltk_data]   Package stopwords is already up-to-date!\n"
     ]
    },
    {
     "data": {
      "text/plain": [
       "True"
      ]
     },
     "execution_count": 122,
     "metadata": {},
     "output_type": "execute_result"
    }
   ],
   "source": [
    "nltk.download('stopwords')"
   ]
  },
  {
   "cell_type": "code",
   "execution_count": 28,
   "metadata": {
    "slideshow": {
     "slide_type": "fragment"
    }
   },
   "outputs": [
    {
     "name": "stdout",
     "output_type": "stream",
     "text": [
      "{'which', \"hadn't\", 'can', 'but', 'whom', 'won', 'too', 'under', 'more', 'to', 'that', 't', 'theirs', 'doing', 'your', 'those', 'up', 'doesn', 'again', 'hadn', 'mustn', 'an', 'in', 'didn', 'same', 'been', 'of', 'most', 'as', 'where', 'once', 'o', 'own', 'off', 'ain', 'hasn', 'no', 'during', 'all', 'weren', \"mustn't\", 'now', 'his', 'above', \"you've\", 'these', 'i', 'on', 'both', \"isn't\", 'between', 'the', 'her', 'don', 'itself', \"don't\", 'we', \"hasn't\", 'isn', 'wasn', 'here', 'than', 'then', \"weren't\", 'or', 'should', \"you'll\", 'my', 'be', 'being', 'so', 'y', 'until', \"wasn't\", 'd', 'only', 'had', 'aren', 'with', 'mightn', \"you'd\", 'its', 'haven', 'was', 'll', \"aren't\", \"shan't\", \"wouldn't\", 'wouldn', 'into', 'such', \"doesn't\", 'themselves', 'there', \"shouldn't\", 'some', 'she', \"couldn't\", 'do', 'for', 'while', 'any', 're', 'over', 'did', 'will', \"won't\", 'about', 'further', 'other', 'few', 'at', 'have', 'ma', 'they', 'me', 'is', 'out', 'having', 'why', \"you're\", 'yours', 'just', 'couldn', 'shan', 'he', 'very', 'our', 'shouldn', 'against', 'ours', 'herself', 'has', 'are', 'below', 'nor', 'm', 'a', 'needn', 'hers', 'what', 'after', 'from', 'because', 'not', 've', 'does', 'who', 'this', 'him', \"didn't\", 'and', 'were', 'when', \"that'll\", 'by', 'down', 'himself', 'their', 'how', 'yourselves', 'myself', \"she's\", 'before', 'them', \"it's\", 'through', 'am', 'you', \"mightn't\", 'yourself', 'each', 's', 'it', \"haven't\", \"should've\", 'ourselves', \"needn't\", 'if'}\n"
     ]
    }
   ],
   "source": [
    "from nltk.corpus import stopwords\n",
    "english_stops = set(stopwords.words('english'))\n",
    "print(english_stops)  #输出stopwords"
   ]
  },
  {
   "cell_type": "code",
   "execution_count": 121,
   "metadata": {
    "slideshow": {
     "slide_type": "subslide"
    }
   },
   "outputs": [
    {
     "data": {
      "text/plain": [
       "['Smoking', 'is', 'now', 'banned', 'in', 'many', 'places', 'of', 'work']"
      ]
     },
     "execution_count": 121,
     "metadata": {},
     "output_type": "execute_result"
    }
   ],
   "source": [
    "from nltk.tokenize import RegexpTokenizer \n",
    "tokenizer = RegexpTokenizer(\"[\\w']+\") \n",
    "words = tokenizer.tokenize(\"Smoking is now banned in many places of work.\") \n",
    "words"
   ]
  },
  {
   "cell_type": "code",
   "execution_count": 124,
   "metadata": {
    "slideshow": {
     "slide_type": "fragment"
    }
   },
   "outputs": [
    {
     "data": {
      "text/plain": [
       "['Smoking', 'banned', 'many', 'places', 'work']"
      ]
     },
     "execution_count": 124,
     "metadata": {},
     "output_type": "execute_result"
    }
   ],
   "source": [
    "[word for word in words if word not in english_stops]"
   ]
  },
  {
   "cell_type": "markdown",
   "metadata": {
    "slideshow": {
     "slide_type": "subslide"
    }
   },
   "source": [
    "去掉词缀："
   ]
  },
  {
   "cell_type": "code",
   "execution_count": 125,
   "metadata": {
    "slideshow": {
     "slide_type": "fragment"
    }
   },
   "outputs": [
    {
     "data": {
      "text/plain": [
       "'cook'"
      ]
     },
     "execution_count": 125,
     "metadata": {},
     "output_type": "execute_result"
    }
   ],
   "source": [
    "from nltk.stem import PorterStemmer\n",
    "stemmer = PorterStemmer()\n",
    "stemmer.stem('cooking')"
   ]
  },
  {
   "cell_type": "markdown",
   "metadata": {
    "slideshow": {
     "slide_type": "slide"
    }
   },
   "source": [
    "## 网络爬虫"
   ]
  },
  {
   "cell_type": "markdown",
   "metadata": {
    "slideshow": {
     "slide_type": "fragment"
    }
   },
   "source": [
    "网络爬虫（Web crawler），是一种按照一定的规则，自动地抓取万维网信息的程序或者脚本，它们被广泛用于互联网搜索引擎或其他类似网站，可以自动采集所有其能够访问到的页面内容，以获取或更新这些网站的内容和检索方式。从功能上来讲，爬虫一般分为数据采集，处理，储存三个部分。\n",
    "\n",
    "使用Python这样的简单编程语言，你可以使用少量编程技能就可以爬取复杂的网站。"
   ]
  },
  {
   "cell_type": "markdown",
   "metadata": {
    "slideshow": {
     "slide_type": "subslide"
    }
   },
   "source": [
    "查看源文件的方法：1.在要爬取的页面上点击鼠标右键  2.用如下方式："
   ]
  },
  {
   "cell_type": "code",
   "execution_count": 1,
   "metadata": {
    "slideshow": {
     "slide_type": "fragment"
    }
   },
   "outputs": [
    {
     "name": "stdout",
     "output_type": "stream",
     "text": [
      "b'<!DOCTYPE html>\\n<html lang=\"en-US\" class=\"no-js\">\\n<head>\\n\\t<meta charset=\"UTF-8\">\\n\\t<meta name=\"viewport\" content=\"width=device-width, initial-scale=1\">\\n\\t<link rel=\"profile\" href=\"http://gmpg.org/xfn/11\">\\n\\t\\t<script>(function(html){html.className = html.className.replace(/\\\\bno-js\\\\b/,\\'js\\')})(document.documentElement);</script>\\n<title>Python &#8211; Dr. Feng Li</title>\\n<link rel=\\'dns-prefetch\\' href=\\'//feng.li\\' />\\n<link rel=\\'dns-prefetch\\' href=\\'//fonts.googleapis.com\\' />\\n<link rel=\\'dns-prefetch\\' href=\\'//s.w.org\\' />\\n<link rel=\"alternate\" type=\"application/rss+xml\" title=\"Dr. Feng Li &raquo; Feed\" href=\"https://feng.li/feed/\" />\\n<link rel=\"alternate\" type=\"application/rss+xml\" title=\"Dr. Feng Li &raquo; Comments Feed\" href=\"https://feng.li/comments/feed/\" />\\n\\t\\t<script type=\"text/javascript\">\\n\\t\\t\\twindow._wpemojiSettings = {\"baseUrl\":\"https:\\\\/\\\\/s.w.org\\\\/images\\\\/core\\\\/emoji\\\\/11\\\\/72x72\\\\/\",\"ext\":\".png\",\"svgUrl\":\"https:\\\\/\\\\/s.w.org\\\\/images\\\\/core\\\\/emoji\\\\/11\\\\/svg\\\\/\",\"svgExt\":\".svg\",\"source\":{\"concatemoji\":\"https:\\\\/\\\\/feng.li\\\\/wordpress\\\\/wp-includes\\\\/js\\\\/wp-emoji-release.min.js?ver=4.9.8\"}};\\n\\t\\t\\t!function(a,b,c){function d(a,b){var c=String.fromCharCode;l.clearRect(0,0,k.width,k.height),l.fillText(c.apply(this,a),0,0);var d=k.toDataURL();l.clearRect(0,0,k.width,k.height),l.fillText(c.apply(this,b),0,0);var e=k.toDataURL();return d===e}function e(a){var b;if(!l||!l.fillText)return!1;switch(l.textBaseline=\"top\",l.font=\"600 32px Arial\",a){case\"flag\":return!(b=d([55356,56826,55356,56819],[55356,56826,8203,55356,56819]))&&(b=d([55356,57332,56128,56423,56128,56418,56128,56421,56128,56430,56128,56423,56128,56447],[55356,57332,8203,56128,56423,8203,56128,56418,8203,56128,56421,8203,56128,56430,8203,56128,56423,8203,56128,56447]),!b);case\"emoji\":return b=d([55358,56760,9792,65039],[55358,56760,8203,9792,65039]),!b}return!1}function f(a){var c=b.createElement(\"script\");c.src=a,c.defer=c.type=\"text/javascript\",b.getElementsByTagName(\"head\")[0].appendChild(c)}var g,h,i,j,k=b.createElement(\"canvas\"),l=k.getContext&&k.getContext(\"2d\");for(j=Array(\"flag\",\"emoji\"),c.supports={everything:!0,everythingExceptFlag:!0},i=0;i<j.length;i++)c.supports[j[i]]=e(j[i]),c.supports.everything=c.supports.everything&&c.supports[j[i]],\"flag\"!==j[i]&&(c.supports.everythingExceptFlag=c.supports.everythingExceptFlag&&c.supports[j[i]]);c.supports.everythingExceptFlag=c.supports.everythingExceptFlag&&!c.supports.flag,c.DOMReady=!1,c.readyCallback=function(){c.DOMReady=!0},c.supports.everything||(h=function(){c.readyCallback()},b.addEventListener?(b.addEventListener(\"DOMContentLoaded\",h,!1),a.addEventListener(\"load\",h,!1)):(a.attachEvent(\"onload\",h),b.attachEvent(\"onreadystatechange\",function(){\"complete\"===b.readyState&&c.readyCallback()})),g=c.source||{},g.concatemoji?f(g.concatemoji):g.wpemoji&&g.twemoji&&(f(g.twemoji),f(g.wpemoji)))}(window,document,window._wpemojiSettings);\\n\\t\\t</script>\\n\\t\\t<style type=\"text/css\">\\nimg.wp-smiley,\\nimg.emoji {\\n\\tdisplay: inline !important;\\n\\tborder: none !important;\\n\\tbox-shadow: none !important;\\n\\theight: 1em !important;\\n\\twidth: 1em !important;\\n\\tmargin: 0 .07em !important;\\n\\tvertical-align: -0.1em !important;\\n\\tbackground: none !important;\\n\\tpadding: 0 !important;\\n}\\n</style>\\n<link rel=\\'stylesheet\\' id=\\'toc-screen-css\\'  href=\\'https://feng.li/wordpress/wp-content/plugins/table-of-contents-plus/screen.min.css?ver=1509\\' type=\\'text/css\\' media=\\'all\\' />\\n<link rel=\\'stylesheet\\' id=\\'twentysixteen-fonts-css\\'  href=\\'https://fonts.googleapis.com/css?family=Merriweather%3A400%2C700%2C900%2C400italic%2C700italic%2C900italic%7CMontserrat%3A400%2C700%7CInconsolata%3A400&#038;subset=latin%2Clatin-ext\\' type=\\'text/css\\' media=\\'all\\' />\\n<link rel=\\'stylesheet\\' id=\\'genericons-css\\'  href=\\'https://feng.li/wordpress/wp-content/themes/twentysixteen/genericons/genericons.css?ver=3.4.1\\' type=\\'text/css\\' media=\\'all\\' />\\n<link rel=\\'stylesheet\\' id=\\'twentysixteen-style-css\\'  href=\\'https://feng.li/wordpress/wp-content/themes/twentysixteen/style.css?ver=4.9.8\\' type=\\'text/css\\' media=\\'all\\' />\\n<style id=\\'twentysixteen-style-inline-css\\' type=\\'text/css\\'>\\n\\n\\t\\t/* Custom Main Text Color */\\n\\t\\tbody,\\n\\t\\tblockquote cite,\\n\\t\\tblockquote small,\\n\\t\\t.main-navigation a,\\n\\t\\t.menu-toggle,\\n\\t\\t.dropdown-toggle,\\n\\t\\t.social-navigation a,\\n\\t\\t.post-navigation a,\\n\\t\\t.pagination a:hover,\\n\\t\\t.pagination a:focus,\\n\\t\\t.widget-title a,\\n\\t\\t.site-branding .site-title a,\\n\\t\\t.entry-title a,\\n\\t\\t.page-links > .page-links-title,\\n\\t\\t.comment-author,\\n\\t\\t.comment-reply-title small a:hover,\\n\\t\\t.comment-reply-title small a:focus {\\n\\t\\t\\tcolor: #000000\\n\\t\\t}\\n\\n\\t\\tblockquote,\\n\\t\\t.menu-toggle.toggled-on,\\n\\t\\t.menu-toggle.toggled-on:hover,\\n\\t\\t.menu-toggle.toggled-on:focus,\\n\\t\\t.post-navigation,\\n\\t\\t.post-navigation div + div,\\n\\t\\t.pagination,\\n\\t\\t.widget,\\n\\t\\t.page-header,\\n\\t\\t.page-links a,\\n\\t\\t.comments-title,\\n\\t\\t.comment-reply-title {\\n\\t\\t\\tborder-color: #000000;\\n\\t\\t}\\n\\n\\t\\tbutton,\\n\\t\\tbutton[disabled]:hover,\\n\\t\\tbutton[disabled]:focus,\\n\\t\\tinput[type=\"button\"],\\n\\t\\tinput[type=\"button\"][disabled]:hover,\\n\\t\\tinput[type=\"button\"][disabled]:focus,\\n\\t\\tinput[type=\"reset\"],\\n\\t\\tinput[type=\"reset\"][disabled]:hover,\\n\\t\\tinput[type=\"reset\"][disabled]:focus,\\n\\t\\tinput[type=\"submit\"],\\n\\t\\tinput[type=\"submit\"][disabled]:hover,\\n\\t\\tinput[type=\"submit\"][disabled]:focus,\\n\\t\\t.menu-toggle.toggled-on,\\n\\t\\t.menu-toggle.toggled-on:hover,\\n\\t\\t.menu-toggle.toggled-on:focus,\\n\\t\\t.pagination:before,\\n\\t\\t.pagination:after,\\n\\t\\t.pagination .prev,\\n\\t\\t.pagination .next,\\n\\t\\t.page-links a {\\n\\t\\t\\tbackground-color: #000000;\\n\\t\\t}\\n\\n\\t\\t/* Border Color */\\n\\t\\tfieldset,\\n\\t\\tpre,\\n\\t\\tabbr,\\n\\t\\tacronym,\\n\\t\\ttable,\\n\\t\\tth,\\n\\t\\ttd,\\n\\t\\tinput[type=\"date\"],\\n\\t\\tinput[type=\"time\"],\\n\\t\\tinput[type=\"datetime-local\"],\\n\\t\\tinput[type=\"week\"],\\n\\t\\tinput[type=\"month\"],\\n\\t\\tinput[type=\"text\"],\\n\\t\\tinput[type=\"email\"],\\n\\t\\tinput[type=\"url\"],\\n\\t\\tinput[type=\"password\"],\\n\\t\\tinput[type=\"search\"],\\n\\t\\tinput[type=\"tel\"],\\n\\t\\tinput[type=\"number\"],\\n\\t\\ttextarea,\\n\\t\\t.main-navigation li,\\n\\t\\t.main-navigation .primary-menu,\\n\\t\\t.menu-toggle,\\n\\t\\t.dropdown-toggle:after,\\n\\t\\t.social-navigation a,\\n\\t\\t.image-navigation,\\n\\t\\t.comment-navigation,\\n\\t\\t.tagcloud a,\\n\\t\\t.entry-content,\\n\\t\\t.entry-summary,\\n\\t\\t.page-links a,\\n\\t\\t.page-links > span,\\n\\t\\t.comment-list article,\\n\\t\\t.comment-list .pingback,\\n\\t\\t.comment-list .trackback,\\n\\t\\t.comment-reply-link,\\n\\t\\t.no-comments,\\n\\t\\t.widecolumn .mu_register .mu_alert {\\n\\t\\t\\tborder-color: #000000; /* Fallback for IE7 and IE8 */\\n\\t\\t\\tborder-color: rgba( 0, 0, 0, 0.2);\\n\\t\\t}\\n\\n\\t\\thr,\\n\\t\\tcode {\\n\\t\\t\\tbackground-color: #000000; /* Fallback for IE7 and IE8 */\\n\\t\\t\\tbackground-color: rgba( 0, 0, 0, 0.2);\\n\\t\\t}\\n\\n\\t\\t@media screen and (min-width: 56.875em) {\\n\\t\\t\\t.main-navigation ul ul,\\n\\t\\t\\t.main-navigation ul ul li {\\n\\t\\t\\t\\tborder-color: rgba( 0, 0, 0, 0.2);\\n\\t\\t\\t}\\n\\n\\t\\t\\t.main-navigation ul ul:before {\\n\\t\\t\\t\\tborder-top-color: rgba( 0, 0, 0, 0.2);\\n\\t\\t\\t\\tborder-bottom-color: rgba( 0, 0, 0, 0.2);\\n\\t\\t\\t}\\n\\t\\t}\\n\\t\\n\\n\\t\\t/* Custom Secondary Text Color */\\n\\n\\t\\t/**\\n\\t\\t * IE8 and earlier will drop any block with CSS3 selectors.\\n\\t\\t * Do not combine these styles with the next block.\\n\\t\\t */\\n\\t\\tbody:not(.search-results) .entry-summary {\\n\\t\\t\\tcolor: #453d3a;\\n\\t\\t}\\n\\n\\t\\tblockquote,\\n\\t\\t.post-password-form label,\\n\\t\\ta:hover,\\n\\t\\ta:focus,\\n\\t\\ta:active,\\n\\t\\t.post-navigation .meta-nav,\\n\\t\\t.image-navigation,\\n\\t\\t.comment-navigation,\\n\\t\\t.widget_recent_entries .post-date,\\n\\t\\t.widget_rss .rss-date,\\n\\t\\t.widget_rss cite,\\n\\t\\t.site-description,\\n\\t\\t.author-bio,\\n\\t\\t.entry-footer,\\n\\t\\t.entry-footer a,\\n\\t\\t.sticky-post,\\n\\t\\t.taxonomy-description,\\n\\t\\t.entry-caption,\\n\\t\\t.comment-metadata,\\n\\t\\t.pingback .edit-link,\\n\\t\\t.comment-metadata a,\\n\\t\\t.pingback .comment-edit-link,\\n\\t\\t.comment-form label,\\n\\t\\t.comment-notes,\\n\\t\\t.comment-awaiting-moderation,\\n\\t\\t.logged-in-as,\\n\\t\\t.form-allowed-tags,\\n\\t\\t.site-info,\\n\\t\\t.site-info a,\\n\\t\\t.wp-caption .wp-caption-text,\\n\\t\\t.gallery-caption,\\n\\t\\t.widecolumn label,\\n\\t\\t.widecolumn .mu_register label {\\n\\t\\t\\tcolor: #453d3a;\\n\\t\\t}\\n\\n\\t\\t.widget_calendar tbody a:hover,\\n\\t\\t.widget_calendar tbody a:focus {\\n\\t\\t\\tbackground-color: #453d3a;\\n\\t\\t}\\n\\t\\n</style>\\n<!--[if lt IE 10]>\\n<link rel=\\'stylesheet\\' id=\\'twentysixteen-ie-css\\'  href=\\'https://feng.li/wordpress/wp-content/themes/twentysixteen/css/ie.css?ver=20160816\\' type=\\'text/css\\' media=\\'all\\' />\\n<![endif]-->\\n<!--[if lt IE 9]>\\n<link rel=\\'stylesheet\\' id=\\'twentysixteen-ie8-css\\'  href=\\'https://feng.li/wordpress/wp-content/themes/twentysixteen/css/ie8.css?ver=20160816\\' type=\\'text/css\\' media=\\'all\\' />\\n<![endif]-->\\n<!--[if lt IE 8]>\\n<link rel=\\'stylesheet\\' id=\\'twentysixteen-ie7-css\\'  href=\\'https://feng.li/wordpress/wp-content/themes/twentysixteen/css/ie7.css?ver=20160816\\' type=\\'text/css\\' media=\\'all\\' />\\n<![endif]-->\\n<script type=\\'text/javascript\\' src=\\'https://feng.li/wordpress/wp-includes/js/jquery/jquery.js?ver=1.12.4\\'></script>\\n<script type=\\'text/javascript\\' src=\\'https://feng.li/wordpress/wp-includes/js/jquery/jquery-migrate.min.js?ver=1.4.1\\'></script>\\n<!--[if lt IE 9]>\\n<script type=\\'text/javascript\\' src=\\'https://feng.li/wordpress/wp-content/themes/twentysixteen/js/html5.js?ver=3.7.3\\'></script>\\n<![endif]-->\\n<link rel=\\'https://api.w.org/\\' href=\\'https://feng.li/wp-json/\\' />\\n<link rel=\"EditURI\" type=\"application/rsd+xml\" title=\"RSD\" href=\"https://feng.li/wordpress/xmlrpc.php?rsd\" />\\n<link rel=\"wlwmanifest\" type=\"application/wlwmanifest+xml\" href=\"https://feng.li/wordpress/wp-includes/wlwmanifest.xml\" /> \\n<meta name=\"generator\" content=\"WordPress 4.9.8\" />\\n<link rel=\"canonical\" href=\"https://feng.li/python/\" />\\n<link rel=\\'shortlink\\' href=\\'https://feng.li/?p=1525\\' />\\n<link rel=\"alternate\" type=\"application/json+oembed\" href=\"https://feng.li/wp-json/oembed/1.0/embed?url=https%3A%2F%2Ffeng.li%2Fpython%2F\" />\\n<link rel=\"alternate\" type=\"text/xml+oembed\" href=\"https://feng.li/wp-json/oembed/1.0/embed?url=https%3A%2F%2Ffeng.li%2Fpython%2F&#038;format=xml\" />\\n\\t\\t<style type=\"text/css\">.recentcomments a{display:inline !important;padding:0 !important;margin:0 !important;}</style>\\n\\t\\t<style type=\"text/css\" id=\"custom-background-css\">\\nbody.custom-background { background-color: #453d3a; }\\n</style>\\n<link rel=\"icon\" href=\"https://feng.li/wordpress/../files/uploads/cropped-Portrait-Small-2-32x32.png\" sizes=\"32x32\" />\\n<link rel=\"icon\" href=\"https://feng.li/wordpress/../files/uploads/cropped-Portrait-Small-2-192x192.png\" sizes=\"192x192\" />\\n<link rel=\"apple-touch-icon-precomposed\" href=\"https://feng.li/wordpress/../files/uploads/cropped-Portrait-Small-2-180x180.png\" />\\n<meta name=\"msapplication-TileImage\" content=\"https://feng.li/wordpress/../files/uploads/cropped-Portrait-Small-2-270x270.png\" />\\n\\t\\t<style type=\"text/css\" id=\"wp-custom-css\">\\n\\t\\t\\timg.roundborder {    \\n    -webkit-border-radius: 5px;\\n    -moz-border-radius: 5px;\\n    border-radius: 5px;\\n}\\t\\t</style>\\n\\t<script type=\"text/javascript\" async\\n  \\tsrc=\"/MathJax/MathJax.js?config=TeX-MML-AM_CHTML\">\\n</script>\\n<script>\\n  (function(i,s,o,g,r,a,m){i[\\'GoogleAnalyticsObject\\']=r;i[r]=i[r]||function(){\\n  (i[r].q=i[r].q||[]).push(arguments)},i[r].l=1*new Date();a=s.createElement(o),\\n  m=s.getElementsByTagName(o)[0];a.async=1;a.src=g;m.parentNode.insertBefore(a,m)\\n  })(window,document,\\'script\\',\\'https://www.google-analytics.com/analytics.js\\',\\'ga\\');\\n\\n  ga(\\'create\\', \\'UA-36759063-1\\', \\'auto\\');\\n  ga(\\'send\\', \\'pageview\\');\\n\\n</script>\\n</head>\\n\\n<body class=\"page-template-default page page-id-1525 custom-background\">\\n<div id=\"page\" class=\"site\">\\n\\t<div class=\"site-inner\">\\n\\t\\t<a class=\"skip-link screen-reader-text\" href=\"#content\">Skip to content</a>\\n\\n\\t\\t<header id=\"masthead\" class=\"site-header\" role=\"banner\">\\n\\t\\t\\t<div class=\"site-header-main\">\\n\\t\\t\\t\\t<div class=\"site-branding\">\\n\\t\\t\\t\\t\\t\\n\\t\\t\\t\\t\\t\\t\\t\\t\\t\\t\\t<p class=\"site-title\"><a href=\"https://feng.li/\" rel=\"home\">Dr. Feng Li</a></p>\\n\\t\\t\\t\\t\\t\\t\\t\\t\\t\\t\\t<p class=\"site-description\">Personal Site</p>\\n\\t\\t\\t\\t\\t\\t\\t\\t\\t</div><!-- .site-branding -->\\n\\n\\t\\t\\t\\t\\t\\t\\t\\t\\t<button id=\"menu-toggle\" class=\"menu-toggle\">Menu</button>\\n\\n\\t\\t\\t\\t\\t<div id=\"site-header-menu\" class=\"site-header-menu\">\\n\\t\\t\\t\\t\\t\\t\\t\\t\\t\\t\\t\\t\\t<nav id=\"site-navigation\" class=\"main-navigation\" role=\"navigation\" aria-label=\"Primary Menu\">\\n\\t\\t\\t\\t\\t\\t\\t\\t<div class=\"menu-menu-1-container\"><ul id=\"menu-menu-1\" class=\"primary-menu\"><li id=\"menu-item-441\" class=\"menu-item menu-item-type-post_type menu-item-object-page menu-item-has-children menu-item-441\"><a href=\"https://feng.li/research/\">Research</a>\\n<ul class=\"sub-menu\">\\n\\t<li id=\"menu-item-1503\" class=\"menu-item menu-item-type-custom menu-item-object-custom menu-item-1503\"><a href=\"/research\">Publications &#038; Projects</a></li>\\n\\t<li id=\"menu-item-442\" class=\"menu-item menu-item-type-post_type menu-item-object-page menu-item-442\"><a href=\"https://feng.li/research/code/\">Computer Code</a></li>\\n\\t<li id=\"menu-item-917\" class=\"menu-item menu-item-type-post_type menu-item-object-page menu-item-917\"><a href=\"https://feng.li/research/services/\">Academic Services</a></li>\\n\\t<li id=\"menu-item-915\" class=\"menu-item menu-item-type-post_type menu-item-object-page menu-item-915\"><a href=\"https://feng.li/research/distributed-statistical-computing/\">Book: Distributed Statistical Computing for Big Data</a></li>\\n</ul>\\n</li>\\n<li id=\"menu-item-443\" class=\"menu-item menu-item-type-post_type menu-item-object-page menu-item-443\"><a href=\"https://feng.li/teaching/\">Teaching</a></li>\\n<li id=\"menu-item-444\" class=\"menu-item menu-item-type-post_type menu-item-object-page menu-item-444\"><a href=\"https://feng.li/news/\">News</a></li>\\n<li id=\"menu-item-927\" class=\"menu-item menu-item-type-post_type menu-item-object-page menu-item-927\"><a href=\"https://feng.li/traveling/\">Traveling</a></li>\\n<li id=\"menu-item-445\" class=\"menu-item menu-item-type-post_type menu-item-object-page menu-item-445\"><a href=\"https://feng.li/contact/\">Contact</a></li>\\n<li id=\"menu-item-446\" class=\"menu-item menu-item-type-post_type menu-item-object-page menu-item-446\"><a href=\"https://feng.li/cn/\">\\xe6\\x9d\\x8e\\xe4\\xb8\\xb0</a></li>\\n<li id=\"menu-item-1237\" class=\"menu-item menu-item-type-custom menu-item-object-custom menu-item-1237\"><a href=\"http://yanfei.site/\">Life Partner</a></li>\\n<li id=\"menu-item-916\" class=\"menu-item menu-item-type-post_type menu-item-object-page menu-item-916\"><a href=\"https://feng.li/students/\">Students</a></li>\\n</ul></div>\\t\\t\\t\\t\\t\\t\\t</nav><!-- .main-navigation -->\\n\\t\\t\\t\\t\\t\\t\\n\\t\\t\\t\\t\\t\\t\\t\\t\\t\\t\\t</div><!-- .site-header-menu -->\\n\\t\\t\\t\\t\\t\\t\\t</div><!-- .site-header-main -->\\n\\n\\t\\t\\t\\t\\t</header><!-- .site-header -->\\n\\n\\t\\t<div id=\"content\" class=\"site-content\">\\n\\n<div id=\"primary\" class=\"content-area\">\\n\\t<main id=\"main\" class=\"site-main\" role=\"main\">\\n\\t\\t\\n<article id=\"post-1525\" class=\"post-1525 page type-page status-publish hentry\">\\n\\t<header class=\"entry-header\">\\n\\t\\t<h1 class=\"entry-title\">Python</h1>\\t</header><!-- .entry-header -->\\n\\n\\t\\n\\t<div class=\"entry-content\">\\n\\t\\t<p>This page serves as the primary guide for my students who want to learn Python.</p>\\n\\t</div><!-- .entry-content -->\\n\\n\\t\\n</article><!-- #post-## -->\\n\\n\\t</main><!-- .site-main -->\\n\\n\\t\\n</div><!-- .content-area -->\\n\\n\\n\\t<aside id=\"secondary\" class=\"sidebar widget-area\" role=\"complementary\">\\n\\t\\t<section id=\"media_image-2\" class=\"widget widget_media_image\"><figure style=\"width: 800px\" class=\"wp-caption alignnone\"><a href=\"http://feng.li\"><img class=\"image roundborder\" src=\"/files/style/Portrait-Small.png\" alt=\"\" width=\"800\" height=\"800\" /></a><figcaption class=\"wp-caption-text\">Dr. Feng Li is Assistant Professor of Statistics at Central University of Finance and Economics in China. Feng obtained his Ph.D. degree in statistics at Stockholm University in 2013 and was awarded the 2014 Cram\\xc3\\xa9r Prize. His research interests include Bayesian econometrics, statistical computing and multivariate analysis.</figcaption></figure></section><section id=\"search-2\" class=\"widget widget_search\">\\n<form role=\"search\" method=\"get\" class=\"search-form\" action=\"https://feng.li/\">\\n\\t<label>\\n\\t\\t<span class=\"screen-reader-text\">Search for:</span>\\n\\t\\t<input type=\"search\" class=\"search-field\" placeholder=\"Search &hellip;\" value=\"\" name=\"s\" />\\n\\t</label>\\n\\t<button type=\"submit\" class=\"search-submit\"><span class=\"screen-reader-text\">Search</span></button>\\n</form>\\n</section><section id=\"text-7\" class=\"widget widget_text\"><h2 class=\"widget-title\">Recent Teaching</h2>\\t\\t\\t<div class=\"textwidget\"><ul>\\n<li><a href=\"/teaching/pc2017fall\">Distributed Statistical Computing for Big Data</a>\\xc2\\xa0(graduate level)</li>\\n<li><a href=\"/tds\">Tools for Data Science</a> (2019 spring)</li>\\n<li><a href=\"http://feng.li/teaching/bda2017/\">Bayesian Data Analysis</a> (graduate level)</li>\\n<li><a href=\"/teaching/sc2018spring/\">Statistical Computing</a> (undergraduate level)</li>\\n<li><a href=\"/teaching/scs2018spring\">Statistical Case Studies</a> (graduate level)<strong>\\xc2\\xa0</strong></li>\\n</ul>\\n</div>\\n\\t\\t</section>\\t\\t<section id=\"recent-posts-2\" class=\"widget widget_recent_entries\">\\t\\t<h2 class=\"widget-title\">Recent Posts &#038; News</h2>\\t\\t<ul>\\n\\t\\t\\t\\t\\t\\t\\t\\t\\t\\t\\t<li>\\n\\t\\t\\t\\t\\t<a href=\"https://feng.li/tsgeneration/\">Paper: Efficient generation of time series with diverse and controllable characteristics</a>\\n\\t\\t\\t\\t\\t\\t\\t\\t\\t\\t\\t<span class=\"post-date\">August 23, 2018</span>\\n\\t\\t\\t\\t\\t\\t\\t\\t\\t</li>\\n\\t\\t\\t\\t\\t\\t\\t\\t\\t\\t\\t<li>\\n\\t\\t\\t\\t\\t<a href=\"https://feng.li/webinar-tool-chain-for-data-science/\">Webinar: Tool Chain for Data Science</a>\\n\\t\\t\\t\\t\\t\\t\\t\\t\\t\\t\\t<span class=\"post-date\">April 20, 2018</span>\\n\\t\\t\\t\\t\\t\\t\\t\\t\\t</li>\\n\\t\\t\\t\\t\\t\\t\\t\\t\\t\\t\\t<li>\\n\\t\\t\\t\\t\\t<a href=\"https://feng.li/the-2017-beijing-workshop-on-forecasting/\">Workshop: The 2017 Beijing Workshop on Forecasting</a>\\n\\t\\t\\t\\t\\t\\t\\t\\t\\t\\t\\t<span class=\"post-date\">November 7, 2017</span>\\n\\t\\t\\t\\t\\t\\t\\t\\t\\t</li>\\n\\t\\t\\t\\t\\t\\t\\t\\t\\t\\t\\t<li>\\n\\t\\t\\t\\t\\t<a href=\"https://feng.li/dng/\">R package: dng &#8211; distributions and gradients</a>\\n\\t\\t\\t\\t\\t\\t\\t\\t\\t\\t\\t<span class=\"post-date\">September 21, 2017</span>\\n\\t\\t\\t\\t\\t\\t\\t\\t\\t</li>\\n\\t\\t\\t\\t\\t\\t\\t\\t\\t\\t\\t<li>\\n\\t\\t\\t\\t\\t<a href=\"https://feng.li/credit-risk/\">Paper: Credit Risk Clustering with Covariate-dependent Copula Models</a>\\n\\t\\t\\t\\t\\t\\t\\t\\t\\t\\t\\t<span class=\"post-date\">July 31, 2017</span>\\n\\t\\t\\t\\t\\t\\t\\t\\t\\t</li>\\n\\t\\t\\t\\t\\t</ul>\\n\\t\\t</section><section id=\"text-8\" class=\"widget widget_text\"><h2 class=\"widget-title\">Research Co-authors</h2>\\t\\t\\t<div class=\"textwidget\"><ul>\\n<li><a href=\"http://mattiasvillani.com/\">Mattias Villani</a>\\xc2\\xa0<em>Stockholm University &amp;\\xc2\\xa0</em><em>Link\\xc3\\xb6ping University</em></li>\\n<li><a href=\"https://www.business.unsw.edu.au/our-people/robertkohn\">Robert Kohn</a>\\xc2\\xa0<em>University of New South Wales</em></li>\\n<li><a href=\"http://yanfei.site\">Yanfei Kang</a>\\xc2\\xa0<em>Beihang University</em></li>\\n<li><a href=\"https://robjhyndman.com/\">Rob J Hyndman</a>\\xc2\\xa0<em>Monash Univerisy</em></li>\\n<li><a href=\"https://www.bumc.bu.edu/busm/profile/bindu-kalesan/\">Bindu\\xc2\\xa0Kalesan </a>\\xc2\\xa0<em>Boston University</em></li>\\n</ul>\\n</div>\\n\\t\\t</section><section id=\"recent-comments-2\" class=\"widget widget_recent_comments\"><h2 class=\"widget-title\">Recent Comments</h2><ul id=\"recentcomments\"><li class=\"recentcomments\"><span class=\"comment-author-link\"><a href=\\'http://feng.li/\\' rel=\\'external nofollow\\' class=\\'url\\'>Feng Li</a></span> on <a href=\"https://feng.li/generalized-hypergeometric-function/#comment-85334\">Generalized hypergeometric function in R</a></li><li class=\"recentcomments\"><span class=\"comment-author-link\"><a href=\\'https://www.iamsulthan.in/\\' rel=\\'external nofollow\\' class=\\'url\\'>Sulthan</a></span> on <a href=\"https://feng.li/generalized-hypergeometric-function/#comment-85080\">Generalized hypergeometric function in R</a></li><li class=\"recentcomments\"><span class=\"comment-author-link\">\\xe6\\x9d\\x8e\\xe6\\x99\\xb6\\xe8\\x8e\\xb9</span> on <a href=\"https://feng.li/teaching/scs2018spring/#comment-84246\">Statistical Case Studies (2018 Spring)</a></li><li class=\"recentcomments\"><span class=\"comment-author-link\">\\xe6\\xaf\\x9b\\xe5\\x8d\\x93\\xe5\\xb0\\x8f\\xe7\\xbb\\x84</span> on <a href=\"https://feng.li/teaching/scs2018spring/#comment-84245\">Statistical Case Studies (2018 Spring)</a></li><li class=\"recentcomments\"><span class=\"comment-author-link\">\\xe6\\xa2\\x81\\xe8\\xb6\\x85</span> on <a href=\"https://feng.li/teaching/scs2018spring/#comment-84244\">Statistical Case Studies (2018 Spring)</a></li></ul></section><section id=\"custom_html-2\" class=\"widget_text widget widget_custom_html\"><h2 class=\"widget-title\">\\xc2\\xa9 Feng Li</h2><div class=\"textwidget custom-html-widget\">The views and opinions expressed in this page are solely the responsibility of the author and should not be interpreted as reflecting the views of the author\\'s affiliations now or then. \\r\\n\\r\\n<a href=\"/contact\"><img class=\"wp-image-650 aligncenter\" alt=\"contact-qr-en\" src=\"/files/contact-qr-en.png\" width=\"300\" height=\"300\" /></a>\\r\\n</div></section>\\t</aside><!-- .sidebar .widget-area -->\\n\\n\\t\\t</div><!-- .site-content -->\\n\\n\\t\\t<footer id=\"colophon\" class=\"site-footer\" role=\"contentinfo\">\\n\\t\\t\\t\\t\\t\\t\\t<nav class=\"main-navigation\" role=\"navigation\" aria-label=\"Footer Primary Menu\">\\n\\t\\t\\t\\t\\t<div class=\"menu-menu-1-container\"><ul id=\"menu-menu-2\" class=\"primary-menu\"><li class=\"menu-item menu-item-type-post_type menu-item-object-page menu-item-has-children menu-item-441\"><a href=\"https://feng.li/research/\">Research</a>\\n<ul class=\"sub-menu\">\\n\\t<li class=\"menu-item menu-item-type-custom menu-item-object-custom menu-item-1503\"><a href=\"/research\">Publications &#038; Projects</a></li>\\n\\t<li class=\"menu-item menu-item-type-post_type menu-item-object-page menu-item-442\"><a href=\"https://feng.li/research/code/\">Computer Code</a></li>\\n\\t<li class=\"menu-item menu-item-type-post_type menu-item-object-page menu-item-917\"><a href=\"https://feng.li/research/services/\">Academic Services</a></li>\\n\\t<li class=\"menu-item menu-item-type-post_type menu-item-object-page menu-item-915\"><a href=\"https://feng.li/research/distributed-statistical-computing/\">Book: Distributed Statistical Computing for Big Data</a></li>\\n</ul>\\n</li>\\n<li class=\"menu-item menu-item-type-post_type menu-item-object-page menu-item-443\"><a href=\"https://feng.li/teaching/\">Teaching</a></li>\\n<li class=\"menu-item menu-item-type-post_type menu-item-object-page menu-item-444\"><a href=\"https://feng.li/news/\">News</a></li>\\n<li class=\"menu-item menu-item-type-post_type menu-item-object-page menu-item-927\"><a href=\"https://feng.li/traveling/\">Traveling</a></li>\\n<li class=\"menu-item menu-item-type-post_type menu-item-object-page menu-item-445\"><a href=\"https://feng.li/contact/\">Contact</a></li>\\n<li class=\"menu-item menu-item-type-post_type menu-item-object-page menu-item-446\"><a href=\"https://feng.li/cn/\">\\xe6\\x9d\\x8e\\xe4\\xb8\\xb0</a></li>\\n<li class=\"menu-item menu-item-type-custom menu-item-object-custom menu-item-1237\"><a href=\"http://yanfei.site/\">Life Partner</a></li>\\n<li class=\"menu-item menu-item-type-post_type menu-item-object-page menu-item-916\"><a href=\"https://feng.li/students/\">Students</a></li>\\n</ul></div>\\t\\t\\t\\t</nav><!-- .main-navigation -->\\n\\t\\t\\t\\n\\t\\t\\t\\n\\t\\t\\t<div class=\"site-info\">\\n\\t\\t\\t\\t\\t\\t\\t\\t<span class=\"site-title\"><a href=\"https://feng.li/\" rel=\"home\">Dr. Feng Li</a></span>\\n\\t\\t\\t\\t\\t\\t\\t\\t<a href=\"https://wordpress.org/\" class=\"imprint\">\\n\\t\\t\\t\\t\\tProudly powered by WordPress\\t\\t\\t\\t</a>\\n\\t\\t\\t</div><!-- .site-info -->\\n\\t\\t</footer><!-- .site-footer -->\\n\\t</div><!-- .site-inner -->\\n</div><!-- .site -->\\n\\n<script type=\\'text/javascript\\'>\\n/* <![CDATA[ */\\nvar tocplus = {\"visibility_show\":\"show\",\"visibility_hide\":\"hide\",\"width\":\"Auto\"};\\n/* ]]> */\\n</script>\\n<script type=\\'text/javascript\\' src=\\'https://feng.li/wordpress/wp-content/plugins/table-of-contents-plus/front.min.js?ver=1509\\'></script>\\n<script type=\\'text/javascript\\' src=\\'https://feng.li/wordpress/wp-content/themes/twentysixteen/js/skip-link-focus-fix.js?ver=20160816\\'></script>\\n<script type=\\'text/javascript\\'>\\n/* <![CDATA[ */\\nvar screenReaderText = {\"expand\":\"expand child menu\",\"collapse\":\"collapse child menu\"};\\n/* ]]> */\\n</script>\\n<script type=\\'text/javascript\\' src=\\'https://feng.li/wordpress/wp-content/themes/twentysixteen/js/functions.js?ver=20160816\\'></script>\\n<script type=\\'text/javascript\\' src=\\'https://feng.li/wordpress/wp-includes/js/wp-embed.min.js?ver=4.9.8\\'></script>\\n</body>\\n</html>\\n'\n"
     ]
    }
   ],
   "source": [
    "from urllib.request import urlopen\n",
    "html = urlopen('https://feng.li/python/')\n",
    "print(html.read())"
   ]
  },
  {
   "cell_type": "markdown",
   "metadata": {
    "slideshow": {
     "slide_type": "subslide"
    }
   },
   "source": [
    "从上面输出的源文件不能清楚地看出网页所表达的内容，下面我们用BeautifulSoup库来爬取网页："
   ]
  },
  {
   "cell_type": "code",
   "execution_count": 12,
   "metadata": {
    "slideshow": {
     "slide_type": "fragment"
    }
   },
   "outputs": [
    {
     "name": "stdout",
     "output_type": "stream",
     "text": [
      "<!DOCTYPE html>\n",
      "\n",
      "<html class=\"no-js\" lang=\"en-US\">\n",
      "<head>\n",
      "<meta charset=\"utf-8\"/>\n",
      "<meta content=\"width=device-width, initial-scale=1\" name=\"viewport\"/>\n",
      "<link href=\"http://gmpg.org/xfn/11\" rel=\"profile\"/>\n",
      "<script>(function(html){html.className = html.className.replace(/\\bno-js\\b/,'js')})(document.documentElement);</script>\n",
      "<title>Python – Dr. Feng Li</title>\n",
      "<link href=\"//feng.li\" rel=\"dns-prefetch\">\n",
      "<link href=\"//fonts.googleapis.com\" rel=\"dns-prefetch\"/>\n",
      "<link href=\"//s.w.org\" rel=\"dns-prefetch\"/>\n",
      "<link href=\"https://feng.li/feed/\" rel=\"alternate\" title=\"Dr. Feng Li » Feed\" type=\"application/rss+xml\"/>\n",
      "<link href=\"https://feng.li/comments/feed/\" rel=\"alternate\" title=\"Dr. Feng Li » Comments Feed\" type=\"application/rss+xml\"/>\n",
      "<script type=\"text/javascript\">\n",
      "\t\t\twindow._wpemojiSettings = {\"baseUrl\":\"https:\\/\\/s.w.org\\/images\\/core\\/emoji\\/11\\/72x72\\/\",\"ext\":\".png\",\"svgUrl\":\"https:\\/\\/s.w.org\\/images\\/core\\/emoji\\/11\\/svg\\/\",\"svgExt\":\".svg\",\"source\":{\"concatemoji\":\"https:\\/\\/feng.li\\/wordpress\\/wp-includes\\/js\\/wp-emoji-release.min.js?ver=4.9.8\"}};\n",
      "\t\t\t!function(a,b,c){function d(a,b){var c=String.fromCharCode;l.clearRect(0,0,k.width,k.height),l.fillText(c.apply(this,a),0,0);var d=k.toDataURL();l.clearRect(0,0,k.width,k.height),l.fillText(c.apply(this,b),0,0);var e=k.toDataURL();return d===e}function e(a){var b;if(!l||!l.fillText)return!1;switch(l.textBaseline=\"top\",l.font=\"600 32px Arial\",a){case\"flag\":return!(b=d([55356,56826,55356,56819],[55356,56826,8203,55356,56819]))&&(b=d([55356,57332,56128,56423,56128,56418,56128,56421,56128,56430,56128,56423,56128,56447],[55356,57332,8203,56128,56423,8203,56128,56418,8203,56128,56421,8203,56128,56430,8203,56128,56423,8203,56128,56447]),!b);case\"emoji\":return b=d([55358,56760,9792,65039],[55358,56760,8203,9792,65039]),!b}return!1}function f(a){var c=b.createElement(\"script\");c.src=a,c.defer=c.type=\"text/javascript\",b.getElementsByTagName(\"head\")[0].appendChild(c)}var g,h,i,j,k=b.createElement(\"canvas\"),l=k.getContext&&k.getContext(\"2d\");for(j=Array(\"flag\",\"emoji\"),c.supports={everything:!0,everythingExceptFlag:!0},i=0;i<j.length;i++)c.supports[j[i]]=e(j[i]),c.supports.everything=c.supports.everything&&c.supports[j[i]],\"flag\"!==j[i]&&(c.supports.everythingExceptFlag=c.supports.everythingExceptFlag&&c.supports[j[i]]);c.supports.everythingExceptFlag=c.supports.everythingExceptFlag&&!c.supports.flag,c.DOMReady=!1,c.readyCallback=function(){c.DOMReady=!0},c.supports.everything||(h=function(){c.readyCallback()},b.addEventListener?(b.addEventListener(\"DOMContentLoaded\",h,!1),a.addEventListener(\"load\",h,!1)):(a.attachEvent(\"onload\",h),b.attachEvent(\"onreadystatechange\",function(){\"complete\"===b.readyState&&c.readyCallback()})),g=c.source||{},g.concatemoji?f(g.concatemoji):g.wpemoji&&g.twemoji&&(f(g.twemoji),f(g.wpemoji)))}(window,document,window._wpemojiSettings);\n",
      "\t\t</script>\n",
      "<style type=\"text/css\">\n",
      "img.wp-smiley,\n",
      "img.emoji {\n",
      "\tdisplay: inline !important;\n",
      "\tborder: none !important;\n",
      "\tbox-shadow: none !important;\n",
      "\theight: 1em !important;\n",
      "\twidth: 1em !important;\n",
      "\tmargin: 0 .07em !important;\n",
      "\tvertical-align: -0.1em !important;\n",
      "\tbackground: none !important;\n",
      "\tpadding: 0 !important;\n",
      "}\n",
      "</style>\n",
      "<link href=\"https://feng.li/wordpress/wp-content/plugins/table-of-contents-plus/screen.min.css?ver=1509\" id=\"toc-screen-css\" media=\"all\" rel=\"stylesheet\" type=\"text/css\"/>\n",
      "<link href=\"https://fonts.googleapis.com/css?family=Merriweather%3A400%2C700%2C900%2C400italic%2C700italic%2C900italic%7CMontserrat%3A400%2C700%7CInconsolata%3A400&amp;subset=latin%2Clatin-ext\" id=\"twentysixteen-fonts-css\" media=\"all\" rel=\"stylesheet\" type=\"text/css\"/>\n",
      "<link href=\"https://feng.li/wordpress/wp-content/themes/twentysixteen/genericons/genericons.css?ver=3.4.1\" id=\"genericons-css\" media=\"all\" rel=\"stylesheet\" type=\"text/css\"/>\n",
      "<link href=\"https://feng.li/wordpress/wp-content/themes/twentysixteen/style.css?ver=4.9.8\" id=\"twentysixteen-style-css\" media=\"all\" rel=\"stylesheet\" type=\"text/css\"/>\n",
      "<style id=\"twentysixteen-style-inline-css\" type=\"text/css\">\n",
      "\n",
      "\t\t/* Custom Main Text Color */\n",
      "\t\tbody,\n",
      "\t\tblockquote cite,\n",
      "\t\tblockquote small,\n",
      "\t\t.main-navigation a,\n",
      "\t\t.menu-toggle,\n",
      "\t\t.dropdown-toggle,\n",
      "\t\t.social-navigation a,\n",
      "\t\t.post-navigation a,\n",
      "\t\t.pagination a:hover,\n",
      "\t\t.pagination a:focus,\n",
      "\t\t.widget-title a,\n",
      "\t\t.site-branding .site-title a,\n",
      "\t\t.entry-title a,\n",
      "\t\t.page-links > .page-links-title,\n",
      "\t\t.comment-author,\n",
      "\t\t.comment-reply-title small a:hover,\n",
      "\t\t.comment-reply-title small a:focus {\n",
      "\t\t\tcolor: #000000\n",
      "\t\t}\n",
      "\n",
      "\t\tblockquote,\n",
      "\t\t.menu-toggle.toggled-on,\n",
      "\t\t.menu-toggle.toggled-on:hover,\n",
      "\t\t.menu-toggle.toggled-on:focus,\n",
      "\t\t.post-navigation,\n",
      "\t\t.post-navigation div + div,\n",
      "\t\t.pagination,\n",
      "\t\t.widget,\n",
      "\t\t.page-header,\n",
      "\t\t.page-links a,\n",
      "\t\t.comments-title,\n",
      "\t\t.comment-reply-title {\n",
      "\t\t\tborder-color: #000000;\n",
      "\t\t}\n",
      "\n",
      "\t\tbutton,\n",
      "\t\tbutton[disabled]:hover,\n",
      "\t\tbutton[disabled]:focus,\n",
      "\t\tinput[type=\"button\"],\n",
      "\t\tinput[type=\"button\"][disabled]:hover,\n",
      "\t\tinput[type=\"button\"][disabled]:focus,\n",
      "\t\tinput[type=\"reset\"],\n",
      "\t\tinput[type=\"reset\"][disabled]:hover,\n",
      "\t\tinput[type=\"reset\"][disabled]:focus,\n",
      "\t\tinput[type=\"submit\"],\n",
      "\t\tinput[type=\"submit\"][disabled]:hover,\n",
      "\t\tinput[type=\"submit\"][disabled]:focus,\n",
      "\t\t.menu-toggle.toggled-on,\n",
      "\t\t.menu-toggle.toggled-on:hover,\n",
      "\t\t.menu-toggle.toggled-on:focus,\n",
      "\t\t.pagination:before,\n",
      "\t\t.pagination:after,\n",
      "\t\t.pagination .prev,\n",
      "\t\t.pagination .next,\n",
      "\t\t.page-links a {\n",
      "\t\t\tbackground-color: #000000;\n",
      "\t\t}\n",
      "\n",
      "\t\t/* Border Color */\n",
      "\t\tfieldset,\n",
      "\t\tpre,\n",
      "\t\tabbr,\n",
      "\t\tacronym,\n",
      "\t\ttable,\n",
      "\t\tth,\n",
      "\t\ttd,\n",
      "\t\tinput[type=\"date\"],\n",
      "\t\tinput[type=\"time\"],\n",
      "\t\tinput[type=\"datetime-local\"],\n",
      "\t\tinput[type=\"week\"],\n",
      "\t\tinput[type=\"month\"],\n",
      "\t\tinput[type=\"text\"],\n",
      "\t\tinput[type=\"email\"],\n",
      "\t\tinput[type=\"url\"],\n",
      "\t\tinput[type=\"password\"],\n",
      "\t\tinput[type=\"search\"],\n",
      "\t\tinput[type=\"tel\"],\n",
      "\t\tinput[type=\"number\"],\n",
      "\t\ttextarea,\n",
      "\t\t.main-navigation li,\n",
      "\t\t.main-navigation .primary-menu,\n",
      "\t\t.menu-toggle,\n",
      "\t\t.dropdown-toggle:after,\n",
      "\t\t.social-navigation a,\n",
      "\t\t.image-navigation,\n",
      "\t\t.comment-navigation,\n",
      "\t\t.tagcloud a,\n",
      "\t\t.entry-content,\n",
      "\t\t.entry-summary,\n",
      "\t\t.page-links a,\n",
      "\t\t.page-links > span,\n",
      "\t\t.comment-list article,\n",
      "\t\t.comment-list .pingback,\n",
      "\t\t.comment-list .trackback,\n",
      "\t\t.comment-reply-link,\n",
      "\t\t.no-comments,\n",
      "\t\t.widecolumn .mu_register .mu_alert {\n",
      "\t\t\tborder-color: #000000; /* Fallback for IE7 and IE8 */\n",
      "\t\t\tborder-color: rgba( 0, 0, 0, 0.2);\n",
      "\t\t}\n",
      "\n",
      "\t\thr,\n",
      "\t\tcode {\n",
      "\t\t\tbackground-color: #000000; /* Fallback for IE7 and IE8 */\n",
      "\t\t\tbackground-color: rgba( 0, 0, 0, 0.2);\n",
      "\t\t}\n",
      "\n",
      "\t\t@media screen and (min-width: 56.875em) {\n",
      "\t\t\t.main-navigation ul ul,\n",
      "\t\t\t.main-navigation ul ul li {\n",
      "\t\t\t\tborder-color: rgba( 0, 0, 0, 0.2);\n",
      "\t\t\t}\n",
      "\n",
      "\t\t\t.main-navigation ul ul:before {\n",
      "\t\t\t\tborder-top-color: rgba( 0, 0, 0, 0.2);\n",
      "\t\t\t\tborder-bottom-color: rgba( 0, 0, 0, 0.2);\n",
      "\t\t\t}\n",
      "\t\t}\n",
      "\t\n",
      "\n",
      "\t\t/* Custom Secondary Text Color */\n",
      "\n",
      "\t\t/**\n",
      "\t\t * IE8 and earlier will drop any block with CSS3 selectors.\n",
      "\t\t * Do not combine these styles with the next block.\n",
      "\t\t */\n",
      "\t\tbody:not(.search-results) .entry-summary {\n",
      "\t\t\tcolor: #453d3a;\n",
      "\t\t}\n",
      "\n",
      "\t\tblockquote,\n",
      "\t\t.post-password-form label,\n",
      "\t\ta:hover,\n",
      "\t\ta:focus,\n",
      "\t\ta:active,\n",
      "\t\t.post-navigation .meta-nav,\n",
      "\t\t.image-navigation,\n",
      "\t\t.comment-navigation,\n",
      "\t\t.widget_recent_entries .post-date,\n",
      "\t\t.widget_rss .rss-date,\n",
      "\t\t.widget_rss cite,\n",
      "\t\t.site-description,\n",
      "\t\t.author-bio,\n",
      "\t\t.entry-footer,\n",
      "\t\t.entry-footer a,\n",
      "\t\t.sticky-post,\n",
      "\t\t.taxonomy-description,\n",
      "\t\t.entry-caption,\n",
      "\t\t.comment-metadata,\n",
      "\t\t.pingback .edit-link,\n",
      "\t\t.comment-metadata a,\n",
      "\t\t.pingback .comment-edit-link,\n",
      "\t\t.comment-form label,\n",
      "\t\t.comment-notes,\n",
      "\t\t.comment-awaiting-moderation,\n",
      "\t\t.logged-in-as,\n",
      "\t\t.form-allowed-tags,\n",
      "\t\t.site-info,\n",
      "\t\t.site-info a,\n",
      "\t\t.wp-caption .wp-caption-text,\n",
      "\t\t.gallery-caption,\n",
      "\t\t.widecolumn label,\n",
      "\t\t.widecolumn .mu_register label {\n",
      "\t\t\tcolor: #453d3a;\n",
      "\t\t}\n",
      "\n",
      "\t\t.widget_calendar tbody a:hover,\n",
      "\t\t.widget_calendar tbody a:focus {\n",
      "\t\t\tbackground-color: #453d3a;\n",
      "\t\t}\n",
      "\t\n",
      "</style>\n",
      "<!--[if lt IE 10]>\n",
      "<link rel='stylesheet' id='twentysixteen-ie-css'  href='https://feng.li/wordpress/wp-content/themes/twentysixteen/css/ie.css?ver=20160816' type='text/css' media='all' />\n",
      "<![endif]-->\n",
      "<!--[if lt IE 9]>\n",
      "<link rel='stylesheet' id='twentysixteen-ie8-css'  href='https://feng.li/wordpress/wp-content/themes/twentysixteen/css/ie8.css?ver=20160816' type='text/css' media='all' />\n",
      "<![endif]-->\n",
      "<!--[if lt IE 8]>\n",
      "<link rel='stylesheet' id='twentysixteen-ie7-css'  href='https://feng.li/wordpress/wp-content/themes/twentysixteen/css/ie7.css?ver=20160816' type='text/css' media='all' />\n",
      "<![endif]-->\n",
      "<script src=\"https://feng.li/wordpress/wp-includes/js/jquery/jquery.js?ver=1.12.4\" type=\"text/javascript\"></script>\n",
      "<script src=\"https://feng.li/wordpress/wp-includes/js/jquery/jquery-migrate.min.js?ver=1.4.1\" type=\"text/javascript\"></script>\n",
      "<!--[if lt IE 9]>\n",
      "<script type='text/javascript' src='https://feng.li/wordpress/wp-content/themes/twentysixteen/js/html5.js?ver=3.7.3'></script>\n",
      "<![endif]-->\n",
      "<link href=\"https://feng.li/wp-json/\" rel=\"https://api.w.org/\"/>\n",
      "<link href=\"https://feng.li/wordpress/xmlrpc.php?rsd\" rel=\"EditURI\" title=\"RSD\" type=\"application/rsd+xml\"/>\n",
      "<link href=\"https://feng.li/wordpress/wp-includes/wlwmanifest.xml\" rel=\"wlwmanifest\" type=\"application/wlwmanifest+xml\"/>\n",
      "<meta content=\"WordPress 4.9.8\" name=\"generator\">\n",
      "<link href=\"https://feng.li/python/\" rel=\"canonical\"/>\n",
      "<link href=\"https://feng.li/?p=1525\" rel=\"shortlink\"/>\n",
      "<link href=\"https://feng.li/wp-json/oembed/1.0/embed?url=https%3A%2F%2Ffeng.li%2Fpython%2F\" rel=\"alternate\" type=\"application/json+oembed\"/>\n",
      "<link href=\"https://feng.li/wp-json/oembed/1.0/embed?url=https%3A%2F%2Ffeng.li%2Fpython%2F&amp;format=xml\" rel=\"alternate\" type=\"text/xml+oembed\"/>\n",
      "<style type=\"text/css\">.recentcomments a{display:inline !important;padding:0 !important;margin:0 !important;}</style>\n",
      "<style id=\"custom-background-css\" type=\"text/css\">\n",
      "body.custom-background { background-color: #453d3a; }\n",
      "</style>\n",
      "<link href=\"https://feng.li/wordpress/../files/uploads/cropped-Portrait-Small-2-32x32.png\" rel=\"icon\" sizes=\"32x32\"/>\n",
      "<link href=\"https://feng.li/wordpress/../files/uploads/cropped-Portrait-Small-2-192x192.png\" rel=\"icon\" sizes=\"192x192\"/>\n",
      "<link href=\"https://feng.li/wordpress/../files/uploads/cropped-Portrait-Small-2-180x180.png\" rel=\"apple-touch-icon-precomposed\"/>\n",
      "<meta content=\"https://feng.li/wordpress/../files/uploads/cropped-Portrait-Small-2-270x270.png\" name=\"msapplication-TileImage\">\n",
      "<style id=\"wp-custom-css\" type=\"text/css\">\n",
      "\t\t\timg.roundborder {    \n",
      "    -webkit-border-radius: 5px;\n",
      "    -moz-border-radius: 5px;\n",
      "    border-radius: 5px;\n",
      "}\t\t</style>\n",
      "<script async=\"\" src=\"/MathJax/MathJax.js?config=TeX-MML-AM_CHTML\" type=\"text/javascript\">\n",
      "</script>\n",
      "<script>\n",
      "  (function(i,s,o,g,r,a,m){i['GoogleAnalyticsObject']=r;i[r]=i[r]||function(){\n",
      "  (i[r].q=i[r].q||[]).push(arguments)},i[r].l=1*new Date();a=s.createElement(o),\n",
      "  m=s.getElementsByTagName(o)[0];a.async=1;a.src=g;m.parentNode.insertBefore(a,m)\n",
      "  })(window,document,'script','https://www.google-analytics.com/analytics.js','ga');\n",
      "\n",
      "  ga('create', 'UA-36759063-1', 'auto');\n",
      "  ga('send', 'pageview');\n",
      "\n",
      "</script>\n",
      "</meta></meta></link></head>\n",
      "<body class=\"page-template-default page page-id-1525 custom-background\">\n",
      "<div class=\"site\" id=\"page\">\n",
      "<div class=\"site-inner\">\n",
      "<a class=\"skip-link screen-reader-text\" href=\"#content\">Skip to content</a>\n",
      "<header class=\"site-header\" id=\"masthead\" role=\"banner\">\n",
      "<div class=\"site-header-main\">\n",
      "<div class=\"site-branding\">\n",
      "<p class=\"site-title\"><a href=\"https://feng.li/\" rel=\"home\">Dr. Feng Li</a></p>\n",
      "<p class=\"site-description\">Personal Site</p>\n",
      "</div><!-- .site-branding -->\n",
      "<button class=\"menu-toggle\" id=\"menu-toggle\">Menu</button>\n",
      "<div class=\"site-header-menu\" id=\"site-header-menu\">\n",
      "<nav aria-label=\"Primary Menu\" class=\"main-navigation\" id=\"site-navigation\" role=\"navigation\">\n",
      "<div class=\"menu-menu-1-container\"><ul class=\"primary-menu\" id=\"menu-menu-1\"><li class=\"menu-item menu-item-type-post_type menu-item-object-page menu-item-has-children menu-item-441\" id=\"menu-item-441\"><a href=\"https://feng.li/research/\">Research</a>\n",
      "<ul class=\"sub-menu\">\n",
      "<li class=\"menu-item menu-item-type-custom menu-item-object-custom menu-item-1503\" id=\"menu-item-1503\"><a href=\"/research\">Publications &amp; Projects</a></li>\n",
      "<li class=\"menu-item menu-item-type-post_type menu-item-object-page menu-item-442\" id=\"menu-item-442\"><a href=\"https://feng.li/research/code/\">Computer Code</a></li>\n",
      "<li class=\"menu-item menu-item-type-post_type menu-item-object-page menu-item-917\" id=\"menu-item-917\"><a href=\"https://feng.li/research/services/\">Academic Services</a></li>\n",
      "<li class=\"menu-item menu-item-type-post_type menu-item-object-page menu-item-915\" id=\"menu-item-915\"><a href=\"https://feng.li/research/distributed-statistical-computing/\">Book: Distributed Statistical Computing for Big Data</a></li>\n",
      "</ul>\n",
      "</li>\n",
      "<li class=\"menu-item menu-item-type-post_type menu-item-object-page menu-item-443\" id=\"menu-item-443\"><a href=\"https://feng.li/teaching/\">Teaching</a></li>\n",
      "<li class=\"menu-item menu-item-type-post_type menu-item-object-page menu-item-444\" id=\"menu-item-444\"><a href=\"https://feng.li/news/\">News</a></li>\n",
      "<li class=\"menu-item menu-item-type-post_type menu-item-object-page menu-item-927\" id=\"menu-item-927\"><a href=\"https://feng.li/traveling/\">Traveling</a></li>\n",
      "<li class=\"menu-item menu-item-type-post_type menu-item-object-page menu-item-445\" id=\"menu-item-445\"><a href=\"https://feng.li/contact/\">Contact</a></li>\n",
      "<li class=\"menu-item menu-item-type-post_type menu-item-object-page menu-item-446\" id=\"menu-item-446\"><a href=\"https://feng.li/cn/\">李丰</a></li>\n",
      "<li class=\"menu-item menu-item-type-custom menu-item-object-custom menu-item-1237\" id=\"menu-item-1237\"><a href=\"http://yanfei.site/\">Life Partner</a></li>\n",
      "<li class=\"menu-item menu-item-type-post_type menu-item-object-page menu-item-916\" id=\"menu-item-916\"><a href=\"https://feng.li/students/\">Students</a></li>\n",
      "</ul></div> </nav><!-- .main-navigation -->\n",
      "</div><!-- .site-header-menu -->\n",
      "</div><!-- .site-header-main -->\n",
      "</header><!-- .site-header -->\n",
      "<div class=\"site-content\" id=\"content\">\n",
      "<div class=\"content-area\" id=\"primary\">\n",
      "<main class=\"site-main\" id=\"main\" role=\"main\">\n",
      "<article class=\"post-1525 page type-page status-publish hentry\" id=\"post-1525\">\n",
      "<header class=\"entry-header\">\n",
      "<h1 class=\"entry-title\">Python</h1> </header><!-- .entry-header -->\n",
      "<div class=\"entry-content\">\n",
      "<p>This page serves as the primary guide for my students who want to learn Python.</p>\n",
      "</div><!-- .entry-content -->\n",
      "</article><!-- #post-## -->\n",
      "</main><!-- .site-main -->\n",
      "</div><!-- .content-area -->\n",
      "<aside class=\"sidebar widget-area\" id=\"secondary\" role=\"complementary\">\n",
      "<section class=\"widget widget_media_image\" id=\"media_image-2\"><figure class=\"wp-caption alignnone\" style=\"width: 800px\"><a href=\"http://feng.li\"><img alt=\"\" class=\"image roundborder\" height=\"800\" src=\"/files/style/Portrait-Small.png\" width=\"800\"/></a><figcaption class=\"wp-caption-text\">Dr. Feng Li is Assistant Professor of Statistics at Central University of Finance and Economics in China. Feng obtained his Ph.D. degree in statistics at Stockholm University in 2013 and was awarded the 2014 Cramér Prize. His research interests include Bayesian econometrics, statistical computing and multivariate analysis.</figcaption></figure></section><section class=\"widget widget_search\" id=\"search-2\">\n",
      "<form action=\"https://feng.li/\" class=\"search-form\" method=\"get\" role=\"search\">\n",
      "<label>\n",
      "<span class=\"screen-reader-text\">Search for:</span>\n",
      "<input class=\"search-field\" name=\"s\" placeholder=\"Search …\" type=\"search\" value=\"\"/>\n",
      "</label>\n",
      "<button class=\"search-submit\" type=\"submit\"><span class=\"screen-reader-text\">Search</span></button>\n",
      "</form>\n",
      "</section><section class=\"widget widget_text\" id=\"text-7\"><h2 class=\"widget-title\">Recent Teaching</h2> <div class=\"textwidget\"><ul>\n",
      "<li><a href=\"/teaching/pc2017fall\">Distributed Statistical Computing for Big Data</a> (graduate level)</li>\n",
      "<li><a href=\"/tds\">Tools for Data Science</a> (2019 spring)</li>\n",
      "<li><a href=\"http://feng.li/teaching/bda2017/\">Bayesian Data Analysis</a> (graduate level)</li>\n",
      "<li><a href=\"/teaching/sc2018spring/\">Statistical Computing</a> (undergraduate level)</li>\n",
      "<li><a href=\"/teaching/scs2018spring\">Statistical Case Studies</a> (graduate level)<strong> </strong></li>\n",
      "</ul>\n",
      "</div>\n",
      "</section> <section class=\"widget widget_recent_entries\" id=\"recent-posts-2\"> <h2 class=\"widget-title\">Recent Posts &amp; News</h2> <ul>\n",
      "<li>\n",
      "<a href=\"https://feng.li/tsgeneration/\">Paper: Efficient generation of time series with diverse and controllable characteristics</a>\n",
      "<span class=\"post-date\">August 23, 2018</span>\n",
      "</li>\n",
      "<li>\n",
      "<a href=\"https://feng.li/webinar-tool-chain-for-data-science/\">Webinar: Tool Chain for Data Science</a>\n",
      "<span class=\"post-date\">April 20, 2018</span>\n",
      "</li>\n",
      "<li>\n",
      "<a href=\"https://feng.li/the-2017-beijing-workshop-on-forecasting/\">Workshop: The 2017 Beijing Workshop on Forecasting</a>\n",
      "<span class=\"post-date\">November 7, 2017</span>\n",
      "</li>\n",
      "<li>\n",
      "<a href=\"https://feng.li/dng/\">R package: dng – distributions and gradients</a>\n",
      "<span class=\"post-date\">September 21, 2017</span>\n",
      "</li>\n",
      "<li>\n",
      "<a href=\"https://feng.li/credit-risk/\">Paper: Credit Risk Clustering with Covariate-dependent Copula Models</a>\n",
      "<span class=\"post-date\">July 31, 2017</span>\n",
      "</li>\n",
      "</ul>\n",
      "</section><section class=\"widget widget_text\" id=\"text-8\"><h2 class=\"widget-title\">Research Co-authors</h2> <div class=\"textwidget\"><ul>\n",
      "<li><a href=\"http://mattiasvillani.com/\">Mattias Villani</a> <em>Stockholm University &amp; </em><em>Linköping University</em></li>\n",
      "<li><a href=\"https://www.business.unsw.edu.au/our-people/robertkohn\">Robert Kohn</a> <em>University of New South Wales</em></li>\n",
      "<li><a href=\"http://yanfei.site\">Yanfei Kang</a> <em>Beihang University</em></li>\n",
      "<li><a href=\"https://robjhyndman.com/\">Rob J Hyndman</a> <em>Monash Univerisy</em></li>\n",
      "<li><a href=\"https://www.bumc.bu.edu/busm/profile/bindu-kalesan/\">Bindu Kalesan </a> <em>Boston University</em></li>\n",
      "</ul>\n",
      "</div>\n",
      "</section><section class=\"widget widget_recent_comments\" id=\"recent-comments-2\"><h2 class=\"widget-title\">Recent Comments</h2><ul id=\"recentcomments\"><li class=\"recentcomments\"><span class=\"comment-author-link\"><a class=\"url\" href=\"http://feng.li/\" rel=\"external nofollow\">Feng Li</a></span> on <a href=\"https://feng.li/generalized-hypergeometric-function/#comment-85334\">Generalized hypergeometric function in R</a></li><li class=\"recentcomments\"><span class=\"comment-author-link\"><a class=\"url\" href=\"https://www.iamsulthan.in/\" rel=\"external nofollow\">Sulthan</a></span> on <a href=\"https://feng.li/generalized-hypergeometric-function/#comment-85080\">Generalized hypergeometric function in R</a></li><li class=\"recentcomments\"><span class=\"comment-author-link\">李晶莹</span> on <a href=\"https://feng.li/teaching/scs2018spring/#comment-84246\">Statistical Case Studies (2018 Spring)</a></li><li class=\"recentcomments\"><span class=\"comment-author-link\">毛卓小组</span> on <a href=\"https://feng.li/teaching/scs2018spring/#comment-84245\">Statistical Case Studies (2018 Spring)</a></li><li class=\"recentcomments\"><span class=\"comment-author-link\">梁超</span> on <a href=\"https://feng.li/teaching/scs2018spring/#comment-84244\">Statistical Case Studies (2018 Spring)</a></li></ul></section><section class=\"widget_text widget widget_custom_html\" id=\"custom_html-2\"><h2 class=\"widget-title\">© Feng Li</h2><div class=\"textwidget custom-html-widget\">The views and opinions expressed in this page are solely the responsibility of the author and should not be interpreted as reflecting the views of the author's affiliations now or then. \r\n",
      "\r\n",
      "<a href=\"/contact\"><img alt=\"contact-qr-en\" class=\"wp-image-650 aligncenter\" height=\"300\" src=\"/files/contact-qr-en.png\" width=\"300\"/></a>\n",
      "</div></section> </aside><!-- .sidebar .widget-area -->\n",
      "</div><!-- .site-content -->\n",
      "<footer class=\"site-footer\" id=\"colophon\" role=\"contentinfo\">\n",
      "<nav aria-label=\"Footer Primary Menu\" class=\"main-navigation\" role=\"navigation\">\n",
      "<div class=\"menu-menu-1-container\"><ul class=\"primary-menu\" id=\"menu-menu-2\"><li class=\"menu-item menu-item-type-post_type menu-item-object-page menu-item-has-children menu-item-441\"><a href=\"https://feng.li/research/\">Research</a>\n",
      "<ul class=\"sub-menu\">\n",
      "<li class=\"menu-item menu-item-type-custom menu-item-object-custom menu-item-1503\"><a href=\"/research\">Publications &amp; Projects</a></li>\n",
      "<li class=\"menu-item menu-item-type-post_type menu-item-object-page menu-item-442\"><a href=\"https://feng.li/research/code/\">Computer Code</a></li>\n",
      "<li class=\"menu-item menu-item-type-post_type menu-item-object-page menu-item-917\"><a href=\"https://feng.li/research/services/\">Academic Services</a></li>\n",
      "<li class=\"menu-item menu-item-type-post_type menu-item-object-page menu-item-915\"><a href=\"https://feng.li/research/distributed-statistical-computing/\">Book: Distributed Statistical Computing for Big Data</a></li>\n",
      "</ul>\n",
      "</li>\n",
      "<li class=\"menu-item menu-item-type-post_type menu-item-object-page menu-item-443\"><a href=\"https://feng.li/teaching/\">Teaching</a></li>\n",
      "<li class=\"menu-item menu-item-type-post_type menu-item-object-page menu-item-444\"><a href=\"https://feng.li/news/\">News</a></li>\n",
      "<li class=\"menu-item menu-item-type-post_type menu-item-object-page menu-item-927\"><a href=\"https://feng.li/traveling/\">Traveling</a></li>\n",
      "<li class=\"menu-item menu-item-type-post_type menu-item-object-page menu-item-445\"><a href=\"https://feng.li/contact/\">Contact</a></li>\n",
      "<li class=\"menu-item menu-item-type-post_type menu-item-object-page menu-item-446\"><a href=\"https://feng.li/cn/\">李丰</a></li>\n",
      "<li class=\"menu-item menu-item-type-custom menu-item-object-custom menu-item-1237\"><a href=\"http://yanfei.site/\">Life Partner</a></li>\n",
      "<li class=\"menu-item menu-item-type-post_type menu-item-object-page menu-item-916\"><a href=\"https://feng.li/students/\">Students</a></li>\n",
      "</ul></div> </nav><!-- .main-navigation -->\n",
      "<div class=\"site-info\">\n",
      "<span class=\"site-title\"><a href=\"https://feng.li/\" rel=\"home\">Dr. Feng Li</a></span>\n",
      "<a class=\"imprint\" href=\"https://wordpress.org/\">\n",
      "\t\t\t\t\tProudly powered by WordPress\t\t\t\t</a>\n",
      "</div><!-- .site-info -->\n",
      "</footer><!-- .site-footer -->\n",
      "</div><!-- .site-inner -->\n",
      "</div><!-- .site -->\n",
      "<script type=\"text/javascript\">\n",
      "/* <![CDATA[ */\n",
      "var tocplus = {\"visibility_show\":\"show\",\"visibility_hide\":\"hide\",\"width\":\"Auto\"};\n",
      "/* ]]> */\n",
      "</script>\n",
      "<script src=\"https://feng.li/wordpress/wp-content/plugins/table-of-contents-plus/front.min.js?ver=1509\" type=\"text/javascript\"></script>\n",
      "<script src=\"https://feng.li/wordpress/wp-content/themes/twentysixteen/js/skip-link-focus-fix.js?ver=20160816\" type=\"text/javascript\"></script>\n",
      "<script type=\"text/javascript\">\n",
      "/* <![CDATA[ */\n",
      "var screenReaderText = {\"expand\":\"expand child menu\",\"collapse\":\"collapse child menu\"};\n",
      "/* ]]> */\n",
      "</script>\n",
      "<script src=\"https://feng.li/wordpress/wp-content/themes/twentysixteen/js/functions.js?ver=20160816\" type=\"text/javascript\"></script>\n",
      "<script src=\"https://feng.li/wordpress/wp-includes/js/wp-embed.min.js?ver=4.9.8\" type=\"text/javascript\"></script>\n",
      "</body>\n",
      "</html>\n",
      "\n"
     ]
    }
   ],
   "source": [
    "from urllib.request import urlopen\n",
    "from bs4 import BeautifulSoup  \n",
    "#使用BeautifulSoup解析,能够得到一个 BeautifulSoup 的对象,并能按照标准的缩进格式的结构输出\n",
    "\n",
    "html = urlopen('https://feng.li/python/')\n",
    "bs = BeautifulSoup(html.read(), 'html.parser') #html.parser是Python默认的解析器\n",
    "print(bs)"
   ]
  },
  {
   "cell_type": "markdown",
   "metadata": {
    "slideshow": {
     "slide_type": "subslide"
    }
   },
   "source": [
    "下面筛选出我们想要的内容：\n",
    "\n",
    "find( name , attrs , recursive , text , **kwargs )\n",
    "\n",
    "find() 方法搜索当前标签的所有子节点,并判断是否符合过滤器的条件"
   ]
  },
  {
   "cell_type": "code",
   "execution_count": 49,
   "metadata": {
    "slideshow": {
     "slide_type": "fragment"
    }
   },
   "outputs": [
    {
     "name": "stdout",
     "output_type": "stream",
     "text": [
      "\n",
      "This page serves as the primary guide for my students who want to learn Python.\n",
      "\n"
     ]
    }
   ],
   "source": [
    "from urllib.request import urlopen\n",
    "from bs4 import BeautifulSoup  \n",
    "\n",
    "html = urlopen('https://feng.li/python/')\n",
    "bs = BeautifulSoup(html.read(), 'html.parser')  \n",
    "\n",
    "#<div>标签可以把文档分割为独立的、不同的部分，通过 find() 方法的 attrs 参数定义一个字典参数来搜索包含特殊属性的标签\n",
    "name = bs.find('div', {'class':'entry-content'}) \n",
    "print(name.get_text())"
   ]
  },
  {
   "cell_type": "markdown",
   "metadata": {
    "slideshow": {
     "slide_type": "subslide"
    }
   },
   "source": [
    "find_all( name , attrs , recursive , text , **kwargs )\n",
    "\n",
    "它与 find() 方法唯一的区别是:find_all() 方法的返回结果是值包含一个元素的列表,而 find() 方法直接返回结果"
   ]
  },
  {
   "cell_type": "code",
   "execution_count": 50,
   "metadata": {
    "slideshow": {
     "slide_type": "fragment"
    }
   },
   "outputs": [
    {
     "name": "stdout",
     "output_type": "stream",
     "text": [
      "\n",
      "This page serves as the primary guide for my students who want to learn Python.\n",
      "\n"
     ]
    }
   ],
   "source": [
    "nameList = bs.find_all('div', {'class':'entry-content'}) \n",
    "for name in nameList:\n",
    "    print(name.get_text())"
   ]
  },
  {
   "cell_type": "code",
   "execution_count": 51,
   "metadata": {
    "slideshow": {
     "slide_type": "subslide"
    }
   },
   "outputs": [
    {
     "name": "stdout",
     "output_type": "stream",
     "text": [
      "<title>Python – Dr. Feng Li</title>\n"
     ]
    }
   ],
   "source": [
    "print(bs.title) #通过这种bs.标签名的方式,获得这个标签的内容  注:查找的是在所有内容中的第一个符合要求的标签"
   ]
  },
  {
   "cell_type": "code",
   "execution_count": 52,
   "metadata": {
    "slideshow": {
     "slide_type": "fragment"
    }
   },
   "outputs": [
    {
     "name": "stdout",
     "output_type": "stream",
     "text": [
      "Python – Dr. Feng Li\n"
     ]
    }
   ],
   "source": [
    "print(bs.title.string)  #获取标签内部的文字"
   ]
  },
  {
   "cell_type": "markdown",
   "metadata": {
    "slideshow": {
     "slide_type": "subslide"
    }
   },
   "source": [
    "用BeautifulSoup中的select方法可以获取相应的元素，且获取的元素为list形式"
   ]
  },
  {
   "cell_type": "code",
   "execution_count": 53,
   "metadata": {
    "slideshow": {
     "slide_type": "fragment"
    }
   },
   "outputs": [
    {
     "name": "stdout",
     "output_type": "stream",
     "text": [
      "[<title>Python – Dr. Feng Li</title>]\n"
     ]
    }
   ],
   "source": [
    "print(bs.select('title')) #通过标签名筛选元素"
   ]
  },
  {
   "cell_type": "code",
   "execution_count": 54,
   "metadata": {
    "slideshow": {
     "slide_type": "fragment"
    }
   },
   "outputs": [
    {
     "name": "stdout",
     "output_type": "stream",
     "text": [
      "[<div class=\"entry-content\">\n",
      "<p>This page serves as the primary guide for my students who want to learn Python.</p>\n",
      "</div>]\n"
     ]
    }
   ],
   "source": [
    "print(bs.select('.entry-content')) #通过类名查找,类名前加点"
   ]
  },
  {
   "cell_type": "code",
   "execution_count": 55,
   "metadata": {
    "slideshow": {
     "slide_type": "fragment"
    }
   },
   "outputs": [
    {
     "name": "stdout",
     "output_type": "stream",
     "text": [
      "[<p>This page serves as the primary guide for my students who want to learn Python.</p>]\n"
     ]
    }
   ],
   "source": [
    "print(bs.select('.entry-content p')) #组合查找：某一类下的某个标签中的内容，采用空格隔开："
   ]
  },
  {
   "cell_type": "code",
   "execution_count": 56,
   "metadata": {
    "slideshow": {
     "slide_type": "fragment"
    }
   },
   "outputs": [
    {
     "name": "stdout",
     "output_type": "stream",
     "text": [
      "[<section class=\"widget widget_media_image\" id=\"media_image-2\"><figure class=\"wp-caption alignnone\" style=\"width: 800px\"><a href=\"http://feng.li\"><img alt=\"\" class=\"image roundborder\" height=\"800\" src=\"/files/style/Portrait-Small.png\" width=\"800\"/></a><figcaption class=\"wp-caption-text\">Dr. Feng Li is Assistant Professor of Statistics at Central University of Finance and Economics in China. Feng obtained his Ph.D. degree in statistics at Stockholm University in 2013 and was awarded the 2014 Cramér Prize. His research interests include Bayesian econometrics, statistical computing and multivariate analysis.</figcaption></figure></section>]\n"
     ]
    }
   ],
   "source": [
    "print(bs.select('#media_image-2')) #通过id名查找,id名前加#"
   ]
  },
  {
   "cell_type": "markdown",
   "metadata": {
    "slideshow": {
     "slide_type": "subslide"
    }
   },
   "source": [
    "利用上述方法我们来爬取一则新浪新闻，并将结果导出到excel："
   ]
  },
  {
   "cell_type": "code",
   "execution_count": 58,
   "metadata": {
    "slideshow": {
     "slide_type": "fragment"
    }
   },
   "outputs": [],
   "source": [
    "from urllib.request import urlopen\n",
    "from bs4 import BeautifulSoup  \n",
    "import pandas\n",
    "\n",
    "#创建BeautifulSoup对象\n",
    "html = urlopen('http://news.sina.com.cn/o/2018-11-12/doc-ihnstwwr2055624.shtml')\n",
    "soup = BeautifulSoup(html.read(), 'html.parser') "
   ]
  },
  {
   "cell_type": "code",
   "execution_count": 59,
   "metadata": {
    "slideshow": {
     "slide_type": "fragment"
    }
   },
   "outputs": [],
   "source": [
    "#获取标题\n",
    "newstitle = soup.select('.main-title')[0].text.strip()  \n",
    "# 获取新闻内容\n",
    "article = []\n",
    "for p in soup.select('.article p'):\n",
    "    if p.text.strip() != '':\n",
    "          article.append(p.text.strip())\n",
    "article = ' '.join(article)  #将article列表内容合并到一起，用空格作分隔\n",
    "# 获取出版时间\n",
    "newstime = soup.select('.date')[0].text.strip()\n",
    "#获取新闻来源\n",
    "source = soup.select('.source')[0].text.strip()"
   ]
  },
  {
   "cell_type": "code",
   "execution_count": 60,
   "metadata": {
    "slideshow": {
     "slide_type": "subslide"
    }
   },
   "outputs": [],
   "source": [
    "#整合\n",
    "total = {'title':newstitle,'article':[article],'time':newstime,'source':source}\n",
    "#输出到excel\n",
    "df = pandas.DataFrame(total)\n",
    "df.to_excel('news.xlsx')"
   ]
  },
  {
   "cell_type": "markdown",
   "metadata": {
    "slideshow": {
     "slide_type": "fragment"
    }
   },
   "source": [
    "如果需要导入多则新闻信息到excel，可使用for循环。\n",
    "\n",
    "效果图：https://images2017.cnblogs.com/blog/1106936/201707/1106936-20170729214309378-36314622.jpg"
   ]
  }
 ],
 "metadata": {
  "celltoolbar": "Slideshow",
  "kernelspec": {
   "display_name": "Python 3",
   "language": "python",
   "name": "python3"
  },
  "language_info": {
   "codemirror_mode": {
    "name": "ipython",
    "version": 3
   },
   "file_extension": ".py",
   "mimetype": "text/x-python",
   "name": "python",
   "nbconvert_exporter": "python",
   "pygments_lexer": "ipython3",
   "version": "3.7.0"
  },
  "toc": {
   "base_numbering": 1,
   "nav_menu": {},
   "number_sections": true,
   "sideBar": true,
   "skip_h1_title": false,
   "title_cell": "Table of Contents",
   "title_sidebar": "Contents",
   "toc_cell": false,
   "toc_position": {},
   "toc_section_display": true,
   "toc_window_display": true
  }
 },
 "nbformat": 4,
 "nbformat_minor": 2
}
