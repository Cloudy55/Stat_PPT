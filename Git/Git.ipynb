{
 "cells": [
  {
   "cell_type": "markdown",
   "metadata": {
    "slideshow": {
     "slide_type": "slide"
    }
   },
   "source": [
    "# Git"
   ]
  },
  {
   "cell_type": "markdown",
   "metadata": {
    "slideshow": {
     "slide_type": "fragment"
    }
   },
   "source": [
    "Git是一个开源的分布式版本控制系统，可以有效、高速的处理从很小到非常大的项目版本管理。\n",
    "\n",
    "所谓版本控制指的是，Git可以记录每个文本文件(TXT，网页，程序代码等)的改动，比如某文件在第5行加了一个单词“Linux”，在第8行删了一个单词“Windows”。Git也可以让他人协作编辑，再将各自的改动部分合并。和集中式版本控制系统相比，分布式版本控制系统工作时可以不接入网络，并且安全性要高很多。"
   ]
  },
  {
   "cell_type": "markdown",
   "metadata": {
    "slideshow": {
     "slide_type": "slide"
    }
   },
   "source": [
    "## 安装Git"
   ]
  },
  {
   "cell_type": "markdown",
   "metadata": {
    "slideshow": {
     "slide_type": "fragment"
    }
   },
   "source": [
    "### 在Linux上安装Git"
   ]
  },
  {
   "cell_type": "markdown",
   "metadata": {
    "slideshow": {
     "slide_type": "fragment"
    }
   },
   "source": [
    "首先，你可以试着输入git，看看系统有没有安装Git：\n",
    "\n",
    "    $ git\n",
    "    The program 'git' is currently not installed. You can install it by typing:sudo apt-get install git\n",
    "\n",
    "像上面的命令，有很多Linux会友好地告诉你Git没有安装，还会告诉你如何安装Git:通过一条sudo apt-get install git直接完成Git的安装，非常简单。\n",
    "\n",
    "老一点的Debian或Ubuntu Linux，要把命令改为sudo apt-get install git-core，因为以前有个软件也叫GIT（GNU Interactive Tools），结果Git就只能叫git-core了。由于Git名气实在太大，后来就把GNU Interactive Tools改成gnuit，git-core正式改为git。\n",
    "\n",
    "如果是其他Linux版本，可以直接通过源码安装。先从Git官网下载源码，然后解压，依次输入：./config，make，sudo make install这几个命令安装就好了。"
   ]
  },
  {
   "cell_type": "markdown",
   "metadata": {
    "slideshow": {
     "slide_type": "subslide"
    }
   },
   "source": [
    "### 在Mac上安装Git"
   ]
  },
  {
   "cell_type": "markdown",
   "metadata": {
    "slideshow": {
     "slide_type": "fragment"
    }
   },
   "source": [
    "一种方法是安装homebrew，然后通过homebrew安装Git，具体方法请参考homebrew的文档：http://brew.sh/。\n",
    "\n",
    "第二种方法更简单，也是推荐的方法，就是直接从AppStore安装Xcode，Xcode集成了Git，在 Terminal 里尝试输入git，如果没有安装，你需要运行Xcode，选择菜单“Xcode”->“Preferences”，在弹出窗口中找到“Downloads”，选择“Command Line Tools”，点“Install”就可以完成安装了。\n",
    "\n",
    "第三种方法是在Git官网下载安装。"
   ]
  },
  {
   "cell_type": "markdown",
   "metadata": {
    "slideshow": {
     "slide_type": "fragment"
    }
   },
   "source": [
    "### 在Windows上安装Git"
   ]
  },
  {
   "cell_type": "markdown",
   "metadata": {
    "slideshow": {
     "slide_type": "fragment"
    }
   },
   "source": [
    "在Windows上使用Git，可以从Git官网直接下载安装程序，（网速慢的同学可移步国内镜像），然后按默认选项安装即可。\n",
    "\n",
    "安装完成后，在开始菜单里找到“Git”->“Git Bash”，蹦出一个类似命令行窗口的东西，就说明Git安装成功！"
   ]
  },
  {
   "cell_type": "markdown",
   "metadata": {
    "slideshow": {
     "slide_type": "subslide"
    }
   },
   "source": [
    "### 配置"
   ]
  },
  {
   "cell_type": "markdown",
   "metadata": {
    "slideshow": {
     "slide_type": "fragment"
    }
   },
   "source": [
    "安装完成后，还需要最后一步设置，在命令行输入：\n",
    "\n",
    "    $ git config --global user.name \"Your Name\"\n",
    "    $ git config --global user.email \"email@example.com\"\n",
    "\n",
    "因为Git是分布式版本控制系统，所以，每个机器都必须自报家门：你的名字和Email地址。\n",
    "\n",
    "注意git config命令的--global参数，用了这个参数，表示你这台机器上所有的Git仓库都会使用这个配置，当然也可以对某个仓库指定不同的用户名和Email地址。"
   ]
  },
  {
   "cell_type": "markdown",
   "metadata": {
    "slideshow": {
     "slide_type": "slide"
    }
   },
   "source": [
    "## 创建版本库"
   ]
  },
  {
   "cell_type": "markdown",
   "metadata": {
    "slideshow": {
     "slide_type": "fragment"
    }
   },
   "source": [
    "什么是版本库呢？版本库又名仓库，英文名repository，你可以简单理解成一个目录，这个目录里面的所有文件都可以被Git管理起来，每个文件的修改、删除，Git都能跟踪，以便任何时刻都可以追踪历史，或者在将来某个时刻可以“还原”。"
   ]
  },
  {
   "cell_type": "markdown",
   "metadata": {
    "slideshow": {
     "slide_type": "subslide"
    }
   },
   "source": [
    "第一步：选择合适文件夹，创建一个空目录：\n",
    "\n",
    "    $ cd e:            #cd（change directory）用于切换目录\n",
    "    $ mkdir learngit   #mkdir（make directory）用于新建一个文件夹\n",
    "    $ cd learngit\n",
    "    $ pwd             #pwd（print working directory）用于显示当前目录\n",
    "    /e/learngit\n",
    "\n",
    "注：不在空目录下创建Git仓库也是可以的"
   ]
  },
  {
   "cell_type": "markdown",
   "metadata": {
    "slideshow": {
     "slide_type": "fragment"
    }
   },
   "source": [
    "第二步：通过**git init**命令把这个目录变成Git可以管理的仓库：\n",
    "\n",
    "    $ git init\n",
    "    Initialized empty Git repository in E:/learngit/.git/\n",
    "\n",
    "Git瞬间就把仓库建好了，而且告诉你是一个空的仓库（empty Git repository），可以发现当前目录下多了一个.git的目录，这个目录是Git来跟踪管理版本库的，没事千万不要手动修改这个目录里面的文件，不然改乱了，就把Git仓库给破坏了。如果你没有看到.git目录，那是因为这个目录默认是隐藏的，用ls -ah命令就可以看见。"
   ]
  },
  {
   "cell_type": "markdown",
   "metadata": {
    "slideshow": {
     "slide_type": "slide"
    }
   },
   "source": [
    "## 添加文件至版本库"
   ]
  },
  {
   "cell_type": "markdown",
   "metadata": {
    "slideshow": {
     "slide_type": "fragment"
    }
   },
   "source": [
    "编写一个readme.txt文件，内容如下：\n",
    "\n",
    "Git is a version control system.\n",
    "\n",
    "Git is free software.\n",
    "\n",
    "一定要放到learngit目录下（子目录也行），因为这是一个Git仓库，放到其他地方Git找不到。\n",
    "\n",
    "**工作区与暂存区**\n",
    "\n",
    "工作区：在本例中，learngit文件夹（不包括.git文件）就是一个工作区，用于存放我们所需的文件；\n",
    "\n",
    "暂存区：learngit文件夹中的.git，不算工作区，而是Git的版本库。在.git文件夹中有个index（或stage）文件就是暂存区\n",
    "\n",
    "Git还为我们自动创建了第一个分支master，以及指向master的一个指针叫HEAD。\n",
    "\n",
    "添加文件到版本库就是先将文件添加到暂存区，再提交到当前分支的过程。https://cdn.liaoxuefeng.com/cdn/files/attachments/001384907702917346729e9afbf4127b6dfbae9207af016000/0"
   ]
  },
  {
   "cell_type": "markdown",
   "metadata": {
    "slideshow": {
     "slide_type": "subslide"
    }
   },
   "source": [
    "下面演示如何将readme.txt放到Git仓库：\n",
    "\n",
    "第一步，用命令**git add**告诉Git，把文件添加到暂存区：\n",
    "\n",
    "    $ git add readme.txt\n",
    "\n",
    "执行上面的命令，没有任何显示，说明添加成功。"
   ]
  },
  {
   "cell_type": "markdown",
   "metadata": {
    "slideshow": {
     "slide_type": "fragment"
    }
   },
   "source": [
    "第二步，用命令**git commit**告诉Git，把暂存区的所有文件提交到当前分支：\n",
    "\n",
    "    $ git commit -m \"wrote a readme file\"\n",
    "       [master (root-commit) 532f97b] wrote a readme file\n",
    "        1 file changed, 2 insertions(+)\n",
    "        create mode 100644 readme.txt\n",
    "\n",
    "git commit命令执行成功后会告诉你，1 file changed：1个文件被改动（新添加的readme.txt文件）；2 insertions：插入了两行内容（readme.txt有两行内容）。"
   ]
  },
  {
   "cell_type": "markdown",
   "metadata": {
    "slideshow": {
     "slide_type": "subslide"
    }
   },
   "source": [
    "注：1.git commit命令，-m后面输入的是本次提交的说明，可以输入任意内容，最好是有意义的，这样你就能从历史记录里方便地找到改动记录。\n",
    "\n",
    "&emsp;&emsp;2.可以add多个文件，一次commit这多个文件，例如\n",
    "\n",
    "        $ git add file1.txt\n",
    "        $ git add file2.txt file3.txt\n",
    "        $ git commit -m \"add 3 files.\""
   ]
  },
  {
   "cell_type": "markdown",
   "metadata": {
    "slideshow": {
     "slide_type": "slide"
    }
   },
   "source": [
    "## 时光机穿梭"
   ]
  },
  {
   "cell_type": "markdown",
   "metadata": {
    "slideshow": {
     "slide_type": "fragment"
    }
   },
   "source": [
    "修改readme.txt文件，改成如下内容：\n",
    "\n",
    "Git is a distributed version control system.\n",
    "\n",
    "Git is free software."
   ]
  },
  {
   "cell_type": "markdown",
   "metadata": {
    "slideshow": {
     "slide_type": "subslide"
    }
   },
   "source": [
    "运行**git status**命令看看结果：\n",
    "\n",
    "    $ git status\n",
    "    On branch master\n",
    "    Changes not staged for commit:\n",
    "      (use \"git add <file>...\" to update what will be committed)\n",
    "      (use \"git checkout -- <file>...\" to discard changes in working directory)\n",
    "\n",
    "            modified:   readme.txt\n",
    "\n",
    "    no changes added to commit (use \"git add\" and/or \"git commit -a\")\n",
    "    \n",
    "git status命令可以让我们时刻掌握仓库当前的状态，上面的命令输出告诉我们，readme.txt被修改过了，但还没有添加到暂存区。"
   ]
  },
  {
   "cell_type": "markdown",
   "metadata": {
    "slideshow": {
     "slide_type": "subslide"
    }
   },
   "source": [
    "用**git diff**这个命令可以查看工作区和版本库里面最新版本的区别：：\n",
    "\n",
    "    $ git diff readme.txt\n",
    "    diff --git a/readme.txt b/readme.txt\n",
    "    index d8036c1..013b5bc 100644\n",
    "    --- a/readme.txt\n",
    "    +++ b/readme.txt\n",
    "    @@ -1,2 +1,2 @@\n",
    "    -Git is a version control system.\n",
    "    +Git is a distributed version control system.\n",
    "     Git is free software.\n",
    "    \\ No newline at end of file\n",
    "    \n",
    "从上面的命令输出看到，我们在第一行添加了一个distributed单词。"
   ]
  },
  {
   "cell_type": "markdown",
   "metadata": {
    "slideshow": {
     "slide_type": "subslide"
    }
   },
   "source": [
    "知道了对readme.txt作了什么修改后，再把它提交到仓库就放心多了\n",
    "\n",
    "    $ git add readme.txt\n",
    "    $ git commit -m\"add distributed\"\n",
    "    [master 1624a11] add distributed\n",
    "     1 file changed, 1 insertion(+), 1 deletion(-)\n",
    "再用git status命令看看仓库的当前状态：\n",
    "\n",
    "    $ git status\n",
    "    On branch master\n",
    "    nothing to commit, working tree clean\n",
    "Git告诉我们当前没有需要提交的修改，而且，工作目录是干净（working tree clean）的。"
   ]
  },
  {
   "cell_type": "markdown",
   "metadata": {
    "slideshow": {
     "slide_type": "subslide"
    }
   },
   "source": [
    "### 版本回退"
   ]
  },
  {
   "cell_type": "markdown",
   "metadata": {
    "slideshow": {
     "slide_type": "fragment"
    }
   },
   "source": [
    "**git log**命令显示从最近到最远的提交日志：\n",
    "\n",
    "    $ git log\n",
    "    commit 1624a110d3bed68b23b608bc752e8cc5ed084425 (HEAD -> master)\n",
    "    Author: maxiaowen <maxiaowen1997@163.com>\n",
    "    Date:   Thu Nov 15 15:38:54 2018 +0800\n",
    "\n",
    "        add distributed\n",
    "\n",
    "    commit 532f97b324d4329f747f78f4b01bdf595812ca7c\n",
    "    Author: maxiaowen <maxiaowen1997@163.com>\n",
    "    Date:   Thu Nov 15 14:51:30 2018 +0800\n",
    "\n",
    "        wrote a readme file\n",
    "可以看到2次提交，最近的一次是add distributed，上一次是wrote a readme file。我们试试加上--pretty=oneline参数，简化输出\n",
    "\n",
    "    $ git log --pretty=oneline\n",
    "    1624a110d3bed68b23b608bc752e8cc5ed084425 (HEAD -> master) add distributed\n",
    "    532f97b324d4329f747f78f4b01bdf595812ca7c wrote a readme file"
   ]
  },
  {
   "cell_type": "markdown",
   "metadata": {
    "slideshow": {
     "slide_type": "subslide"
    }
   },
   "source": [
    "OK，现在我们启动时光穿梭机，准备把readme.txt回退到上一个版本，也就是wrote a readme file的那个版本，怎么做呢？在Git中，\n",
    "\n",
    "&emsp;当前版本:**HEAD**，本例中**版本号**：1624a1...(git log命令结果中的长串16进制数，每人不一样)\n",
    "\n",
    "&emsp;上一个版本:HEAD^ &emsp;上上一个版本:HEAD^^   &emsp;往上100个版本：HEAD~100\n",
    "\n",
    "现在，我们要把当前版本回退到上一个版本wrote a readme file，可以使用**git reset**命令：\n",
    "\n",
    "    $ git reset --hard HEAD^\n",
    "    HEAD is now at 532f97b wrote a readme file\n",
    "果然现在的版本号已经变成了wrote a readme file的版本号532f97b，用**cat**命令readme.txt的内容\n",
    "\n",
    "    $ cat readme.txt\n",
    "    Git is a version control system.\n",
    "    Git is free software.\n",
    "确实被还原了。"
   ]
  },
  {
   "cell_type": "markdown",
   "metadata": {
    "slideshow": {
     "slide_type": "subslide"
    }
   },
   "source": [
    "用git log再看看现在版本库的状态：\n",
    "\n",
    "    $ git log --pretty=oneline\n",
    "    532f97b324d4329f747f78f4b01bdf595812ca7c (HEAD -> master) wrote a readme file\n",
    "发现只保留了最初的版本，但如果想穿越回现代怎么办呢?\n",
    "\n",
    "只要上面的命令行窗口还没有被关掉，你就可以顺着往上找啊找，找到那个add distributed的版本号是1624a1...，就可以指定回到未来的某个版本：\n",
    "\n",
    "    $ git reset --hard 1624a1\n",
    "    HEAD is now at 1624a11 add distributed\n",
    "版本号没必要写全，前几位就可以了，Git会自动去找。当然也不能只写前一两位，因为Git可能会找到多个版本号，就无法确定是哪一个了。再查看一下readme.txt的内容，发现确实到add distributed版本了。\n",
    "\n",
    "    $ cat readme.txt\n",
    "    Git is a distributed version control system.\n",
    "    Git is free software."
   ]
  },
  {
   "cell_type": "markdown",
   "metadata": {
    "slideshow": {
     "slide_type": "subslide"
    }
   },
   "source": [
    "如果找不到之前的记录，还有一种查找版本号的方法，Git提供了一个命令**git reflog**用来记录你的每一次命令：\n",
    "\n",
    "    $ git reflog\n",
    "    1624a11 (HEAD -> master) HEAD@{0}: reset: moving to 1624a1\n",
    "    532f97b HEAD@{1}: reset: moving to HEAD^\n",
    "    1624a11 (HEAD -> master) HEAD@{2}: commit: add distributed\n",
    "    532f97b HEAD@{3}: commit (initial): wrote a readme file"
   ]
  },
  {
   "cell_type": "markdown",
   "metadata": {
    "slideshow": {
     "slide_type": "subslide"
    }
   },
   "source": [
    "### 撤销修改"
   ]
  },
  {
   "cell_type": "markdown",
   "metadata": {
    "slideshow": {
     "slide_type": "fragment"
    }
   },
   "source": [
    "#### 场景1：\n",
    "当你改乱了工作区某个文件的内容，想直接丢弃工作区的修改，比如你将readme.txt改成了\n",
    "\n",
    "Git is a distributed version control system.\n",
    "\n",
    "Git is free software.\n",
    "\n",
    "Git tracks changes of files.\n",
    "\n",
    "还没有add到暂存区，这时你可以直接删掉最后一行，手动把文件恢复到上一个版本的状态。"
   ]
  },
  {
   "cell_type": "markdown",
   "metadata": {
    "slideshow": {
     "slide_type": "subslide"
    }
   },
   "source": [
    "但是实际情况中我们可能会做很多改动，这时就需要使用Git中的方法：\n",
    "\n",
    "    $ git status\n",
    "    On branch master\n",
    "    Changes not staged for commit:\n",
    "      (use \"git add <file>...\" to update what will be committed)\n",
    "      (use \"git checkout -- <file>...\" to discard changes in working directory)\n",
    "\n",
    "            modified:   readme.txt\n",
    "\n",
    "    no changes added to commit (use \"git add\" and/or \"git commit -a\")\n",
    "Git告诉我们使用**git checkout**命令可以直接丢弃工作区的修改：\n",
    "\n",
    "    $ git checkout -- readme.txt\n",
    "    $ cat readme.txt\n",
    "    Git is a distributed version control system.\n",
    "    Git is free software.\n",
    "注：1.如果readme.txt已经添加到暂存区后，又作了修改，撤销修改就回到添加到暂存区后的状态。\n",
    "\n",
    "&emsp;&emsp;2.git checkout -- file命令中的--很重要，没有--，就变成了“切换到另一个分支”的命令"
   ]
  },
  {
   "cell_type": "markdown",
   "metadata": {
    "slideshow": {
     "slide_type": "subslide"
    }
   },
   "source": [
    "#### 场景2：\n",
    "当你不但改乱了工作区某个文件的内容，还添加到了暂存区，想把暂存区的修改回退到工作区时：\n",
    "\n",
    "    $ git status\n",
    "    On branch master\n",
    "    Changes to be committed:\n",
    "      (use \"git reset HEAD <file>...\" to unstage)\n",
    "\n",
    "            modified:   readme.txt\n",
    "Git又告诉我们使用**git reset HEAD file**命令可以把暂存区的修改撤销掉（unstage），重新放回工作区：\n",
    "\n",
    "    $ git reset HEAD readme.txt\n",
    "    Unstaged changes after reset:\n",
    "    M       readme.txt\n",
    "此时再接着使用git checkout命令就可以撤销工作区的修改了：\n",
    "\n",
    "    $ git checkout -- readme.txt\n",
    "    $ cat readme.txt\n",
    "    Git is a distributed version control system.\n",
    "    Git is free software."
   ]
  },
  {
   "cell_type": "markdown",
   "metadata": {
    "slideshow": {
     "slide_type": "subslide"
    }
   },
   "source": [
    "### 删除文件"
   ]
  },
  {
   "cell_type": "markdown",
   "metadata": {
    "slideshow": {
     "slide_type": "fragment"
    }
   },
   "source": [
    "在Git中，删除也是一个修改操作。例如我们新建一个test.txt文件，输入一些内容，然后添加到版本库：\n",
    "\n",
    "    $ git add test.txt\n",
    "    $ git commit -m\"add test\"\n",
    "    [master 8247096] add test\n",
    "     1 file changed, 1 insertion(+)\n",
    "     create mode 100644 test.txt\n",
    "如果要删除文件夹中的test.txt文件，可以手动删除，也可以使用**rm**命令：\n",
    "\n",
    "    $ rm test.txt\n",
    "    $ git status\n",
    "    On branch master\n",
    "    Changes not staged for commit:\n",
    "      (use \"git add/rm <file>...\" to update what will be committed)\n",
    "      (use \"git checkout -- <file>...\" to discard changes in working directory)\n",
    "\n",
    "            deleted:    test.txt\n",
    "\n",
    "    no changes added to commit (use \"git add\" and/or \"git commit -a\")\n"
   ]
  },
  {
   "cell_type": "markdown",
   "metadata": {
    "slideshow": {
     "slide_type": "subslide"
    }
   },
   "source": [
    "Git告诉我们，可以使用**git add**或**git rm**命令并且commit到版本库来删除版本库中的文件：\n",
    "\n",
    "    $ git rm test.txt\n",
    "    rm 'test.txt'\n",
    "    $ git commit -m\"remove test\"\n",
    "    [master 585ed23] remove test\n",
    "     1 file changed, 1 deletion(-)\n",
    "     delete mode 100644 test.txt\n",
    "也可以使用**git checkout**命令来将误删掉的test.txt还原：\n",
    "\n",
    "    $ git checkout test.txt\n",
    "    \n",
    "而如果是要恢复已经删除并提交到版本库的文件，则需要**git reflog**命令，找到之前的版本号，进行版本回退。"
   ]
  },
  {
   "cell_type": "markdown",
   "metadata": {
    "slideshow": {
     "slide_type": "slide"
    }
   },
   "source": [
    "## 远程仓库"
   ]
  },
  {
   "cell_type": "markdown",
   "metadata": {
    "slideshow": {
     "slide_type": "fragment"
    }
   },
   "source": [
    "我们在本地创建了一个Git仓库后，又想在远程创建一个Git仓库，并且让这两个仓库进行远程同步，这样，远程仓库既可以作为备份，又可以让其他人通过该仓库来协作，一举多得。GitHub是一个面向开源及私有软件项目的托管平台,可以托管各种git库，并提供一个web界面，是管理软件开发以及发现已有代码的首选方法。\n",
    "\n",
    "注：在继续阅读后续内容前，请自行注册GitHub账号。"
   ]
  },
  {
   "cell_type": "markdown",
   "metadata": {
    "slideshow": {
     "slide_type": "subslide"
    }
   },
   "source": [
    "### 添加远程库"
   ]
  },
  {
   "cell_type": "markdown",
   "metadata": {
    "slideshow": {
     "slide_type": "fragment"
    }
   },
   "source": [
    "由于你的本地Git仓库和GitHub仓库之间的传输是通过SSH加密的，所以，需要一点设置：\n",
    "\n",
    "**第1步：创建SSH Key：**在用户主目录下，看看有没有.ssh目录，如果有，再看看这个目录下有没有id_rsa和id_rsa.pub这两个文件，如果已经有了，可直接跳到下一步。如果没有，打开Git，创建SSH Key：\n",
    "\n",
    "    $ ssh-keygen -t rsa -C \"youremail@example.com\"\n",
    "你需要把邮件地址换成你自己的邮件地址，然后一路回车，使用默认值即可，由于这个Key也不是用于军事目的，所以也无需设置密码。\n",
    "\n",
    "如果一切顺利的话，可以在用户主目录里找到.ssh目录，里面有id_rsa和id_rsa.pub两个文件，这两个就是SSH Key的秘钥对，id_rsa是私钥，不能泄露出去，id_rsa.pub是公钥，可以放心地告诉任何人。\n",
    "\n",
    "**第2步：**登陆GitHub，打开“Account settings”，“SSH Keys”页面：\n",
    "\n",
    "然后，点“Add SSH Key”，填上任意Title，在Key文本框里粘贴id_rsa.pub文件的内容,然后点“Add Key”，你就应该看到已经添加的Key。\n",
    "\n",
    "注：在GitHub上免费托管的Git仓库，任何人都可以看到喔（但只有你自己才能改），所以不要把敏感信息放进去。"
   ]
  },
  {
   "cell_type": "markdown",
   "metadata": {
    "slideshow": {
     "slide_type": "subslide"
    }
   },
   "source": [
    "配置好以后登陆GitHub，在右上角找到“Create a new repo”按钮，创建一个新的仓库：\n",
    "\n",
    "在Repository name填入learngit，其他保持默认设置，点击“Create repository”按钮，就成功地创建了一个新的Git仓库。目前，在GitHub上的这个learngit仓库还是空的，我们需要把本地仓库与之关联，然后把本地仓库的内容推送到GitHub仓库。\n",
    "\n",
    "在本地的learngit仓库下运行命令：\n",
    "\n",
    "    $ git remote add origin git@github.com:yourGitHub/learngit.git  #改成自己GitHub仓库地址\n",
    "\n",
    "添加后，远程库的名字就是origin，这是Git默认的叫法，也可以改成别的，但是origin这个名字一看就知道是远程库。\n",
    "\n",
    "下一步，就可以把本地库的所有内容推送到远程库上：\n",
    "\n",
    "    $ git push -u origin master\n",
    "把本地库的内容推送到远程，用**git push**命令，实际上是把当前分支master推送到远程。由于远程库是空的，我们第一次推送master分支时，加上了-u参数，Git不但会把本地的master分支内容推送的远程新的master分支，还会把本地的master分支和远程的master分支关联起来，在以后的推送或者拉取时就可以简化命令:\n",
    "\n",
    "    $ git push origin master\n",
    "把本地master分支的最新修改推送至GitHub，现在，你就拥有了真正的分布式版本库！"
   ]
  },
  {
   "cell_type": "markdown",
   "metadata": {
    "slideshow": {
     "slide_type": "subslide"
    }
   },
   "source": [
    "**ssh警告**\n",
    "\n",
    "当你第一次使用Git的clone或者push命令连接GitHub时，会得到一个警告：\n",
    "\n",
    "    The authenticity of host 'github.com (xx.xx.xx.xx)' can't be established.\n",
    "    RSA key fingerprint is xx.xx.xx.xx.xx.\n",
    "    Are you sure you want to continue connecting (yes/no)?\n",
    "这是因为Git使用SSH连接，而SSH连接在第一次验证GitHub服务器的Key时，需要你确认GitHub的Key信息是否真的来自GitHub的服务器，输入yes回车即可。\n",
    "\n",
    "Git会输出一个警告，告诉你已经把GitHub的Key添加到本机的一个信任列表里了：\n",
    "\n",
    "    Warning: Permanently added 'github.com' (RSA) to the list of known hosts.\n",
    "这个警告只会出现一次，后面的操作就不会有任何警告了。"
   ]
  },
  {
   "cell_type": "markdown",
   "metadata": {
    "slideshow": {
     "slide_type": "subslide"
    }
   },
   "source": [
    "### 从远程库克隆"
   ]
  },
  {
   "cell_type": "markdown",
   "metadata": {
    "slideshow": {
     "slide_type": "fragment"
    }
   },
   "source": [
    "使用命令**git clone**可以把远程库克隆到本地，例如将远程库gitskills克隆到本地：\n",
    "\n",
    "    $ git clone git@github.com:yourGitHub/gitskills.git\n",
    "    Cloning into 'gitskills'...\n",
    "    remote: Counting objects: 3, done.\n",
    "    remote: Total 3 (delta 0), reused 0 (delta 0), pack-reused 3\n",
    "    Receiving objects: 100% (3/3), done."
   ]
  },
  {
   "cell_type": "markdown",
   "metadata": {
    "slideshow": {
     "slide_type": "subslide"
    }
   },
   "source": [
    "注：本课件参考了廖雪峰的Git教程https://www.liaoxuefeng.com/wiki/0013739516305929606dd18361248578c67b8067c8c017b000"
   ]
  }
 ],
 "metadata": {
  "celltoolbar": "Slideshow",
  "kernelspec": {
   "display_name": "Python 3",
   "language": "python",
   "name": "python3"
  },
  "language_info": {
   "codemirror_mode": {
    "name": "ipython",
    "version": 3
   },
   "file_extension": ".py",
   "mimetype": "text/x-python",
   "name": "python",
   "nbconvert_exporter": "python",
   "pygments_lexer": "ipython3",
   "version": "3.7.0"
  },
  "toc": {
   "base_numbering": 1,
   "nav_menu": {},
   "number_sections": true,
   "sideBar": true,
   "skip_h1_title": false,
   "title_cell": "Table of Contents",
   "title_sidebar": "Contents",
   "toc_cell": false,
   "toc_position": {},
   "toc_section_display": true,
   "toc_window_display": true
  }
 },
 "nbformat": 4,
 "nbformat_minor": 2
}
