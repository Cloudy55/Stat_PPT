{
 "cells": [
  {
   "cell_type": "markdown",
   "metadata": {
    "slideshow": {
     "slide_type": "slide"
    }
   },
   "source": [
    "# Linux"
   ]
  },
  {
   "cell_type": "markdown",
   "metadata": {
    "slideshow": {
     "slide_type": "fragment"
    }
   },
   "source": [
    "Linux是一套免费使用和自由传播的类Unix操作系统，是一个基于POSIX和UNIX的多用户、多任务、支持多线程和多CPU的操作系统。我们可以通过登录中央财经大学高性能服务器来使用它，其已部署软件包括\n",
    "- 常用统计和计算软件：Python，R，Open MPI，BLAS，GCC，Julia\n",
    "- 数据库软件：MySQL\n",
    "- 大数据分布式计算框架：Hadoop, Hbase, Hive, Mahout, Spark\n",
    "- 并行计算排队以及资源分配作业系统：Slurm"
   ]
  },
  {
   "cell_type": "markdown",
   "metadata": {
    "slideshow": {
     "slide_type": "slide"
    }
   },
   "source": [
    "## 登录\n",
    "服务器采用ssh方式登录。服务器校内地址为192.168.113.164，端口为22。服务器不对校外开放。"
   ]
  },
  {
   "cell_type": "markdown",
   "metadata": {
    "slideshow": {
     "slide_type": "fragment"
    }
   },
   "source": [
    "需要高性能服务器账户的话，请向李丰老师<feng.li@cufe.edu.cn>发邮件申请，并提供以下信息\n",
    "- 姓名：\n",
    "- 学号：\n",
    "- 电子邮箱：\n",
    "- 所在院系班级：\n",
    "- 手机号码：\n",
    "- 使用用途：（科研项目需要提供项目名称和编号）"
   ]
  },
  {
   "cell_type": "markdown",
   "metadata": {
    "slideshow": {
     "slide_type": "subslide"
    }
   },
   "source": [
    "### 校内登录"
   ]
  },
  {
   "cell_type": "markdown",
   "metadata": {
    "slideshow": {
     "slide_type": "fragment"
    }
   },
   "source": [
    "**Windows用户:**请安装SSH程序Xshell 6\n",
    "\n",
    "下载地址为：（https://www.netsarang.com/download/down_form.html?code=622&downloadType=0&licenseType=1）\n",
    "在该页面填入名字及邮箱然后提交，下载链接将会发送到你的邮箱(注：该邮件可能会被拦截到垃圾邮件)，下载安装后打开，在新建会话页面输入 ssh username@192.168.113.164，在弹出窗口输入密码，即可登录。\n",
    "\n",
    "**Linux和Mac用户:**直接在终端输入ssh username@192.168.113.164"
   ]
  },
  {
   "cell_type": "markdown",
   "metadata": {
    "slideshow": {
     "slide_type": "fragment"
    }
   },
   "source": [
    "### 校外登录"
   ]
  },
  {
   "cell_type": "markdown",
   "metadata": {
    "slideshow": {
     "slide_type": "fragment"
    }
   },
   "source": [
    "请联系中央财经大学教学技术服务中心申请高性能计算共享桌面，从共享桌面Putty程序可以登录到高性能服务器。"
   ]
  },
  {
   "cell_type": "markdown",
   "metadata": {
    "slideshow": {
     "slide_type": "slide"
    }
   },
   "source": [
    "## 基本操作"
   ]
  },
  {
   "cell_type": "markdown",
   "metadata": {
    "slideshow": {
     "slide_type": "fragment"
    }
   },
   "source": [
    "使用Linux时，我们首先要切换到自己的工作目录。**cd**命令(change directory)用于切换目录,有以下几种常见形式：\n",
    "- cd      &emsp;&emsp;&emsp;&emsp;&emsp;&emsp; #切换到当前目录的父目录\n",
    "- cd ..   &emsp;&emsp;&emsp;&emsp;&emsp; #切换到当前目录的父目录\n",
    "- cd -   &emsp;&emsp;&emsp;&emsp;&emsp; #切换到上一次的工作目录\n",
    "- cd students  &emsp;&emsp;#切换到目录students"
   ]
  },
  {
   "cell_type": "markdown",
   "metadata": {
    "slideshow": {
     "slide_type": "fragment"
    }
   },
   "source": [
    "**pwd**命令用于显示当前工作目录"
   ]
  },
  {
   "cell_type": "markdown",
   "metadata": {
    "slideshow": {
     "slide_type": "fragment"
    }
   },
   "source": [
    "**mkdir**命令用于在当前目录下新建文件夹，例如\n",
    "\n",
    "    $ mkdir dir1 dir2   #新建文件夹dir1，dir2\n",
    "注意：文件名和命令区分大小写，文件名不要嵌入空格，可以使用句点、破折号、下划线。"
   ]
  },
  {
   "cell_type": "markdown",
   "metadata": {
    "slideshow": {
     "slide_type": "subslide"
    }
   },
   "source": [
    "**ls**命令可能是最常用的命令。通过它，我们可以看到目录内容并确定各种重要的文件和目录属性。例如：\n",
    "\n",
    "- ls      &emsp;&emsp;&emsp;&emsp;&emsp;&emsp; #查看当前目录中文件和子目录\n",
    "- ls students  &emsp;&emsp;#列出指定目录students中的内容，可以同时指定多个目录\n",
    "- ls -a   &emsp;&emsp;&emsp;&emsp;&emsp; #查看当前目录的所有内容（包括隐藏文件）\n",
    "- ls -A   &emsp;&emsp;&emsp;&emsp;&emsp; #列出除去父目录(..)和当前目录(.)的所有内容\n",
    "- ls -l   &emsp;&emsp;&emsp;&emsp;&emsp; #以详细格式输出当前目录中的内容\n",
    "- ls -t   &emsp;&emsp;&emsp;&emsp;&emsp; #按照更改时间排序输出当前目录中的内容\n",
    "\n",
    "注：可以同时加入多个参数，例如 ls -lt"
   ]
  },
  {
   "cell_type": "markdown",
   "metadata": {
    "slideshow": {
     "slide_type": "subslide"
    }
   },
   "source": [
    "**$ clear**或快捷键**Ctrl+L**  &emsp;&emsp;  #清屏\n",
    "\n",
    "**$ rm file**&emsp;&emsp; &emsp;&emsp; #删除文件"
   ]
  },
  {
   "cell_type": "markdown",
   "metadata": {
    "slideshow": {
     "slide_type": "fragment"
    }
   },
   "source": [
    "**$ exit**  &emsp;&emsp; #退出登录"
   ]
  },
  {
   "cell_type": "markdown",
   "metadata": {
    "slideshow": {
     "slide_type": "fragment"
    }
   },
   "source": [
    "**$ date**  &emsp;&emsp;#获取当前日期及时间\n",
    "\n",
    "**$ cal**  &emsp;&emsp;#获取当月日历"
   ]
  },
  {
   "cell_type": "markdown",
   "metadata": {
    "slideshow": {
     "slide_type": "fragment"
    }
   },
   "source": [
    "**$ R**   &emsp;&emsp;&emsp;#启用R程序\n",
    "\n",
    "**$ q()**   &emsp;&emsp;#退出R,需要选择是(y)否(n)保存工作空间或取消退出(c) "
   ]
  },
  {
   "cell_type": "markdown",
   "metadata": {
    "slideshow": {
     "slide_type": "subslide"
    }
   },
   "source": [
    "**vi编辑器**\n",
    "\n",
    "可以利用**touch**命令新建一个test1.txt文件：\n",
    "\n",
    "    $ touch test1.txt\n",
    "然后进入**vi**编辑器页面：\n",
    "\n",
    "    $ vi test1.txt\n",
    "上述命令也可以用于直接新建并打开test1.txt。此时是命令行模式，按一下键盘上的“i”进入插入模式，就可以编辑文本了。如果想保存并退出，点击一下键盘上的\"ESC\",然后输入\"**:wq!**\",这样就将文本保存并且退出了vi编辑器。如果不想保存就按一下键盘上的\"ESC\",输入\"**:q!**\"。\n",
    "\n",
    "最后，通过**cat**命令检查文件内容：\n",
    "\n",
    "    $ cat test1.txt"
   ]
  },
  {
   "cell_type": "markdown",
   "metadata": {
    "slideshow": {
     "slide_type": "subslide"
    }
   },
   "source": [
    "**nano编辑器**\n",
    "\n",
    "nano命令可以新建或打开一个文件：\n",
    "\n",
    "    $ nano test2.txt\n",
    "\n",
    "nano默认自动换行，加入参数-w可以禁止：\n",
    "\n",
    "    $ nano -w test2.txt\n",
    "    \n",
    "下面介绍一些快捷键：\n",
    "\n",
    "保存修改: Ctrl+O;  退出：Ctrl+X;\n",
    "\n",
    "剪切一行：Ctrl+K;  粘贴：Ctrl+U;"
   ]
  },
  {
   "cell_type": "markdown",
   "metadata": {
    "slideshow": {
     "slide_type": "subslide"
    }
   },
   "source": [
    "## 执行BATCH任务"
   ]
  },
  {
   "cell_type": "markdown",
   "metadata": {
    "slideshow": {
     "slide_type": "fragment"
    }
   },
   "source": [
    "### 上传文件"
   ]
  },
  {
   "cell_type": "markdown",
   "metadata": {
    "slideshow": {
     "slide_type": "fragment"
    }
   },
   "source": [
    "- Windows用户需要下载安装文件传输程序FileZilla（https://filezilla-project.org/download.php?type=server）\n",
    "\n",
    "    主机：sftp://192.168.113.164\n",
    "    \n",
    "    用户名：username\n",
    "    \n",
    "    密码：********\n",
    "    \n",
    "    端口：22\n",
    "    \n",
    "    左侧选择本地文件，右侧选择远程文件，可下载或上传\n",
    "\n",
    "- Linux用户可以使用scp或者rsync命令上传"
   ]
  },
  {
   "cell_type": "markdown",
   "metadata": {
    "slideshow": {
     "slide_type": "subslide"
    }
   },
   "source": [
    "假如我们上传了parity.py文件到当前目录，则可以使用命令\n",
    "\n",
    "    $ python parity.py\n",
    "来执行parity.py程序。\n",
    "\n",
    "如果文件不是在当前目录，可以切换目录，或者在文件名前加入路径。"
   ]
  },
  {
   "cell_type": "markdown",
   "metadata": {
    "slideshow": {
     "slide_type": "subslide"
    }
   },
   "source": [
    "### 新建SH文件"
   ]
  },
  {
   "cell_type": "markdown",
   "metadata": {
    "slideshow": {
     "slide_type": "fragment"
    }
   },
   "source": [
    "SH文件多用于程序开发人员，是Unix/Linux操作系统的脚本文件。在服务器上代码所在的相同文件夹内建一个以.sh为扩展名的文件,假设为slurm.sh:\n",
    "\n",
    "    $ nano slurm.sh\n",
    "编辑该文件如下所示：（注意所有的空格和短线）\n",
    "\n",
    "    #!/bin/bash -l\n",
    "    #SBATCH -n 1                     #内核数，如果不做并行计算,指定一个核就可以\n",
    "    #SBATCH -t 1-00:00                 #运行时间格式为D-HH:MM，超出指定时间，系统会自动关闭程序\n",
    "    #SBATCH -o program.out               #输出文件\n",
    "    #SBATCH -e program.err               #错误提示文件\n",
    "    #SBATCH --mail-type=ALL\n",
    "    #SBATCH --mail-user=yourmail@mail.com    #任务完成情况发送到自己指定的邮箱\n",
    "    mpirun python parity.py\n",
    "\n",
    "你可以自定义运行时间、输出文件名、错误提示文件名，不必按上述模板写。\n",
    "\n",
    "按Ctrl+X保存并退出编辑。"
   ]
  },
  {
   "cell_type": "markdown",
   "metadata": {
    "slideshow": {
     "slide_type": "subslide"
    }
   },
   "source": [
    "### 提交任务"
   ]
  },
  {
   "cell_type": "markdown",
   "metadata": {
    "slideshow": {
     "slide_type": "fragment"
    }
   },
   "source": [
    "使用**sbatch**命令提交任务：\n",
    "\n",
    "    $ sbatch slurm.sh\n",
    "    \n",
    "若要查看已经提交的任务以及任务ID（JOBID）使用命令：\n",
    "\n",
    "    $ squeue -u yourusername\n",
    "\n",
    "若要取消已经提交的任务，使用命令：\n",
    "\n",
    "    $ scancel JOBID  #改成你自己任务对应的ID\n",
    "\n",
    "提交完任务你就可以退出系统了。程序运行结束系统会以邮件通知，你也可以同时提交多个BATCH任务，系统会根据计算机资源排队安排计算。"
   ]
  },
  {
   "cell_type": "markdown",
   "metadata": {
    "slideshow": {
     "slide_type": "subslide"
    }
   },
   "source": [
    "任务执行完成后，可以使用**cat**命令查看输出文件：\n",
    "\n",
    "    $ cat program.out\n",
    "    $ cat program.err"
   ]
  },
  {
   "cell_type": "markdown",
   "metadata": {
    "slideshow": {
     "slide_type": "fragment"
    }
   },
   "source": [
    "注意：登录节点nod0主要是用来维护和提交任务的，不能在上面直接做计算。所有的任务都要通过sbatch 命令来提交。"
   ]
  }
 ],
 "metadata": {
  "celltoolbar": "Slideshow",
  "kernelspec": {
   "display_name": "Python 3",
   "language": "python",
   "name": "python3"
  },
  "language_info": {
   "codemirror_mode": {
    "name": "ipython",
    "version": 3
   },
   "file_extension": ".py",
   "mimetype": "text/x-python",
   "name": "python",
   "nbconvert_exporter": "python",
   "pygments_lexer": "ipython3",
   "version": "3.7.0"
  },
  "toc": {
   "base_numbering": 1,
   "nav_menu": {},
   "number_sections": true,
   "sideBar": true,
   "skip_h1_title": false,
   "title_cell": "Table of Contents",
   "title_sidebar": "Contents",
   "toc_cell": false,
   "toc_position": {
    "height": "calc(100% - 180px)",
    "left": "10px",
    "top": "150px",
    "width": "273.188px"
   },
   "toc_section_display": true,
   "toc_window_display": true
  }
 },
 "nbformat": 4,
 "nbformat_minor": 2
}
